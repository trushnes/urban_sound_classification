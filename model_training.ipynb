{
  "nbformat": 4,
  "nbformat_minor": 0,
  "metadata": {
    "colab": {
      "name": "model_training.ipynb",
      "provenance": [],
      "collapsed_sections": [],
      "authorship_tag": "ABX9TyOnY9jSby6zvEpB5apWD6PY"
    },
    "kernelspec": {
      "name": "python3",
      "display_name": "Python 3"
    },
    "accelerator": "GPU"
  },
  "cells": [
    {
      "cell_type": "markdown",
      "metadata": {
        "id": "Dbw9pYSAwPcn"
      },
      "source": [
        "### ***Contributed By:-***\n",
        "Tarushi Jat\n",
        "\n",
        "### **Notebook III: Training CNN & VGG16 Model**\n",
        "\n",
        "****"
      ]
    },
    {
      "cell_type": "markdown",
      "metadata": {
        "id": "FDIdZwT4E2xX"
      },
      "source": [
        "## **1. Libraries**"
      ]
    },
    {
      "cell_type": "code",
      "metadata": {
        "id": "edTjHSupDvgt"
      },
      "source": [
        "import sys\n",
        "import os\n",
        "import IPython\n",
        "import math\n",
        "import numpy as np\n",
        "import pandas as pd\n",
        "import pickle\n",
        "import matplotlib.pyplot as plt\n",
        "%matplotlib inline\n",
        "import seaborn as sb\n",
        "\n",
        "import random\n",
        "from datetime import datetime\n",
        "from keras.models import Sequential, load_model\n",
        "from keras.layers import Dense, SpatialDropout2D, Activation, Conv2D, MaxPooling2D, BatchNormalization, GlobalAveragePooling2D, LeakyReLU\n",
        "from keras.optimizers import Adam\n",
        "from keras.utils import to_categorical\n",
        "from keras.regularizers import l2\n",
        "from sklearn.preprocessing import LabelEncoder\n",
        "from sklearn.metrics import classification_report, confusion_matrix"
      ],
      "execution_count": null,
      "outputs": []
    },
    {
      "cell_type": "markdown",
      "metadata": {
        "id": "vrGBsTD1E9HA"
      },
      "source": [
        "## **2. Urban Sound Dataset**"
      ]
    },
    {
      "cell_type": "code",
      "metadata": {
        "colab": {
          "base_uri": "https://localhost:8080/"
        },
        "id": "xG6rNjHfFa4Y",
        "outputId": "da1a8325-ecb6-41c4-eecb-a7142f123331"
      },
      "source": [
        "from google.colab import drive\n",
        "drive.mount('/content/drive')"
      ],
      "execution_count": null,
      "outputs": [
        {
          "output_type": "stream",
          "text": [
            "Mounted at /content/drive\n"
          ],
          "name": "stdout"
        }
      ]
    },
    {
      "cell_type": "code",
      "metadata": {
        "id": "0YsSfKORb6JZ"
      },
      "source": [
        "audio_path = '/content/drive/MyDrive/Projects/UrbanSound'\n",
        "metadata_path = '/content/drive/MyDrive/Projects/UrbanSound8K.csv'"
      ],
      "execution_count": null,
      "outputs": []
    },
    {
      "cell_type": "code",
      "metadata": {
        "colab": {
          "base_uri": "https://localhost:8080/",
          "height": 343
        },
        "id": "i20Vdy4BcTS0",
        "outputId": "841daecd-67a3-4957-ded2-6b6188243db7"
      },
      "source": [
        "metadata = pd.read_csv(metadata_path)\n",
        "metadata.head(10)"
      ],
      "execution_count": null,
      "outputs": [
        {
          "output_type": "execute_result",
          "data": {
            "text/html": [
              "<div>\n",
              "<style scoped>\n",
              "    .dataframe tbody tr th:only-of-type {\n",
              "        vertical-align: middle;\n",
              "    }\n",
              "\n",
              "    .dataframe tbody tr th {\n",
              "        vertical-align: top;\n",
              "    }\n",
              "\n",
              "    .dataframe thead th {\n",
              "        text-align: right;\n",
              "    }\n",
              "</style>\n",
              "<table border=\"1\" class=\"dataframe\">\n",
              "  <thead>\n",
              "    <tr style=\"text-align: right;\">\n",
              "      <th></th>\n",
              "      <th>slice_file_name</th>\n",
              "      <th>fsID</th>\n",
              "      <th>start</th>\n",
              "      <th>end</th>\n",
              "      <th>salience</th>\n",
              "      <th>fold</th>\n",
              "      <th>classID</th>\n",
              "      <th>class</th>\n",
              "    </tr>\n",
              "  </thead>\n",
              "  <tbody>\n",
              "    <tr>\n",
              "      <th>0</th>\n",
              "      <td>100032-3-0-0.wav</td>\n",
              "      <td>100032</td>\n",
              "      <td>0.000000</td>\n",
              "      <td>0.317551</td>\n",
              "      <td>1</td>\n",
              "      <td>5</td>\n",
              "      <td>3</td>\n",
              "      <td>dog_bark</td>\n",
              "    </tr>\n",
              "    <tr>\n",
              "      <th>1</th>\n",
              "      <td>100263-2-0-117.wav</td>\n",
              "      <td>100263</td>\n",
              "      <td>58.500000</td>\n",
              "      <td>62.500000</td>\n",
              "      <td>1</td>\n",
              "      <td>5</td>\n",
              "      <td>2</td>\n",
              "      <td>children_playing</td>\n",
              "    </tr>\n",
              "    <tr>\n",
              "      <th>2</th>\n",
              "      <td>100263-2-0-121.wav</td>\n",
              "      <td>100263</td>\n",
              "      <td>60.500000</td>\n",
              "      <td>64.500000</td>\n",
              "      <td>1</td>\n",
              "      <td>5</td>\n",
              "      <td>2</td>\n",
              "      <td>children_playing</td>\n",
              "    </tr>\n",
              "    <tr>\n",
              "      <th>3</th>\n",
              "      <td>100263-2-0-126.wav</td>\n",
              "      <td>100263</td>\n",
              "      <td>63.000000</td>\n",
              "      <td>67.000000</td>\n",
              "      <td>1</td>\n",
              "      <td>5</td>\n",
              "      <td>2</td>\n",
              "      <td>children_playing</td>\n",
              "    </tr>\n",
              "    <tr>\n",
              "      <th>4</th>\n",
              "      <td>100263-2-0-137.wav</td>\n",
              "      <td>100263</td>\n",
              "      <td>68.500000</td>\n",
              "      <td>72.500000</td>\n",
              "      <td>1</td>\n",
              "      <td>5</td>\n",
              "      <td>2</td>\n",
              "      <td>children_playing</td>\n",
              "    </tr>\n",
              "    <tr>\n",
              "      <th>5</th>\n",
              "      <td>100263-2-0-143.wav</td>\n",
              "      <td>100263</td>\n",
              "      <td>71.500000</td>\n",
              "      <td>75.500000</td>\n",
              "      <td>1</td>\n",
              "      <td>5</td>\n",
              "      <td>2</td>\n",
              "      <td>children_playing</td>\n",
              "    </tr>\n",
              "    <tr>\n",
              "      <th>6</th>\n",
              "      <td>100263-2-0-161.wav</td>\n",
              "      <td>100263</td>\n",
              "      <td>80.500000</td>\n",
              "      <td>84.500000</td>\n",
              "      <td>1</td>\n",
              "      <td>5</td>\n",
              "      <td>2</td>\n",
              "      <td>children_playing</td>\n",
              "    </tr>\n",
              "    <tr>\n",
              "      <th>7</th>\n",
              "      <td>100263-2-0-3.wav</td>\n",
              "      <td>100263</td>\n",
              "      <td>1.500000</td>\n",
              "      <td>5.500000</td>\n",
              "      <td>1</td>\n",
              "      <td>5</td>\n",
              "      <td>2</td>\n",
              "      <td>children_playing</td>\n",
              "    </tr>\n",
              "    <tr>\n",
              "      <th>8</th>\n",
              "      <td>100263-2-0-36.wav</td>\n",
              "      <td>100263</td>\n",
              "      <td>18.000000</td>\n",
              "      <td>22.000000</td>\n",
              "      <td>1</td>\n",
              "      <td>5</td>\n",
              "      <td>2</td>\n",
              "      <td>children_playing</td>\n",
              "    </tr>\n",
              "    <tr>\n",
              "      <th>9</th>\n",
              "      <td>100648-1-0-0.wav</td>\n",
              "      <td>100648</td>\n",
              "      <td>4.823402</td>\n",
              "      <td>5.471927</td>\n",
              "      <td>2</td>\n",
              "      <td>10</td>\n",
              "      <td>1</td>\n",
              "      <td>car_horn</td>\n",
              "    </tr>\n",
              "  </tbody>\n",
              "</table>\n",
              "</div>"
            ],
            "text/plain": [
              "      slice_file_name    fsID      start  ...  fold  classID             class\n",
              "0    100032-3-0-0.wav  100032   0.000000  ...     5        3          dog_bark\n",
              "1  100263-2-0-117.wav  100263  58.500000  ...     5        2  children_playing\n",
              "2  100263-2-0-121.wav  100263  60.500000  ...     5        2  children_playing\n",
              "3  100263-2-0-126.wav  100263  63.000000  ...     5        2  children_playing\n",
              "4  100263-2-0-137.wav  100263  68.500000  ...     5        2  children_playing\n",
              "5  100263-2-0-143.wav  100263  71.500000  ...     5        2  children_playing\n",
              "6  100263-2-0-161.wav  100263  80.500000  ...     5        2  children_playing\n",
              "7    100263-2-0-3.wav  100263   1.500000  ...     5        2  children_playing\n",
              "8   100263-2-0-36.wav  100263  18.000000  ...     5        2  children_playing\n",
              "9    100648-1-0-0.wav  100648   4.823402  ...    10        1          car_horn\n",
              "\n",
              "[10 rows x 8 columns]"
            ]
          },
          "metadata": {
            "tags": []
          },
          "execution_count": 8
        }
      ]
    },
    {
      "cell_type": "markdown",
      "metadata": {
        "id": "ZkVkihNfLdTp"
      },
      "source": [
        "## **3. Methods for Performance Metrics Measures & Graph Plotting**"
      ]
    },
    {
      "cell_type": "code",
      "metadata": {
        "id": "zG29hNasLeT-"
      },
      "source": [
        "def evaluate_model(model, X_train, y_train, X_test, y_test):\n",
        "    train_score = model.evaluate(X_train, y_train, verbose=0)\n",
        "    test_score = model.evaluate(X_test, y_test, verbose=0)\n",
        "    return train_score, test_score"
      ],
      "execution_count": null,
      "outputs": []
    },
    {
      "cell_type": "code",
      "metadata": {
        "id": "JPy2EIaDLnMx"
      },
      "source": [
        "def model_evaluation_report(model, X_train, y_train, X_test, y_test, calc_normal=True):\n",
        "    dash = '-' * 38\n",
        "    train_score, test_score = evaluate_model(model, X_train, y_train, X_test, y_test)\n",
        "    \n",
        "    print('{:<10s}{:>14s}{:>14s}'.format(\"\", \"LOSS\", \"ACCURACY\"))\n",
        "    print(dash)\n",
        "    print('{:<10s}{:>14.4f}{:>14.4f}'.format( \"Training:\", train_score[0], 100 * train_score[1]))\n",
        "    print('{:<10s}{:>14.4f}{:>14.4f}'.format( \"Test:\", test_score[0], 100 * test_score[1]))\n",
        "    if (calc_normal):\n",
        "        max_err = max(train_score[0], test_score[0])\n",
        "        error_diff = max_err - min(train_score[0], test_score[0])\n",
        "        normal_diff = error_diff * 100 / max_err\n",
        "        print('{:<10s}{:>13.2f}{:>1s}'.format(\"Normal diff \", normal_diff, \"\"))"
      ],
      "execution_count": null,
      "outputs": []
    },
    {
      "cell_type": "code",
      "metadata": {
        "id": "TrZVp2KeL7HH"
      },
      "source": [
        "def acc_plot(m):\n",
        "  plt.figure(figsize=(8,5))\n",
        "  sb.set_style(\"whitegrid\")\n",
        "  plt.plot(m.history['accuracy'],color=\"#E74C3C\",marker='o')\n",
        "  plt.plot(m.history['val_accuracy'],color='#641E16',marker='h')\n",
        "  plt.title('Accuracy comparison between Validation and Train Data set',fontsize=15)\n",
        "  plt.ylabel('Accuracy')\n",
        "  plt.xlabel('Epoch')\n",
        "  plt.legend(['Train', 'Test'], loc='best')\n",
        "  plt.show()"
      ],
      "execution_count": null,
      "outputs": []
    },
    {
      "cell_type": "code",
      "metadata": {
        "id": "7ey2SByCL8Zj"
      },
      "source": [
        "def loss_plot(m):\n",
        "  plt.figure(figsize=(8,5))\n",
        "  sb.set_style(\"whitegrid\")\n",
        "  plt.plot(m.history['loss'],color=\"#E74C3C\",marker='o')\n",
        "  plt.plot(m.history['val_loss'],color='#641E16',marker='h')\n",
        "  plt.title('Loss comparison between Validation and Train Data set',fontsize=15)\n",
        "  plt.ylabel('Accuracy')\n",
        "  plt.xlabel('Epoch')\n",
        "  plt.legend(['Train', 'Test'], loc='best')\n",
        "  plt.show()"
      ],
      "execution_count": null,
      "outputs": []
    },
    {
      "cell_type": "code",
      "metadata": {
        "id": "klRtyqIJlvCz"
      },
      "source": [
        "def acc_per_class(np_probs_array):    \n",
        "    accs = []\n",
        "    for idx in range(0, np_probs_array.shape[0]):\n",
        "        correct = np_probs_array[idx][idx].astype(int)\n",
        "        total = np_probs_array[idx].sum().astype(int)\n",
        "        acc = (correct / total) * 100\n",
        "        accs.append(acc)\n",
        "    return accs"
      ],
      "execution_count": null,
      "outputs": []
    },
    {
      "cell_type": "markdown",
      "metadata": {
        "id": "yFkKGzZPFuZQ"
      },
      "source": [
        "## **4. Loading Extracted MFCCs**"
      ]
    },
    {
      "cell_type": "code",
      "metadata": {
        "id": "AB4sprlRbmuW"
      },
      "source": [
        "X = np.load(\"/content/drive/MyDrive/Projects/UrbanSound/X-mfcc.npy\")\n",
        "y = np.load(\"/content/drive/MyDrive/Projects/UrbanSound/y-mfcc.npy\")"
      ],
      "execution_count": null,
      "outputs": []
    },
    {
      "cell_type": "markdown",
      "metadata": {
        "id": "8JVnL-vQF8OG"
      },
      "source": [
        "## **5. Train and Test Splitting**"
      ]
    },
    {
      "cell_type": "code",
      "metadata": {
        "id": "tbrvoDS1GAnF"
      },
      "source": [
        "indexes = []\n",
        "total = 8262 #Some files was corrupted...so I just ignored them.\n",
        "indexes = list(range(0, total))\n",
        "random.shuffle(indexes) #Randomizing Indexes"
      ],
      "execution_count": null,
      "outputs": []
    },
    {
      "cell_type": "code",
      "metadata": {
        "id": "WCVGML2UGeqp"
      },
      "source": [
        "test_split_pct = 20\n",
        "split_offset = math.floor(test_split_pct * total / 100)"
      ],
      "execution_count": null,
      "outputs": []
    },
    {
      "cell_type": "code",
      "metadata": {
        "id": "Q59KkkFwG_2j"
      },
      "source": [
        "test_split_idx = indexes[0:split_offset]\n",
        "train_split_idx = indexes[split_offset:total]"
      ],
      "execution_count": null,
      "outputs": []
    },
    {
      "cell_type": "code",
      "metadata": {
        "id": "JiWiomRZHUnh"
      },
      "source": [
        "#Spliting the features with the same indexes\n",
        "X_test = np.take(X, test_split_idx, axis=0)\n",
        "y_test = np.take(y, test_split_idx, axis=0)\n",
        "X_train = np.take(X, train_split_idx, axis=0)\n",
        "y_train = np.take(y, train_split_idx, axis=0)"
      ],
      "execution_count": null,
      "outputs": []
    },
    {
      "cell_type": "code",
      "metadata": {
        "id": "eUvGgGC1HZ4S"
      },
      "source": [
        "#Also spliting metadata\n",
        "test_meta = metadata.iloc[test_split_idx]\n",
        "train_meta = metadata.iloc[train_split_idx]"
      ],
      "execution_count": null,
      "outputs": []
    },
    {
      "cell_type": "code",
      "metadata": {
        "colab": {
          "base_uri": "https://localhost:8080/"
        },
        "id": "LtcFaHR6GT6z",
        "outputId": "2af67609-8bea-4d86-edd0-de8045240cf1"
      },
      "source": [
        "print(\"--------------------Test Data Details--------------------\")\n",
        "print(\"Test split: {} \".format(len(test_meta)))\n",
        "print(\"X test shape: {} \".format(X_test.shape))\n",
        "print(\"y test shape: {} \".format(y_test.shape))\n",
        "print(\"--------------------Train Data Details--------------------\")\n",
        "print(\"Train split: {}\".format(len(train_meta)))\n",
        "print(\"X train shape: {}\".format(X_train.shape))\n",
        "print(\"y train shape: {}\".format(y_train.shape))"
      ],
      "execution_count": null,
      "outputs": [
        {
          "output_type": "stream",
          "text": [
            "--------------------Test Data Details--------------------\n",
            "Test split: 1652 \n",
            "X test shape: (1652, 40, 174) \n",
            "y test shape: (1652,) \n",
            "--------------------Train Data Details--------------------\n",
            "Train split: 6610\n",
            "X train shape: (6610, 40, 174)\n",
            "y train shape: (6610,)\n"
          ],
          "name": "stdout"
        }
      ]
    },
    {
      "cell_type": "markdown",
      "metadata": {
        "id": "rFwsof0zIdlF"
      },
      "source": [
        "## **6. Normalizing the Data**"
      ]
    },
    {
      "cell_type": "code",
      "metadata": {
        "id": "Se-b8OBWI_xH"
      },
      "source": [
        "num_rows = 40\n",
        "num_columns = 174\n",
        "num_channels = 1"
      ],
      "execution_count": null,
      "outputs": []
    },
    {
      "cell_type": "code",
      "metadata": {
        "id": "4O0zZudjIvPy"
      },
      "source": [
        "le = LabelEncoder()\n",
        "y_test_encoded = to_categorical(le.fit_transform(y_test))\n",
        "y_train_encoded = to_categorical(le.fit_transform(y_train))"
      ],
      "execution_count": null,
      "outputs": []
    },
    {
      "cell_type": "code",
      "metadata": {
        "id": "6mYvo0gzGeJ7"
      },
      "source": [
        "# Reshape to fit the network input (channel last)\n",
        "X_train = X_train.reshape(X_train.shape[0], num_rows, num_columns, num_channels)\n",
        "X_test = X_test.reshape(X_test.shape[0], num_rows, num_columns, num_channels)"
      ],
      "execution_count": null,
      "outputs": []
    },
    {
      "cell_type": "code",
      "metadata": {
        "id": "Ui4EAYWAIzUl"
      },
      "source": [
        "# Total number of labels to predict (equal to the network output nodes)\n",
        "num_labels = y_train_encoded.shape[1]"
      ],
      "execution_count": null,
      "outputs": []
    },
    {
      "cell_type": "markdown",
      "metadata": {
        "id": "004HjkU8AD8B"
      },
      "source": [
        "## **7. CNN Model Architecture - 1**"
      ]
    },
    {
      "cell_type": "code",
      "metadata": {
        "id": "CG-CUr1SAD8C"
      },
      "source": [
        "def create_model(spatial_dropout_rate_1=0, spatial_dropout_rate_2=0, l2_rate=0):\n",
        "\n",
        "    model = Sequential()\n",
        "    model.add(Conv2D(filters=32, kernel_size=(3, 3), kernel_regularizer=l2(l2_rate), input_shape=(num_rows, num_columns, num_channels)))\n",
        "    model.add(LeakyReLU(alpha=0.1))\n",
        "\n",
        "    \n",
        "    model.add(Conv2D(filters=32, kernel_size=(3, 3), kernel_regularizer=l2(l2_rate)))\n",
        "    model.add(LeakyReLU(alpha=0.1))\n",
        "\n",
        "    model.add(MaxPooling2D(pool_size=(2, 2)))\n",
        "\n",
        "    \n",
        "    model.add(Conv2D(filters=64, kernel_size=(3, 3), kernel_regularizer=l2(l2_rate)))\n",
        "    model.add(LeakyReLU(alpha=0.1))\n",
        "\n",
        "    \n",
        "    model.add(Conv2D(filters=64, kernel_size=(3,3), kernel_regularizer=l2(l2_rate)))\n",
        "    model.add(LeakyReLU(alpha=0.1))\n",
        "    \n",
        "    model.add(GlobalAveragePooling2D())\n",
        "    model.add(Dense(num_labels, activation='softmax'))\n",
        "    return model"
      ],
      "execution_count": null,
      "outputs": []
    },
    {
      "cell_type": "code",
      "metadata": {
        "id": "NpO9WJSrAD8C"
      },
      "source": [
        "#Regularization rates\n",
        "spatial_dropout_rate_1 = 0.07\n",
        "spatial_dropout_rate_2 = 0.14\n",
        "l2_rate = 0.0005\n",
        "#Calling Model\n",
        "model = create_model(spatial_dropout_rate_1, spatial_dropout_rate_2, l2_rate)"
      ],
      "execution_count": null,
      "outputs": []
    },
    {
      "cell_type": "code",
      "metadata": {
        "colab": {
          "base_uri": "https://localhost:8080/"
        },
        "id": "LMdvu1nVAD8D",
        "outputId": "b0f3721a-e38c-46c8-f856-99a104d9a374"
      },
      "source": [
        "model.summary()"
      ],
      "execution_count": null,
      "outputs": [
        {
          "output_type": "stream",
          "text": [
            "Model: \"sequential\"\n",
            "_________________________________________________________________\n",
            "Layer (type)                 Output Shape              Param #   \n",
            "=================================================================\n",
            "conv2d (Conv2D)              (None, 38, 172, 32)       320       \n",
            "_________________________________________________________________\n",
            "leaky_re_lu (LeakyReLU)      (None, 38, 172, 32)       0         \n",
            "_________________________________________________________________\n",
            "conv2d_1 (Conv2D)            (None, 36, 170, 32)       9248      \n",
            "_________________________________________________________________\n",
            "leaky_re_lu_1 (LeakyReLU)    (None, 36, 170, 32)       0         \n",
            "_________________________________________________________________\n",
            "max_pooling2d (MaxPooling2D) (None, 18, 85, 32)        0         \n",
            "_________________________________________________________________\n",
            "conv2d_2 (Conv2D)            (None, 16, 83, 64)        18496     \n",
            "_________________________________________________________________\n",
            "leaky_re_lu_2 (LeakyReLU)    (None, 16, 83, 64)        0         \n",
            "_________________________________________________________________\n",
            "conv2d_3 (Conv2D)            (None, 14, 81, 64)        36928     \n",
            "_________________________________________________________________\n",
            "leaky_re_lu_3 (LeakyReLU)    (None, 14, 81, 64)        0         \n",
            "_________________________________________________________________\n",
            "global_average_pooling2d (Gl (None, 64)                0         \n",
            "_________________________________________________________________\n",
            "dense (Dense)                (None, 10)                650       \n",
            "=================================================================\n",
            "Total params: 65,642\n",
            "Trainable params: 65,642\n",
            "Non-trainable params: 0\n",
            "_________________________________________________________________\n"
          ],
          "name": "stdout"
        }
      ]
    },
    {
      "cell_type": "code",
      "metadata": {
        "id": "0MFGnz9-AD8E"
      },
      "source": [
        "adam = Adam(lr=1e-4, beta_1=0.99, beta_2=0.999)\n",
        "model.compile(loss='categorical_crossentropy', metrics=['accuracy'], optimizer=adam)"
      ],
      "execution_count": null,
      "outputs": []
    },
    {
      "cell_type": "code",
      "metadata": {
        "id": "pg3vY-mAsfRG"
      },
      "source": [
        "from keras.callbacks import EarlyStopping\n",
        "early = EarlyStopping(monitor='val_accuracy', min_delta=0, patience=25, verbose=1, mode='auto')"
      ],
      "execution_count": null,
      "outputs": []
    },
    {
      "cell_type": "code",
      "metadata": {
        "colab": {
          "base_uri": "https://localhost:8080/"
        },
        "id": "hT3LziXoAD8F",
        "outputId": "a640a4c1-db21-4a6a-811f-57c9e96da120"
      },
      "source": [
        "history = model.fit(X_train, y_train_encoded, batch_size=128, epochs=250, validation_split=1/12., verbose=1, callbacks=[early])"
      ],
      "execution_count": null,
      "outputs": [
        {
          "output_type": "stream",
          "text": [
            "Epoch 1/250\n",
            "48/48 [==============================] - 38s 84ms/step - loss: 2.3670 - accuracy: 0.1098 - val_loss: 2.3390 - val_accuracy: 0.1234\n",
            "Epoch 2/250\n",
            "48/48 [==============================] - 3s 55ms/step - loss: 2.3325 - accuracy: 0.1187 - val_loss: 2.2891 - val_accuracy: 0.1234\n",
            "Epoch 3/250\n",
            "48/48 [==============================] - 3s 54ms/step - loss: 2.2938 - accuracy: 0.1171 - val_loss: 2.2523 - val_accuracy: 0.1234\n",
            "Epoch 4/250\n",
            "48/48 [==============================] - 3s 54ms/step - loss: 2.2542 - accuracy: 0.1209 - val_loss: 2.2167 - val_accuracy: 0.1125\n",
            "Epoch 5/250\n",
            "48/48 [==============================] - 3s 55ms/step - loss: 2.2247 - accuracy: 0.1159 - val_loss: 2.1868 - val_accuracy: 0.1379\n",
            "Epoch 6/250\n",
            "48/48 [==============================] - 3s 55ms/step - loss: 2.1998 - accuracy: 0.1441 - val_loss: 2.1503 - val_accuracy: 0.2087\n",
            "Epoch 7/250\n",
            "48/48 [==============================] - 3s 55ms/step - loss: 2.1824 - accuracy: 0.1821 - val_loss: 2.1168 - val_accuracy: 0.2250\n",
            "Epoch 8/250\n",
            "48/48 [==============================] - 3s 55ms/step - loss: 2.1467 - accuracy: 0.1881 - val_loss: 2.0837 - val_accuracy: 0.1906\n",
            "Epoch 9/250\n",
            "48/48 [==============================] - 3s 55ms/step - loss: 2.1135 - accuracy: 0.1910 - val_loss: 2.0481 - val_accuracy: 0.2232\n",
            "Epoch 10/250\n",
            "48/48 [==============================] - 3s 55ms/step - loss: 2.0712 - accuracy: 0.1994 - val_loss: 2.0249 - val_accuracy: 0.2450\n",
            "Epoch 11/250\n",
            "48/48 [==============================] - 3s 55ms/step - loss: 2.0638 - accuracy: 0.2331 - val_loss: 2.0041 - val_accuracy: 0.2958\n",
            "Epoch 12/250\n",
            "48/48 [==============================] - 3s 55ms/step - loss: 2.0380 - accuracy: 0.2768 - val_loss: 1.9785 - val_accuracy: 0.2849\n",
            "Epoch 13/250\n",
            "48/48 [==============================] - 3s 55ms/step - loss: 2.0046 - accuracy: 0.2887 - val_loss: 1.9526 - val_accuracy: 0.3031\n",
            "Epoch 14/250\n",
            "48/48 [==============================] - 3s 56ms/step - loss: 1.9916 - accuracy: 0.2901 - val_loss: 1.9170 - val_accuracy: 0.3212\n",
            "Epoch 15/250\n",
            "48/48 [==============================] - 3s 56ms/step - loss: 1.9525 - accuracy: 0.3114 - val_loss: 1.8859 - val_accuracy: 0.3230\n",
            "Epoch 16/250\n",
            "48/48 [==============================] - 3s 56ms/step - loss: 1.9320 - accuracy: 0.3087 - val_loss: 1.8594 - val_accuracy: 0.3249\n",
            "Epoch 17/250\n",
            "48/48 [==============================] - 3s 56ms/step - loss: 1.9063 - accuracy: 0.3203 - val_loss: 1.8296 - val_accuracy: 0.3212\n",
            "Epoch 18/250\n",
            "48/48 [==============================] - 3s 56ms/step - loss: 1.8949 - accuracy: 0.3070 - val_loss: 1.8113 - val_accuracy: 0.3285\n",
            "Epoch 19/250\n",
            "48/48 [==============================] - 3s 56ms/step - loss: 1.8743 - accuracy: 0.3240 - val_loss: 1.7939 - val_accuracy: 0.3485\n",
            "Epoch 20/250\n",
            "48/48 [==============================] - 3s 57ms/step - loss: 1.8692 - accuracy: 0.3417 - val_loss: 1.7744 - val_accuracy: 0.3358\n",
            "Epoch 21/250\n",
            "48/48 [==============================] - 3s 56ms/step - loss: 1.8206 - accuracy: 0.3434 - val_loss: 1.7548 - val_accuracy: 0.3702\n",
            "Epoch 22/250\n",
            "48/48 [==============================] - 3s 56ms/step - loss: 1.8173 - accuracy: 0.3477 - val_loss: 1.7425 - val_accuracy: 0.3666\n",
            "Epoch 23/250\n",
            "48/48 [==============================] - 3s 57ms/step - loss: 1.7971 - accuracy: 0.3541 - val_loss: 1.7198 - val_accuracy: 0.3902\n",
            "Epoch 24/250\n",
            "48/48 [==============================] - 3s 57ms/step - loss: 1.7765 - accuracy: 0.3588 - val_loss: 1.7075 - val_accuracy: 0.4065\n",
            "Epoch 25/250\n",
            "48/48 [==============================] - 3s 57ms/step - loss: 1.7590 - accuracy: 0.3628 - val_loss: 1.7050 - val_accuracy: 0.3975\n",
            "Epoch 26/250\n",
            "48/48 [==============================] - 3s 57ms/step - loss: 1.7452 - accuracy: 0.3956 - val_loss: 1.6759 - val_accuracy: 0.4083\n",
            "Epoch 27/250\n",
            "48/48 [==============================] - 3s 57ms/step - loss: 1.7298 - accuracy: 0.3856 - val_loss: 1.6739 - val_accuracy: 0.4011\n",
            "Epoch 28/250\n",
            "48/48 [==============================] - 3s 57ms/step - loss: 1.7060 - accuracy: 0.3811 - val_loss: 1.6563 - val_accuracy: 0.4265\n",
            "Epoch 29/250\n",
            "48/48 [==============================] - 3s 57ms/step - loss: 1.6995 - accuracy: 0.3928 - val_loss: 1.6434 - val_accuracy: 0.4211\n",
            "Epoch 30/250\n",
            "48/48 [==============================] - 3s 57ms/step - loss: 1.6785 - accuracy: 0.4006 - val_loss: 1.6339 - val_accuracy: 0.4192\n",
            "Epoch 31/250\n",
            "48/48 [==============================] - 3s 57ms/step - loss: 1.6690 - accuracy: 0.4028 - val_loss: 1.6229 - val_accuracy: 0.4319\n",
            "Epoch 32/250\n",
            "48/48 [==============================] - 3s 57ms/step - loss: 1.6704 - accuracy: 0.3989 - val_loss: 1.6114 - val_accuracy: 0.4283\n",
            "Epoch 33/250\n",
            "48/48 [==============================] - 3s 57ms/step - loss: 1.6403 - accuracy: 0.4136 - val_loss: 1.6077 - val_accuracy: 0.4428\n",
            "Epoch 34/250\n",
            "48/48 [==============================] - 3s 57ms/step - loss: 1.6509 - accuracy: 0.4173 - val_loss: 1.5928 - val_accuracy: 0.4374\n",
            "Epoch 35/250\n",
            "48/48 [==============================] - 3s 57ms/step - loss: 1.6378 - accuracy: 0.4203 - val_loss: 1.5854 - val_accuracy: 0.4410\n",
            "Epoch 36/250\n",
            "48/48 [==============================] - 3s 56ms/step - loss: 1.5952 - accuracy: 0.4308 - val_loss: 1.5769 - val_accuracy: 0.4537\n",
            "Epoch 37/250\n",
            "48/48 [==============================] - 3s 57ms/step - loss: 1.5975 - accuracy: 0.4422 - val_loss: 1.5681 - val_accuracy: 0.4410\n",
            "Epoch 38/250\n",
            "48/48 [==============================] - 3s 56ms/step - loss: 1.5847 - accuracy: 0.4522 - val_loss: 1.5630 - val_accuracy: 0.4446\n",
            "Epoch 39/250\n",
            "48/48 [==============================] - 3s 57ms/step - loss: 1.5874 - accuracy: 0.4358 - val_loss: 1.5524 - val_accuracy: 0.4574\n",
            "Epoch 40/250\n",
            "48/48 [==============================] - 3s 56ms/step - loss: 1.5885 - accuracy: 0.4412 - val_loss: 1.5387 - val_accuracy: 0.4483\n",
            "Epoch 41/250\n",
            "48/48 [==============================] - 3s 56ms/step - loss: 1.5516 - accuracy: 0.4609 - val_loss: 1.5350 - val_accuracy: 0.4610\n",
            "Epoch 42/250\n",
            "48/48 [==============================] - 3s 56ms/step - loss: 1.5453 - accuracy: 0.4580 - val_loss: 1.5292 - val_accuracy: 0.4537\n",
            "Epoch 43/250\n",
            "48/48 [==============================] - 3s 56ms/step - loss: 1.5615 - accuracy: 0.4452 - val_loss: 1.5227 - val_accuracy: 0.4628\n",
            "Epoch 44/250\n",
            "48/48 [==============================] - 3s 56ms/step - loss: 1.5412 - accuracy: 0.4521 - val_loss: 1.4993 - val_accuracy: 0.4701\n",
            "Epoch 45/250\n",
            "48/48 [==============================] - 3s 56ms/step - loss: 1.5404 - accuracy: 0.4629 - val_loss: 1.5143 - val_accuracy: 0.4610\n",
            "Epoch 46/250\n",
            "48/48 [==============================] - 3s 56ms/step - loss: 1.5066 - accuracy: 0.4672 - val_loss: 1.4881 - val_accuracy: 0.4701\n",
            "Epoch 47/250\n",
            "48/48 [==============================] - 3s 57ms/step - loss: 1.5183 - accuracy: 0.4720 - val_loss: 1.4908 - val_accuracy: 0.4701\n",
            "Epoch 48/250\n",
            "48/48 [==============================] - 3s 56ms/step - loss: 1.4957 - accuracy: 0.4793 - val_loss: 1.4862 - val_accuracy: 0.4719\n",
            "Epoch 49/250\n",
            "48/48 [==============================] - 3s 56ms/step - loss: 1.5155 - accuracy: 0.4648 - val_loss: 1.4698 - val_accuracy: 0.4809\n",
            "Epoch 50/250\n",
            "48/48 [==============================] - 3s 56ms/step - loss: 1.5095 - accuracy: 0.4769 - val_loss: 1.4675 - val_accuracy: 0.4882\n",
            "Epoch 51/250\n",
            "48/48 [==============================] - 3s 57ms/step - loss: 1.4728 - accuracy: 0.4844 - val_loss: 1.4550 - val_accuracy: 0.4882\n",
            "Epoch 52/250\n",
            "48/48 [==============================] - 3s 57ms/step - loss: 1.4804 - accuracy: 0.4875 - val_loss: 1.4568 - val_accuracy: 0.4828\n",
            "Epoch 53/250\n",
            "48/48 [==============================] - 3s 57ms/step - loss: 1.5188 - accuracy: 0.4627 - val_loss: 1.4422 - val_accuracy: 0.4991\n",
            "Epoch 54/250\n",
            "48/48 [==============================] - 3s 57ms/step - loss: 1.5113 - accuracy: 0.4774 - val_loss: 1.4522 - val_accuracy: 0.4973\n",
            "Epoch 55/250\n",
            "48/48 [==============================] - 3s 56ms/step - loss: 1.4709 - accuracy: 0.4851 - val_loss: 1.4267 - val_accuracy: 0.5064\n",
            "Epoch 56/250\n",
            "48/48 [==============================] - 3s 57ms/step - loss: 1.4825 - accuracy: 0.4805 - val_loss: 1.4346 - val_accuracy: 0.4973\n",
            "Epoch 57/250\n",
            "48/48 [==============================] - 3s 57ms/step - loss: 1.4388 - accuracy: 0.5038 - val_loss: 1.4246 - val_accuracy: 0.5027\n",
            "Epoch 58/250\n",
            "48/48 [==============================] - 3s 57ms/step - loss: 1.4747 - accuracy: 0.4795 - val_loss: 1.4190 - val_accuracy: 0.5100\n",
            "Epoch 59/250\n",
            "48/48 [==============================] - 3s 57ms/step - loss: 1.4548 - accuracy: 0.4996 - val_loss: 1.4215 - val_accuracy: 0.5209\n",
            "Epoch 60/250\n",
            "48/48 [==============================] - 3s 57ms/step - loss: 1.4300 - accuracy: 0.5094 - val_loss: 1.4060 - val_accuracy: 0.5154\n",
            "Epoch 61/250\n",
            "48/48 [==============================] - 3s 57ms/step - loss: 1.4415 - accuracy: 0.5112 - val_loss: 1.4011 - val_accuracy: 0.5245\n",
            "Epoch 62/250\n",
            "48/48 [==============================] - 3s 57ms/step - loss: 1.4378 - accuracy: 0.5070 - val_loss: 1.3982 - val_accuracy: 0.5281\n",
            "Epoch 63/250\n",
            "48/48 [==============================] - 3s 56ms/step - loss: 1.4275 - accuracy: 0.5070 - val_loss: 1.3903 - val_accuracy: 0.5281\n",
            "Epoch 64/250\n",
            "48/48 [==============================] - 3s 57ms/step - loss: 1.4188 - accuracy: 0.5159 - val_loss: 1.4037 - val_accuracy: 0.5263\n",
            "Epoch 65/250\n",
            "48/48 [==============================] - 3s 56ms/step - loss: 1.4222 - accuracy: 0.5178 - val_loss: 1.3848 - val_accuracy: 0.5281\n",
            "Epoch 66/250\n",
            "48/48 [==============================] - 3s 57ms/step - loss: 1.4222 - accuracy: 0.5086 - val_loss: 1.3810 - val_accuracy: 0.5299\n",
            "Epoch 67/250\n",
            "48/48 [==============================] - 3s 57ms/step - loss: 1.4118 - accuracy: 0.5228 - val_loss: 1.3865 - val_accuracy: 0.5318\n",
            "Epoch 68/250\n",
            "48/48 [==============================] - 3s 57ms/step - loss: 1.4004 - accuracy: 0.5241 - val_loss: 1.3745 - val_accuracy: 0.5281\n",
            "Epoch 69/250\n",
            "48/48 [==============================] - 3s 56ms/step - loss: 1.3918 - accuracy: 0.5199 - val_loss: 1.3745 - val_accuracy: 0.5372\n",
            "Epoch 70/250\n",
            "48/48 [==============================] - 3s 57ms/step - loss: 1.3810 - accuracy: 0.5285 - val_loss: 1.3765 - val_accuracy: 0.5390\n",
            "Epoch 71/250\n",
            "48/48 [==============================] - 3s 57ms/step - loss: 1.4088 - accuracy: 0.5185 - val_loss: 1.3671 - val_accuracy: 0.5372\n",
            "Epoch 72/250\n",
            "48/48 [==============================] - 3s 57ms/step - loss: 1.3760 - accuracy: 0.5328 - val_loss: 1.3654 - val_accuracy: 0.5299\n",
            "Epoch 73/250\n",
            "48/48 [==============================] - 3s 57ms/step - loss: 1.4044 - accuracy: 0.5264 - val_loss: 1.3614 - val_accuracy: 0.5318\n",
            "Epoch 74/250\n",
            "48/48 [==============================] - 3s 57ms/step - loss: 1.3730 - accuracy: 0.5327 - val_loss: 1.3624 - val_accuracy: 0.5445\n",
            "Epoch 75/250\n",
            "48/48 [==============================] - 3s 56ms/step - loss: 1.3691 - accuracy: 0.5475 - val_loss: 1.3495 - val_accuracy: 0.5463\n",
            "Epoch 76/250\n",
            "48/48 [==============================] - 3s 57ms/step - loss: 1.3806 - accuracy: 0.5428 - val_loss: 1.3510 - val_accuracy: 0.5554\n",
            "Epoch 77/250\n",
            "48/48 [==============================] - 3s 57ms/step - loss: 1.3754 - accuracy: 0.5281 - val_loss: 1.3466 - val_accuracy: 0.5390\n",
            "Epoch 78/250\n",
            "48/48 [==============================] - 3s 57ms/step - loss: 1.3677 - accuracy: 0.5378 - val_loss: 1.3457 - val_accuracy: 0.5481\n",
            "Epoch 79/250\n",
            "48/48 [==============================] - 3s 57ms/step - loss: 1.3753 - accuracy: 0.5451 - val_loss: 1.3303 - val_accuracy: 0.5590\n",
            "Epoch 80/250\n",
            "48/48 [==============================] - 3s 57ms/step - loss: 1.3554 - accuracy: 0.5514 - val_loss: 1.3568 - val_accuracy: 0.5426\n",
            "Epoch 81/250\n",
            "48/48 [==============================] - 3s 57ms/step - loss: 1.3519 - accuracy: 0.5520 - val_loss: 1.3317 - val_accuracy: 0.5517\n",
            "Epoch 82/250\n",
            "48/48 [==============================] - 3s 57ms/step - loss: 1.3482 - accuracy: 0.5505 - val_loss: 1.3286 - val_accuracy: 0.5608\n",
            "Epoch 83/250\n",
            "48/48 [==============================] - 3s 56ms/step - loss: 1.3482 - accuracy: 0.5431 - val_loss: 1.3234 - val_accuracy: 0.5499\n",
            "Epoch 84/250\n",
            "48/48 [==============================] - 3s 57ms/step - loss: 1.3569 - accuracy: 0.5477 - val_loss: 1.3192 - val_accuracy: 0.5499\n",
            "Epoch 85/250\n",
            "48/48 [==============================] - 3s 57ms/step - loss: 1.3765 - accuracy: 0.5376 - val_loss: 1.3391 - val_accuracy: 0.5608\n",
            "Epoch 86/250\n",
            "48/48 [==============================] - 3s 57ms/step - loss: 1.3692 - accuracy: 0.5441 - val_loss: 1.3085 - val_accuracy: 0.5699\n",
            "Epoch 87/250\n",
            "48/48 [==============================] - 3s 57ms/step - loss: 1.3475 - accuracy: 0.5431 - val_loss: 1.3127 - val_accuracy: 0.5463\n",
            "Epoch 88/250\n",
            "48/48 [==============================] - 3s 57ms/step - loss: 1.3651 - accuracy: 0.5574 - val_loss: 1.3067 - val_accuracy: 0.5717\n",
            "Epoch 89/250\n",
            "48/48 [==============================] - 3s 57ms/step - loss: 1.3457 - accuracy: 0.5549 - val_loss: 1.3045 - val_accuracy: 0.5608\n",
            "Epoch 90/250\n",
            "48/48 [==============================] - 3s 57ms/step - loss: 1.3325 - accuracy: 0.5600 - val_loss: 1.3147 - val_accuracy: 0.5517\n",
            "Epoch 91/250\n",
            "48/48 [==============================] - 3s 57ms/step - loss: 1.3159 - accuracy: 0.5555 - val_loss: 1.3005 - val_accuracy: 0.5608\n",
            "Epoch 92/250\n",
            "48/48 [==============================] - 3s 57ms/step - loss: 1.3364 - accuracy: 0.5562 - val_loss: 1.2937 - val_accuracy: 0.5789\n",
            "Epoch 93/250\n",
            "48/48 [==============================] - 3s 57ms/step - loss: 1.3277 - accuracy: 0.5652 - val_loss: 1.3040 - val_accuracy: 0.5662\n",
            "Epoch 94/250\n",
            "48/48 [==============================] - 3s 57ms/step - loss: 1.3292 - accuracy: 0.5583 - val_loss: 1.2922 - val_accuracy: 0.5753\n",
            "Epoch 95/250\n",
            "48/48 [==============================] - 3s 56ms/step - loss: 1.3093 - accuracy: 0.5679 - val_loss: 1.3124 - val_accuracy: 0.5535\n",
            "Epoch 96/250\n",
            "48/48 [==============================] - 3s 57ms/step - loss: 1.3053 - accuracy: 0.5698 - val_loss: 1.2868 - val_accuracy: 0.5771\n",
            "Epoch 97/250\n",
            "48/48 [==============================] - 3s 57ms/step - loss: 1.3183 - accuracy: 0.5596 - val_loss: 1.2791 - val_accuracy: 0.5789\n",
            "Epoch 98/250\n",
            "48/48 [==============================] - 3s 57ms/step - loss: 1.3096 - accuracy: 0.5652 - val_loss: 1.2856 - val_accuracy: 0.5699\n",
            "Epoch 99/250\n",
            "48/48 [==============================] - 3s 57ms/step - loss: 1.3155 - accuracy: 0.5638 - val_loss: 1.2716 - val_accuracy: 0.5753\n",
            "Epoch 100/250\n",
            "48/48 [==============================] - 3s 57ms/step - loss: 1.3024 - accuracy: 0.5754 - val_loss: 1.2909 - val_accuracy: 0.5662\n",
            "Epoch 101/250\n",
            "48/48 [==============================] - 3s 57ms/step - loss: 1.3122 - accuracy: 0.5586 - val_loss: 1.2748 - val_accuracy: 0.5898\n",
            "Epoch 102/250\n",
            "48/48 [==============================] - 3s 57ms/step - loss: 1.3197 - accuracy: 0.5678 - val_loss: 1.2719 - val_accuracy: 0.5644\n",
            "Epoch 103/250\n",
            "48/48 [==============================] - 3s 57ms/step - loss: 1.2915 - accuracy: 0.5801 - val_loss: 1.2691 - val_accuracy: 0.5789\n",
            "Epoch 104/250\n",
            "48/48 [==============================] - 3s 57ms/step - loss: 1.2923 - accuracy: 0.5833 - val_loss: 1.2575 - val_accuracy: 0.5935\n",
            "Epoch 105/250\n",
            "48/48 [==============================] - 3s 57ms/step - loss: 1.3081 - accuracy: 0.5750 - val_loss: 1.2773 - val_accuracy: 0.5862\n",
            "Epoch 106/250\n",
            "48/48 [==============================] - 3s 57ms/step - loss: 1.2760 - accuracy: 0.5877 - val_loss: 1.2538 - val_accuracy: 0.5753\n",
            "Epoch 107/250\n",
            "48/48 [==============================] - 3s 57ms/step - loss: 1.2926 - accuracy: 0.5715 - val_loss: 1.2491 - val_accuracy: 0.5826\n",
            "Epoch 108/250\n",
            "48/48 [==============================] - 3s 57ms/step - loss: 1.2585 - accuracy: 0.5937 - val_loss: 1.2454 - val_accuracy: 0.5717\n",
            "Epoch 109/250\n",
            "48/48 [==============================] - 3s 57ms/step - loss: 1.2695 - accuracy: 0.5875 - val_loss: 1.2393 - val_accuracy: 0.5917\n",
            "Epoch 110/250\n",
            "48/48 [==============================] - 3s 57ms/step - loss: 1.2731 - accuracy: 0.5802 - val_loss: 1.2369 - val_accuracy: 0.5935\n",
            "Epoch 111/250\n",
            "48/48 [==============================] - 3s 57ms/step - loss: 1.2782 - accuracy: 0.6024 - val_loss: 1.2369 - val_accuracy: 0.5771\n",
            "Epoch 112/250\n",
            "48/48 [==============================] - 3s 58ms/step - loss: 1.2545 - accuracy: 0.5913 - val_loss: 1.2288 - val_accuracy: 0.6044\n",
            "Epoch 113/250\n",
            "48/48 [==============================] - 3s 57ms/step - loss: 1.2495 - accuracy: 0.5908 - val_loss: 1.2298 - val_accuracy: 0.5753\n",
            "Epoch 114/250\n",
            "48/48 [==============================] - 3s 57ms/step - loss: 1.2543 - accuracy: 0.5970 - val_loss: 1.2283 - val_accuracy: 0.5880\n",
            "Epoch 115/250\n",
            "48/48 [==============================] - 3s 57ms/step - loss: 1.2450 - accuracy: 0.5923 - val_loss: 1.2232 - val_accuracy: 0.5917\n",
            "Epoch 116/250\n",
            "48/48 [==============================] - 3s 57ms/step - loss: 1.2581 - accuracy: 0.5926 - val_loss: 1.2181 - val_accuracy: 0.5844\n",
            "Epoch 117/250\n",
            "48/48 [==============================] - 3s 57ms/step - loss: 1.2545 - accuracy: 0.5987 - val_loss: 1.2133 - val_accuracy: 0.6007\n",
            "Epoch 118/250\n",
            "48/48 [==============================] - 3s 57ms/step - loss: 1.2599 - accuracy: 0.5864 - val_loss: 1.2295 - val_accuracy: 0.5753\n",
            "Epoch 119/250\n",
            "48/48 [==============================] - 3s 56ms/step - loss: 1.2509 - accuracy: 0.6022 - val_loss: 1.2019 - val_accuracy: 0.6098\n",
            "Epoch 120/250\n",
            "48/48 [==============================] - 3s 57ms/step - loss: 1.2376 - accuracy: 0.6056 - val_loss: 1.2080 - val_accuracy: 0.5880\n",
            "Epoch 121/250\n",
            "48/48 [==============================] - 3s 57ms/step - loss: 1.2489 - accuracy: 0.6007 - val_loss: 1.1947 - val_accuracy: 0.5971\n",
            "Epoch 122/250\n",
            "48/48 [==============================] - 3s 57ms/step - loss: 1.2390 - accuracy: 0.6095 - val_loss: 1.2222 - val_accuracy: 0.5953\n",
            "Epoch 123/250\n",
            "48/48 [==============================] - 3s 57ms/step - loss: 1.2557 - accuracy: 0.5940 - val_loss: 1.1864 - val_accuracy: 0.6080\n",
            "Epoch 124/250\n",
            "48/48 [==============================] - 3s 57ms/step - loss: 1.2438 - accuracy: 0.6081 - val_loss: 1.2255 - val_accuracy: 0.5935\n",
            "Epoch 125/250\n",
            "48/48 [==============================] - 3s 57ms/step - loss: 1.2305 - accuracy: 0.6028 - val_loss: 1.1933 - val_accuracy: 0.6171\n",
            "Epoch 126/250\n",
            "48/48 [==============================] - 3s 57ms/step - loss: 1.2380 - accuracy: 0.6095 - val_loss: 1.2025 - val_accuracy: 0.5953\n",
            "Epoch 127/250\n",
            "48/48 [==============================] - 3s 57ms/step - loss: 1.2396 - accuracy: 0.6002 - val_loss: 1.1822 - val_accuracy: 0.6062\n",
            "Epoch 128/250\n",
            "48/48 [==============================] - 3s 57ms/step - loss: 1.2413 - accuracy: 0.6020 - val_loss: 1.1851 - val_accuracy: 0.6062\n",
            "Epoch 129/250\n",
            "48/48 [==============================] - 3s 57ms/step - loss: 1.2349 - accuracy: 0.6044 - val_loss: 1.1945 - val_accuracy: 0.5898\n",
            "Epoch 130/250\n",
            "48/48 [==============================] - 3s 56ms/step - loss: 1.2205 - accuracy: 0.6123 - val_loss: 1.1895 - val_accuracy: 0.6007\n",
            "Epoch 131/250\n",
            "48/48 [==============================] - 3s 57ms/step - loss: 1.2151 - accuracy: 0.6123 - val_loss: 1.1887 - val_accuracy: 0.6171\n",
            "Epoch 132/250\n",
            "48/48 [==============================] - 3s 57ms/step - loss: 1.1995 - accuracy: 0.6137 - val_loss: 1.1941 - val_accuracy: 0.6207\n",
            "Epoch 133/250\n",
            "48/48 [==============================] - 3s 56ms/step - loss: 1.2274 - accuracy: 0.6076 - val_loss: 1.1804 - val_accuracy: 0.6225\n",
            "Epoch 134/250\n",
            "48/48 [==============================] - 3s 57ms/step - loss: 1.2186 - accuracy: 0.6100 - val_loss: 1.1812 - val_accuracy: 0.6134\n",
            "Epoch 135/250\n",
            "48/48 [==============================] - 3s 57ms/step - loss: 1.2097 - accuracy: 0.6132 - val_loss: 1.1649 - val_accuracy: 0.6134\n",
            "Epoch 136/250\n",
            "48/48 [==============================] - 3s 56ms/step - loss: 1.2123 - accuracy: 0.6209 - val_loss: 1.1554 - val_accuracy: 0.6152\n",
            "Epoch 137/250\n",
            "48/48 [==============================] - 3s 57ms/step - loss: 1.1997 - accuracy: 0.6138 - val_loss: 1.1631 - val_accuracy: 0.6207\n",
            "Epoch 138/250\n",
            "48/48 [==============================] - 3s 57ms/step - loss: 1.1819 - accuracy: 0.6251 - val_loss: 1.1574 - val_accuracy: 0.6189\n",
            "Epoch 139/250\n",
            "48/48 [==============================] - 3s 57ms/step - loss: 1.1971 - accuracy: 0.6249 - val_loss: 1.1639 - val_accuracy: 0.6243\n",
            "Epoch 140/250\n",
            "48/48 [==============================] - 3s 57ms/step - loss: 1.1767 - accuracy: 0.6204 - val_loss: 1.1650 - val_accuracy: 0.6189\n",
            "Epoch 141/250\n",
            "48/48 [==============================] - 3s 57ms/step - loss: 1.2030 - accuracy: 0.6186 - val_loss: 1.1560 - val_accuracy: 0.6189\n",
            "Epoch 142/250\n",
            "48/48 [==============================] - 3s 57ms/step - loss: 1.1821 - accuracy: 0.6195 - val_loss: 1.1804 - val_accuracy: 0.6134\n",
            "Epoch 143/250\n",
            "48/48 [==============================] - 3s 57ms/step - loss: 1.1986 - accuracy: 0.6253 - val_loss: 1.1676 - val_accuracy: 0.6207\n",
            "Epoch 144/250\n",
            "48/48 [==============================] - 3s 57ms/step - loss: 1.2116 - accuracy: 0.6058 - val_loss: 1.1735 - val_accuracy: 0.5989\n",
            "Epoch 145/250\n",
            "48/48 [==============================] - 3s 57ms/step - loss: 1.1945 - accuracy: 0.6224 - val_loss: 1.1435 - val_accuracy: 0.6225\n",
            "Epoch 146/250\n",
            "48/48 [==============================] - 3s 57ms/step - loss: 1.2008 - accuracy: 0.6184 - val_loss: 1.1599 - val_accuracy: 0.6189\n",
            "Epoch 147/250\n",
            "48/48 [==============================] - 3s 57ms/step - loss: 1.1802 - accuracy: 0.6174 - val_loss: 1.1486 - val_accuracy: 0.6134\n",
            "Epoch 148/250\n",
            "48/48 [==============================] - 3s 57ms/step - loss: 1.1791 - accuracy: 0.6250 - val_loss: 1.1397 - val_accuracy: 0.6279\n",
            "Epoch 149/250\n",
            "48/48 [==============================] - 3s 58ms/step - loss: 1.1827 - accuracy: 0.6338 - val_loss: 1.1665 - val_accuracy: 0.6098\n",
            "Epoch 150/250\n",
            "48/48 [==============================] - 3s 57ms/step - loss: 1.1851 - accuracy: 0.6142 - val_loss: 1.1491 - val_accuracy: 0.6370\n",
            "Epoch 151/250\n",
            "48/48 [==============================] - 3s 58ms/step - loss: 1.1782 - accuracy: 0.6328 - val_loss: 1.1658 - val_accuracy: 0.6116\n",
            "Epoch 152/250\n",
            "48/48 [==============================] - 3s 57ms/step - loss: 1.1896 - accuracy: 0.6236 - val_loss: 1.1401 - val_accuracy: 0.6152\n",
            "Epoch 153/250\n",
            "48/48 [==============================] - 3s 58ms/step - loss: 1.1648 - accuracy: 0.6253 - val_loss: 1.1289 - val_accuracy: 0.6298\n",
            "Epoch 154/250\n",
            "48/48 [==============================] - 3s 57ms/step - loss: 1.2086 - accuracy: 0.6149 - val_loss: 1.1301 - val_accuracy: 0.6261\n",
            "Epoch 155/250\n",
            "48/48 [==============================] - 3s 57ms/step - loss: 1.1670 - accuracy: 0.6343 - val_loss: 1.1356 - val_accuracy: 0.6443\n",
            "Epoch 156/250\n",
            "48/48 [==============================] - 3s 57ms/step - loss: 1.1736 - accuracy: 0.6302 - val_loss: 1.1277 - val_accuracy: 0.6352\n",
            "Epoch 157/250\n",
            "48/48 [==============================] - 3s 57ms/step - loss: 1.1753 - accuracy: 0.6290 - val_loss: 1.1284 - val_accuracy: 0.6425\n",
            "Epoch 158/250\n",
            "48/48 [==============================] - 3s 57ms/step - loss: 1.1628 - accuracy: 0.6330 - val_loss: 1.1242 - val_accuracy: 0.6279\n",
            "Epoch 159/250\n",
            "48/48 [==============================] - 3s 57ms/step - loss: 1.1853 - accuracy: 0.6325 - val_loss: 1.1188 - val_accuracy: 0.6334\n",
            "Epoch 160/250\n",
            "48/48 [==============================] - 3s 57ms/step - loss: 1.1658 - accuracy: 0.6201 - val_loss: 1.1421 - val_accuracy: 0.6261\n",
            "Epoch 161/250\n",
            "48/48 [==============================] - 3s 57ms/step - loss: 1.1788 - accuracy: 0.6315 - val_loss: 1.1220 - val_accuracy: 0.6261\n",
            "Epoch 162/250\n",
            "48/48 [==============================] - 3s 57ms/step - loss: 1.1515 - accuracy: 0.6393 - val_loss: 1.1163 - val_accuracy: 0.6407\n",
            "Epoch 163/250\n",
            "48/48 [==============================] - 3s 57ms/step - loss: 1.1542 - accuracy: 0.6160 - val_loss: 1.1232 - val_accuracy: 0.6370\n",
            "Epoch 164/250\n",
            "48/48 [==============================] - 3s 57ms/step - loss: 1.1529 - accuracy: 0.6416 - val_loss: 1.1016 - val_accuracy: 0.6352\n",
            "Epoch 165/250\n",
            "48/48 [==============================] - 3s 57ms/step - loss: 1.1410 - accuracy: 0.6391 - val_loss: 1.1180 - val_accuracy: 0.6207\n",
            "Epoch 166/250\n",
            "48/48 [==============================] - 3s 57ms/step - loss: 1.1553 - accuracy: 0.6467 - val_loss: 1.1127 - val_accuracy: 0.6388\n",
            "Epoch 167/250\n",
            "48/48 [==============================] - 3s 57ms/step - loss: 1.1357 - accuracy: 0.6467 - val_loss: 1.1162 - val_accuracy: 0.6370\n",
            "Epoch 168/250\n",
            "48/48 [==============================] - 3s 57ms/step - loss: 1.1345 - accuracy: 0.6386 - val_loss: 1.1101 - val_accuracy: 0.6479\n",
            "Epoch 169/250\n",
            "48/48 [==============================] - 3s 58ms/step - loss: 1.1654 - accuracy: 0.6348 - val_loss: 1.0960 - val_accuracy: 0.6552\n",
            "Epoch 170/250\n",
            "48/48 [==============================] - 3s 57ms/step - loss: 1.1464 - accuracy: 0.6347 - val_loss: 1.1030 - val_accuracy: 0.6334\n",
            "Epoch 171/250\n",
            "48/48 [==============================] - 3s 57ms/step - loss: 1.1558 - accuracy: 0.6356 - val_loss: 1.0939 - val_accuracy: 0.6443\n",
            "Epoch 172/250\n",
            "48/48 [==============================] - 3s 58ms/step - loss: 1.1403 - accuracy: 0.6380 - val_loss: 1.1051 - val_accuracy: 0.6407\n",
            "Epoch 173/250\n",
            "48/48 [==============================] - 3s 58ms/step - loss: 1.1328 - accuracy: 0.6416 - val_loss: 1.1026 - val_accuracy: 0.6534\n",
            "Epoch 174/250\n",
            "48/48 [==============================] - 3s 57ms/step - loss: 1.1296 - accuracy: 0.6461 - val_loss: 1.0975 - val_accuracy: 0.6352\n",
            "Epoch 175/250\n",
            "48/48 [==============================] - 3s 57ms/step - loss: 1.1471 - accuracy: 0.6454 - val_loss: 1.1016 - val_accuracy: 0.6388\n",
            "Epoch 176/250\n",
            "48/48 [==============================] - 3s 57ms/step - loss: 1.1182 - accuracy: 0.6543 - val_loss: 1.1091 - val_accuracy: 0.6352\n",
            "Epoch 177/250\n",
            "48/48 [==============================] - 3s 57ms/step - loss: 1.1447 - accuracy: 0.6436 - val_loss: 1.0906 - val_accuracy: 0.6443\n",
            "Epoch 178/250\n",
            "48/48 [==============================] - 3s 57ms/step - loss: 1.1461 - accuracy: 0.6518 - val_loss: 1.0945 - val_accuracy: 0.6497\n",
            "Epoch 179/250\n",
            "48/48 [==============================] - 3s 57ms/step - loss: 1.1359 - accuracy: 0.6374 - val_loss: 1.0908 - val_accuracy: 0.6534\n",
            "Epoch 180/250\n",
            "48/48 [==============================] - 3s 57ms/step - loss: 1.1304 - accuracy: 0.6441 - val_loss: 1.0864 - val_accuracy: 0.6479\n",
            "Epoch 181/250\n",
            "48/48 [==============================] - 3s 58ms/step - loss: 1.1443 - accuracy: 0.6467 - val_loss: 1.0744 - val_accuracy: 0.6534\n",
            "Epoch 182/250\n",
            "48/48 [==============================] - 3s 57ms/step - loss: 1.0989 - accuracy: 0.6486 - val_loss: 1.0720 - val_accuracy: 0.6552\n",
            "Epoch 183/250\n",
            "48/48 [==============================] - 3s 57ms/step - loss: 1.1239 - accuracy: 0.6442 - val_loss: 1.0946 - val_accuracy: 0.6443\n",
            "Epoch 184/250\n",
            "48/48 [==============================] - 3s 57ms/step - loss: 1.1148 - accuracy: 0.6564 - val_loss: 1.0829 - val_accuracy: 0.6642\n",
            "Epoch 185/250\n",
            "48/48 [==============================] - 3s 57ms/step - loss: 1.1048 - accuracy: 0.6562 - val_loss: 1.0932 - val_accuracy: 0.6534\n",
            "Epoch 186/250\n",
            "48/48 [==============================] - 3s 57ms/step - loss: 1.1214 - accuracy: 0.6507 - val_loss: 1.0838 - val_accuracy: 0.6515\n",
            "Epoch 187/250\n",
            "48/48 [==============================] - 3s 57ms/step - loss: 1.0936 - accuracy: 0.6590 - val_loss: 1.0708 - val_accuracy: 0.6497\n",
            "Epoch 188/250\n",
            "48/48 [==============================] - 3s 57ms/step - loss: 1.1013 - accuracy: 0.6621 - val_loss: 1.0775 - val_accuracy: 0.6624\n",
            "Epoch 189/250\n",
            "48/48 [==============================] - 3s 57ms/step - loss: 1.0986 - accuracy: 0.6570 - val_loss: 1.0736 - val_accuracy: 0.6497\n",
            "Epoch 190/250\n",
            "48/48 [==============================] - 3s 58ms/step - loss: 1.0969 - accuracy: 0.6600 - val_loss: 1.0597 - val_accuracy: 0.6661\n",
            "Epoch 191/250\n",
            "48/48 [==============================] - 3s 57ms/step - loss: 1.1192 - accuracy: 0.6623 - val_loss: 1.0621 - val_accuracy: 0.6570\n",
            "Epoch 192/250\n",
            "48/48 [==============================] - 3s 57ms/step - loss: 1.1044 - accuracy: 0.6571 - val_loss: 1.0668 - val_accuracy: 0.6606\n",
            "Epoch 193/250\n",
            "48/48 [==============================] - 3s 57ms/step - loss: 1.0945 - accuracy: 0.6630 - val_loss: 1.0687 - val_accuracy: 0.6661\n",
            "Epoch 194/250\n",
            "48/48 [==============================] - 3s 57ms/step - loss: 1.1309 - accuracy: 0.6495 - val_loss: 1.0651 - val_accuracy: 0.6425\n",
            "Epoch 195/250\n",
            "48/48 [==============================] - 3s 57ms/step - loss: 1.0921 - accuracy: 0.6505 - val_loss: 1.0808 - val_accuracy: 0.6443\n",
            "Epoch 196/250\n",
            "48/48 [==============================] - 3s 58ms/step - loss: 1.1136 - accuracy: 0.6520 - val_loss: 1.0762 - val_accuracy: 0.6624\n",
            "Epoch 197/250\n",
            "48/48 [==============================] - 3s 57ms/step - loss: 1.1019 - accuracy: 0.6571 - val_loss: 1.0663 - val_accuracy: 0.6515\n",
            "Epoch 198/250\n",
            "48/48 [==============================] - 3s 57ms/step - loss: 1.0864 - accuracy: 0.6545 - val_loss: 1.0527 - val_accuracy: 0.6588\n",
            "Epoch 199/250\n",
            "48/48 [==============================] - 3s 58ms/step - loss: 1.1250 - accuracy: 0.6414 - val_loss: 1.0694 - val_accuracy: 0.6697\n",
            "Epoch 200/250\n",
            "48/48 [==============================] - 3s 57ms/step - loss: 1.1031 - accuracy: 0.6567 - val_loss: 1.0676 - val_accuracy: 0.6624\n",
            "Epoch 201/250\n",
            "48/48 [==============================] - 3s 57ms/step - loss: 1.1085 - accuracy: 0.6555 - val_loss: 1.0551 - val_accuracy: 0.6497\n",
            "Epoch 202/250\n",
            "48/48 [==============================] - 3s 57ms/step - loss: 1.1082 - accuracy: 0.6525 - val_loss: 1.0556 - val_accuracy: 0.6788\n",
            "Epoch 203/250\n",
            "48/48 [==============================] - 3s 57ms/step - loss: 1.0985 - accuracy: 0.6599 - val_loss: 1.0566 - val_accuracy: 0.6661\n",
            "Epoch 204/250\n",
            "48/48 [==============================] - 3s 57ms/step - loss: 1.0878 - accuracy: 0.6683 - val_loss: 1.0396 - val_accuracy: 0.6751\n",
            "Epoch 205/250\n",
            "48/48 [==============================] - 3s 58ms/step - loss: 1.0951 - accuracy: 0.6695 - val_loss: 1.0594 - val_accuracy: 0.6697\n",
            "Epoch 206/250\n",
            "48/48 [==============================] - 3s 57ms/step - loss: 1.1016 - accuracy: 0.6616 - val_loss: 1.0418 - val_accuracy: 0.6697\n",
            "Epoch 207/250\n",
            "48/48 [==============================] - 3s 57ms/step - loss: 1.0961 - accuracy: 0.6591 - val_loss: 1.0577 - val_accuracy: 0.6679\n",
            "Epoch 208/250\n",
            "48/48 [==============================] - 3s 57ms/step - loss: 1.0947 - accuracy: 0.6517 - val_loss: 1.0747 - val_accuracy: 0.6552\n",
            "Epoch 209/250\n",
            "48/48 [==============================] - 3s 57ms/step - loss: 1.0638 - accuracy: 0.6662 - val_loss: 1.0318 - val_accuracy: 0.6751\n",
            "Epoch 210/250\n",
            "48/48 [==============================] - 3s 57ms/step - loss: 1.0888 - accuracy: 0.6685 - val_loss: 1.0505 - val_accuracy: 0.6770\n",
            "Epoch 211/250\n",
            "48/48 [==============================] - 3s 57ms/step - loss: 1.0901 - accuracy: 0.6544 - val_loss: 1.0437 - val_accuracy: 0.6679\n",
            "Epoch 212/250\n",
            "48/48 [==============================] - 3s 58ms/step - loss: 1.0690 - accuracy: 0.6765 - val_loss: 1.0461 - val_accuracy: 0.6606\n",
            "Epoch 213/250\n",
            "48/48 [==============================] - 3s 57ms/step - loss: 1.0619 - accuracy: 0.6754 - val_loss: 1.0342 - val_accuracy: 0.6715\n",
            "Epoch 214/250\n",
            "48/48 [==============================] - 3s 58ms/step - loss: 1.1056 - accuracy: 0.6557 - val_loss: 1.0309 - val_accuracy: 0.6933\n",
            "Epoch 215/250\n",
            "48/48 [==============================] - 3s 57ms/step - loss: 1.0806 - accuracy: 0.6687 - val_loss: 1.0424 - val_accuracy: 0.6860\n",
            "Epoch 216/250\n",
            "48/48 [==============================] - 3s 58ms/step - loss: 1.0650 - accuracy: 0.6727 - val_loss: 1.0244 - val_accuracy: 0.6679\n",
            "Epoch 217/250\n",
            "48/48 [==============================] - 3s 58ms/step - loss: 1.0739 - accuracy: 0.6754 - val_loss: 1.0279 - val_accuracy: 0.6824\n",
            "Epoch 218/250\n",
            "48/48 [==============================] - 3s 58ms/step - loss: 1.0890 - accuracy: 0.6673 - val_loss: 1.0173 - val_accuracy: 0.6987\n",
            "Epoch 219/250\n",
            "48/48 [==============================] - 3s 57ms/step - loss: 1.0620 - accuracy: 0.6663 - val_loss: 1.0415 - val_accuracy: 0.6878\n",
            "Epoch 220/250\n",
            "48/48 [==============================] - 3s 58ms/step - loss: 1.0677 - accuracy: 0.6694 - val_loss: 1.0264 - val_accuracy: 0.6770\n",
            "Epoch 221/250\n",
            "48/48 [==============================] - 3s 57ms/step - loss: 1.0557 - accuracy: 0.6830 - val_loss: 1.0159 - val_accuracy: 0.6751\n",
            "Epoch 222/250\n",
            "48/48 [==============================] - 3s 57ms/step - loss: 1.0777 - accuracy: 0.6634 - val_loss: 1.0208 - val_accuracy: 0.6806\n",
            "Epoch 223/250\n",
            "48/48 [==============================] - 3s 57ms/step - loss: 1.0811 - accuracy: 0.6720 - val_loss: 1.0257 - val_accuracy: 0.6915\n",
            "Epoch 224/250\n",
            "48/48 [==============================] - 3s 57ms/step - loss: 1.0611 - accuracy: 0.6804 - val_loss: 1.0168 - val_accuracy: 0.6969\n",
            "Epoch 225/250\n",
            "48/48 [==============================] - 3s 57ms/step - loss: 1.0539 - accuracy: 0.6859 - val_loss: 1.0205 - val_accuracy: 0.6661\n",
            "Epoch 226/250\n",
            "48/48 [==============================] - 3s 57ms/step - loss: 1.0503 - accuracy: 0.6817 - val_loss: 1.0078 - val_accuracy: 0.6788\n",
            "Epoch 227/250\n",
            "48/48 [==============================] - 3s 57ms/step - loss: 1.0745 - accuracy: 0.6668 - val_loss: 1.0284 - val_accuracy: 0.6878\n",
            "Epoch 228/250\n",
            "48/48 [==============================] - 3s 57ms/step - loss: 1.0708 - accuracy: 0.6594 - val_loss: 1.0240 - val_accuracy: 0.6842\n",
            "Epoch 229/250\n",
            "48/48 [==============================] - 3s 57ms/step - loss: 1.0595 - accuracy: 0.6765 - val_loss: 1.0203 - val_accuracy: 0.6679\n",
            "Epoch 230/250\n",
            "48/48 [==============================] - 3s 57ms/step - loss: 1.0405 - accuracy: 0.6795 - val_loss: 1.0295 - val_accuracy: 0.6715\n",
            "Epoch 231/250\n",
            "48/48 [==============================] - 3s 57ms/step - loss: 1.0802 - accuracy: 0.6637 - val_loss: 1.0177 - val_accuracy: 0.6951\n",
            "Epoch 232/250\n",
            "48/48 [==============================] - 3s 58ms/step - loss: 1.0675 - accuracy: 0.6784 - val_loss: 1.0073 - val_accuracy: 0.6824\n",
            "Epoch 233/250\n",
            "48/48 [==============================] - 3s 58ms/step - loss: 1.0725 - accuracy: 0.6926 - val_loss: 1.0138 - val_accuracy: 0.6824\n",
            "Epoch 234/250\n",
            "48/48 [==============================] - 3s 57ms/step - loss: 1.0542 - accuracy: 0.6750 - val_loss: 1.0361 - val_accuracy: 0.6878\n",
            "Epoch 235/250\n",
            "48/48 [==============================] - 3s 57ms/step - loss: 1.0298 - accuracy: 0.6896 - val_loss: 0.9859 - val_accuracy: 0.6933\n",
            "Epoch 236/250\n",
            "48/48 [==============================] - 3s 57ms/step - loss: 1.0777 - accuracy: 0.6740 - val_loss: 1.0015 - val_accuracy: 0.6969\n",
            "Epoch 237/250\n",
            "48/48 [==============================] - 3s 57ms/step - loss: 1.0436 - accuracy: 0.6842 - val_loss: 1.0155 - val_accuracy: 0.7060\n",
            "Epoch 238/250\n",
            "48/48 [==============================] - 3s 57ms/step - loss: 1.0588 - accuracy: 0.6770 - val_loss: 0.9897 - val_accuracy: 0.6878\n",
            "Epoch 239/250\n",
            "48/48 [==============================] - 3s 57ms/step - loss: 1.0472 - accuracy: 0.6874 - val_loss: 0.9943 - val_accuracy: 0.6897\n",
            "Epoch 240/250\n",
            "48/48 [==============================] - 3s 58ms/step - loss: 1.0347 - accuracy: 0.6904 - val_loss: 0.9990 - val_accuracy: 0.7060\n",
            "Epoch 241/250\n",
            "48/48 [==============================] - 3s 57ms/step - loss: 1.0533 - accuracy: 0.6747 - val_loss: 1.0058 - val_accuracy: 0.6951\n",
            "Epoch 242/250\n",
            "48/48 [==============================] - 3s 58ms/step - loss: 1.0370 - accuracy: 0.6932 - val_loss: 0.9966 - val_accuracy: 0.6987\n",
            "Epoch 243/250\n",
            "48/48 [==============================] - 3s 57ms/step - loss: 1.0444 - accuracy: 0.6890 - val_loss: 1.0114 - val_accuracy: 0.6897\n",
            "Epoch 244/250\n",
            "48/48 [==============================] - 3s 57ms/step - loss: 1.0374 - accuracy: 0.6848 - val_loss: 1.0094 - val_accuracy: 0.6842\n",
            "Epoch 245/250\n",
            "48/48 [==============================] - 3s 57ms/step - loss: 1.0528 - accuracy: 0.6826 - val_loss: 0.9933 - val_accuracy: 0.7005\n",
            "Epoch 246/250\n",
            "48/48 [==============================] - 3s 57ms/step - loss: 1.0307 - accuracy: 0.6968 - val_loss: 1.0107 - val_accuracy: 0.6860\n",
            "Epoch 247/250\n",
            "48/48 [==============================] - 3s 58ms/step - loss: 1.0212 - accuracy: 0.7018 - val_loss: 1.0112 - val_accuracy: 0.6897\n",
            "Epoch 248/250\n",
            "48/48 [==============================] - 3s 57ms/step - loss: 1.0285 - accuracy: 0.6911 - val_loss: 0.9742 - val_accuracy: 0.6987\n",
            "Epoch 249/250\n",
            "48/48 [==============================] - 3s 58ms/step - loss: 1.0581 - accuracy: 0.6757 - val_loss: 0.9873 - val_accuracy: 0.6915\n",
            "Epoch 250/250\n",
            "48/48 [==============================] - 3s 57ms/step - loss: 1.0429 - accuracy: 0.6873 - val_loss: 0.9882 - val_accuracy: 0.7060\n"
          ],
          "name": "stdout"
        }
      ]
    },
    {
      "cell_type": "markdown",
      "metadata": {
        "id": "lU-Z80tdAD8F"
      },
      "source": [
        "## **8. Evaluating model through different performance metrics**"
      ]
    },
    {
      "cell_type": "code",
      "metadata": {
        "id": "-9w4RAaFAD8G"
      },
      "source": [
        "labels = ['Air Conditioner', 'Car Horn', 'Children Playing', 'Dog bark', 'Drilling', 'Engine Idling', 'Gun Shot', 'Jackhammer', 'Siren', 'Street Music']"
      ],
      "execution_count": null,
      "outputs": []
    },
    {
      "cell_type": "markdown",
      "metadata": {
        "id": "8zyB3nyxAD8G"
      },
      "source": [
        "### **8.1 Accuracy**"
      ]
    },
    {
      "cell_type": "code",
      "metadata": {
        "colab": {
          "base_uri": "https://localhost:8080/"
        },
        "id": "lV5ZRkT3AD8G",
        "outputId": "b7fe19d6-916d-4647-b773-73709a259275"
      },
      "source": [
        "model_evaluation_report(model, X_train, y_train_encoded, X_test, y_test_encoded)"
      ],
      "execution_count": null,
      "outputs": [
        {
          "output_type": "stream",
          "text": [
            "                    LOSS      ACCURACY\n",
            "--------------------------------------\n",
            "Training:         1.0234       69.2284\n",
            "Test:             1.0232       67.4939\n"
          ],
          "name": "stdout"
        }
      ]
    },
    {
      "cell_type": "markdown",
      "metadata": {
        "id": "nJmAkYNfAD8H"
      },
      "source": [
        "### **8.2 Visualizing Accuracy in Each Epoch**"
      ]
    },
    {
      "cell_type": "code",
      "metadata": {
        "colab": {
          "base_uri": "https://localhost:8080/",
          "height": 352
        },
        "id": "BKPoE7HZAD8H",
        "outputId": "1b4f478c-15df-4df8-9f43-7020977e19ee"
      },
      "source": [
        "acc_plot(history)"
      ],
      "execution_count": null,
      "outputs": [
        {
          "output_type": "display_data",
          "data": {
            "image/png": "[encoded data removed]",
            "text/plain": [
              "<Figure size 576x360 with 1 Axes>"
            ]
          },
          "metadata": {
            "tags": [],
            "needs_background": "light"
          }
        }
      ]
    },
    {
      "cell_type": "markdown",
      "metadata": {
        "id": "-DhaMurnAD8H"
      },
      "source": [
        "### **8.3 Visualizing Loss in Each Epoch**"
      ]
    },
    {
      "cell_type": "code",
      "metadata": {
        "colab": {
          "base_uri": "https://localhost:8080/",
          "height": 352
        },
        "id": "kdask102AD8I",
        "outputId": "f9236d17-6c5b-4bd1-86a4-a104a082acb8"
      },
      "source": [
        "loss_plot(history)"
      ],
      "execution_count": null,
      "outputs": [
        {
          "output_type": "display_data",
          "data": {
            "image/png": "[encoded data removed]",
            "text/plain": [
              "<Figure size 576x360 with 1 Axes>"
            ]
          },
          "metadata": {
            "tags": []
          }
        }
      ]
    },
    {
      "cell_type": "markdown",
      "metadata": {
        "id": "JRuKd-9BAD8I"
      },
      "source": [
        "### **8.4 Confusion Matrix**"
      ]
    },
    {
      "cell_type": "code",
      "metadata": {
        "id": "LJDXvndfAD8I"
      },
      "source": [
        "y_probs = model.predict(X_test, verbose=0)\n",
        "yhat_probs = np.argmax(y_probs, axis=1) #Getting predicted labels\n",
        "y_trues = np.argmax(y_test_encoded, axis=1)"
      ],
      "execution_count": null,
      "outputs": []
    },
    {
      "cell_type": "code",
      "metadata": {
        "colab": {
          "base_uri": "https://localhost:8080/"
        },
        "id": "C-h6xETmAD8J",
        "outputId": "6f5f4b18-f7fa-4cf9-be2d-a36490fc7599"
      },
      "source": [
        "cm = confusion_matrix(y_trues, yhat_probs)\n",
        "cm"
      ],
      "execution_count": null,
      "outputs": [
        {
          "output_type": "execute_result",
          "data": {
            "text/plain": [
              "array([[123,   0,   5,   4,   3,  16,   0,  12,   5,  25],\n",
              "       [  0,  51,   3,   4,   5,   0,   5,   2,   0,   7],\n",
              "       [ 13,   1,  91,  20,   1,  10,   0,   5,   4,  34],\n",
              "       [  4,   4,  20, 124,   3,   1,  20,   1,   7,   5],\n",
              "       [ 11,   5,   6,  18, 117,   6,   4,  12,   3,   6],\n",
              "       [ 24,   0,  11,   2,   2, 145,   1,   1,   3,   2],\n",
              "       [  0,   0,   0,   0,   0,   0,  70,   1,   0,   0],\n",
              "       [ 22,   1,   6,   3,  23,   7,   5, 136,   0,   6],\n",
              "       [  1,   5,   6,   6,   2,   1,   0,   0, 146,   3],\n",
              "       [ 18,   4,  21,   6,   8,   2,   0,   2,  12, 112]])"
            ]
          },
          "metadata": {
            "tags": []
          },
          "execution_count": 34
        }
      ]
    },
    {
      "cell_type": "code",
      "metadata": {
        "colab": {
          "base_uri": "https://localhost:8080/",
          "height": 497
        },
        "id": "WfvPx7czAD8J",
        "outputId": "6fb71286-6494-4ccf-fe1e-46bb45818c26"
      },
      "source": [
        "def display_cm():\n",
        "  CM = confusion_matrix(y_trues, yhat_probs)\n",
        "  f, ax = plt.subplots(figsize=(8,8))\n",
        "  sb.heatmap(CM,annot = True, linewidths=0.5,linecolor=\"white\",fmt=\".0f\",ax=ax, cmap=plt.cm.copper)\n",
        "  plt.xlabel(\"Prediction(Ypred)\")\n",
        "  plt.ylabel(\"Ytrue\")\n",
        "  plt.show()\n",
        "display_cm()"
      ],
      "execution_count": null,
      "outputs": [
        {
          "output_type": "display_data",
          "data": {
            "image/png": "[encoded data removed]",
            "text/plain": [
              "<Figure size 576x576 with 2 Axes>"
            ]
          },
          "metadata": {
            "tags": []
          }
        }
      ]
    },
    {
      "cell_type": "markdown",
      "metadata": {
        "id": "JKTKOz6wAD8J"
      },
      "source": [
        "### **8.5 Classification Report**"
      ]
    },
    {
      "cell_type": "code",
      "metadata": {
        "colab": {
          "base_uri": "https://localhost:8080/"
        },
        "id": "RDZK057gAD8K",
        "outputId": "c03ec405-f39b-431b-f169-45dd2eb9df46"
      },
      "source": [
        "re = classification_report(y_trues, yhat_probs, labels=[0,1,2,3,4,5,6,7,8,9], target_names=labels)\n",
        "print(re)"
      ],
      "execution_count": null,
      "outputs": [
        {
          "output_type": "stream",
          "text": [
            "                  precision    recall  f1-score   support\n",
            "\n",
            " Air Conditioner       0.57      0.64      0.60       193\n",
            "        Car Horn       0.72      0.66      0.69        77\n",
            "Children Playing       0.54      0.51      0.52       179\n",
            "        Dog bark       0.66      0.66      0.66       189\n",
            "        Drilling       0.71      0.62      0.66       188\n",
            "   Engine Idling       0.77      0.76      0.77       191\n",
            "        Gun Shot       0.67      0.99      0.80        71\n",
            "      Jackhammer       0.79      0.65      0.71       209\n",
            "           Siren       0.81      0.86      0.83       170\n",
            "    Street Music       0.56      0.61      0.58       185\n",
            "\n",
            "        accuracy                           0.67      1652\n",
            "       macro avg       0.68      0.69      0.68      1652\n",
            "    weighted avg       0.68      0.67      0.67      1652\n",
            "\n"
          ],
          "name": "stdout"
        }
      ]
    },
    {
      "cell_type": "markdown",
      "metadata": {
        "id": "ZufQp83lAD8K"
      },
      "source": [
        "### **8.6 Accuracy per Class**"
      ]
    },
    {
      "cell_type": "code",
      "metadata": {
        "colab": {
          "base_uri": "https://localhost:8080/",
          "height": 343
        },
        "id": "-U6VZjS_AD8K",
        "outputId": "6d1a3e1c-3951-43ca-9155-9d60bc0353d0"
      },
      "source": [
        "accuracies = acc_per_class(cm)\n",
        "pd.DataFrame({\n",
        "    'CLASS': labels,\n",
        "    'ACCURACY': accuracies}).sort_values(by=\"ACCURACY\", ascending=False)"
      ],
      "execution_count": null,
      "outputs": [
        {
          "output_type": "execute_result",
          "data": {
            "text/html": [
              "<div>\n",
              "<style scoped>\n",
              "    .dataframe tbody tr th:only-of-type {\n",
              "        vertical-align: middle;\n",
              "    }\n",
              "\n",
              "    .dataframe tbody tr th {\n",
              "        vertical-align: top;\n",
              "    }\n",
              "\n",
              "    .dataframe thead th {\n",
              "        text-align: right;\n",
              "    }\n",
              "</style>\n",
              "<table border=\"1\" class=\"dataframe\">\n",
              "  <thead>\n",
              "    <tr style=\"text-align: right;\">\n",
              "      <th></th>\n",
              "      <th>CLASS</th>\n",
              "      <th>ACCURACY</th>\n",
              "    </tr>\n",
              "  </thead>\n",
              "  <tbody>\n",
              "    <tr>\n",
              "      <th>6</th>\n",
              "      <td>Gun Shot</td>\n",
              "      <td>98.591549</td>\n",
              "    </tr>\n",
              "    <tr>\n",
              "      <th>8</th>\n",
              "      <td>Siren</td>\n",
              "      <td>85.882353</td>\n",
              "    </tr>\n",
              "    <tr>\n",
              "      <th>5</th>\n",
              "      <td>Engine Idling</td>\n",
              "      <td>75.916230</td>\n",
              "    </tr>\n",
              "    <tr>\n",
              "      <th>1</th>\n",
              "      <td>Car Horn</td>\n",
              "      <td>66.233766</td>\n",
              "    </tr>\n",
              "    <tr>\n",
              "      <th>3</th>\n",
              "      <td>Dog bark</td>\n",
              "      <td>65.608466</td>\n",
              "    </tr>\n",
              "    <tr>\n",
              "      <th>7</th>\n",
              "      <td>Jackhammer</td>\n",
              "      <td>65.071770</td>\n",
              "    </tr>\n",
              "    <tr>\n",
              "      <th>0</th>\n",
              "      <td>Air Conditioner</td>\n",
              "      <td>63.730570</td>\n",
              "    </tr>\n",
              "    <tr>\n",
              "      <th>4</th>\n",
              "      <td>Drilling</td>\n",
              "      <td>62.234043</td>\n",
              "    </tr>\n",
              "    <tr>\n",
              "      <th>9</th>\n",
              "      <td>Street Music</td>\n",
              "      <td>60.540541</td>\n",
              "    </tr>\n",
              "    <tr>\n",
              "      <th>2</th>\n",
              "      <td>Children Playing</td>\n",
              "      <td>50.837989</td>\n",
              "    </tr>\n",
              "  </tbody>\n",
              "</table>\n",
              "</div>"
            ],
            "text/plain": [
              "              CLASS   ACCURACY\n",
              "6          Gun Shot  98.591549\n",
              "8             Siren  85.882353\n",
              "5     Engine Idling  75.916230\n",
              "1          Car Horn  66.233766\n",
              "3          Dog bark  65.608466\n",
              "7        Jackhammer  65.071770\n",
              "0   Air Conditioner  63.730570\n",
              "4          Drilling  62.234043\n",
              "9      Street Music  60.540541\n",
              "2  Children Playing  50.837989"
            ]
          },
          "metadata": {
            "tags": []
          },
          "execution_count": 37
        }
      ]
    },
    {
      "cell_type": "markdown",
      "metadata": {
        "id": "_cs0v3o45DHE"
      },
      "source": [
        "## **9. CNN Model Architecture - Performance Tuning**"
      ]
    },
    {
      "cell_type": "code",
      "metadata": {
        "id": "E2By4GRf5DHG"
      },
      "source": [
        "def create_model(spatial_dropout_rate_1=0, spatial_dropout_rate_2=0, l2_rate=0):\n",
        "\n",
        "    model = Sequential()\n",
        "    model.add(Conv2D(filters=32, kernel_size=(3, 3), kernel_regularizer=l2(l2_rate), input_shape=(num_rows, num_columns, num_channels)))\n",
        "    model.add(LeakyReLU(alpha=0.1))\n",
        "    model.add(BatchNormalization())\n",
        "\n",
        "    \n",
        "    model.add(Conv2D(filters=32, kernel_size=(3, 3), kernel_regularizer=l2(l2_rate)))\n",
        "    model.add(LeakyReLU(alpha=0.1))\n",
        "    model.add(BatchNormalization())\n",
        "\n",
        "    model.add(MaxPooling2D(pool_size=(2, 2)))\n",
        "\n",
        "    \n",
        "    model.add(Conv2D(filters=64, kernel_size=(3, 3), kernel_regularizer=l2(l2_rate)))\n",
        "    model.add(LeakyReLU(alpha=0.1))\n",
        "    model.add(BatchNormalization())\n",
        "\n",
        "    \n",
        "    model.add(Conv2D(filters=64, kernel_size=(3,3), kernel_regularizer=l2(l2_rate)))\n",
        "    model.add(LeakyReLU(alpha=0.1))\n",
        "    model.add(BatchNormalization())\n",
        "    \n",
        "    model.add(GlobalAveragePooling2D())\n",
        "    model.add(Dense(num_labels, activation='softmax'))\n",
        "    return model"
      ],
      "execution_count": null,
      "outputs": []
    },
    {
      "cell_type": "code",
      "metadata": {
        "id": "b_xpIm1g5DHH"
      },
      "source": [
        "#Regularization rates\n",
        "spatial_dropout_rate_1 = 0.07\n",
        "spatial_dropout_rate_2 = 0.14\n",
        "l2_rate = 0.0005\n",
        "#Calling Model\n",
        "model = create_model(spatial_dropout_rate_1, spatial_dropout_rate_2, l2_rate)"
      ],
      "execution_count": null,
      "outputs": []
    },
    {
      "cell_type": "code",
      "metadata": {
        "colab": {
          "base_uri": "https://localhost:8080/"
        },
        "id": "PC-minXj5DHH",
        "outputId": "12ea1ab4-e711-40e7-9a82-7ca9fd63f9c1"
      },
      "source": [
        "model.summary()"
      ],
      "execution_count": null,
      "outputs": [
        {
          "output_type": "stream",
          "text": [
            "Model: \"sequential_1\"\n",
            "_________________________________________________________________\n",
            "Layer (type)                 Output Shape              Param #   \n",
            "=================================================================\n",
            "conv2d_4 (Conv2D)            (None, 38, 172, 32)       320       \n",
            "_________________________________________________________________\n",
            "leaky_re_lu_4 (LeakyReLU)    (None, 38, 172, 32)       0         \n",
            "_________________________________________________________________\n",
            "batch_normalization (BatchNo (None, 38, 172, 32)       128       \n",
            "_________________________________________________________________\n",
            "conv2d_5 (Conv2D)            (None, 36, 170, 32)       9248      \n",
            "_________________________________________________________________\n",
            "leaky_re_lu_5 (LeakyReLU)    (None, 36, 170, 32)       0         \n",
            "_________________________________________________________________\n",
            "batch_normalization_1 (Batch (None, 36, 170, 32)       128       \n",
            "_________________________________________________________________\n",
            "max_pooling2d_1 (MaxPooling2 (None, 18, 85, 32)        0         \n",
            "_________________________________________________________________\n",
            "conv2d_6 (Conv2D)            (None, 16, 83, 64)        18496     \n",
            "_________________________________________________________________\n",
            "leaky_re_lu_6 (LeakyReLU)    (None, 16, 83, 64)        0         \n",
            "_________________________________________________________________\n",
            "batch_normalization_2 (Batch (None, 16, 83, 64)        256       \n",
            "_________________________________________________________________\n",
            "conv2d_7 (Conv2D)            (None, 14, 81, 64)        36928     \n",
            "_________________________________________________________________\n",
            "leaky_re_lu_7 (LeakyReLU)    (None, 14, 81, 64)        0         \n",
            "_________________________________________________________________\n",
            "batch_normalization_3 (Batch (None, 14, 81, 64)        256       \n",
            "_________________________________________________________________\n",
            "global_average_pooling2d_1 ( (None, 64)                0         \n",
            "_________________________________________________________________\n",
            "dense_1 (Dense)              (None, 10)                650       \n",
            "=================================================================\n",
            "Total params: 66,410\n",
            "Trainable params: 66,026\n",
            "Non-trainable params: 384\n",
            "_________________________________________________________________\n"
          ],
          "name": "stdout"
        }
      ]
    },
    {
      "cell_type": "code",
      "metadata": {
        "id": "MfMyzzr65DHI"
      },
      "source": [
        "adam = Adam(lr=1e-4, beta_1=0.99, beta_2=0.999)\n",
        "model.compile(loss='categorical_crossentropy', metrics=['accuracy'], optimizer=adam)"
      ],
      "execution_count": null,
      "outputs": []
    },
    {
      "cell_type": "code",
      "metadata": {
        "id": "v8UKO5Q95DHI"
      },
      "source": [
        "from keras.callbacks import EarlyStopping\n",
        "early = EarlyStopping(monitor='val_accuracy', min_delta=0, patience=25, verbose=1, mode='auto')"
      ],
      "execution_count": null,
      "outputs": []
    },
    {
      "cell_type": "code",
      "metadata": {
        "colab": {
          "base_uri": "https://localhost:8080/"
        },
        "id": "pXr1UT3I9YiL",
        "outputId": "70c97020-3847-4522-c6d3-59f1b888e50d"
      },
      "source": [
        "history = model.fit(X_train, y_train_encoded, batch_size=128, epochs=250, validation_split=1/12., verbose=1, callbacks=[early])"
      ],
      "execution_count": null,
      "outputs": [
        {
          "output_type": "stream",
          "text": [
            "Epoch 1/250\n",
            "48/48 [==============================] - 5s 82ms/step - loss: 2.2763 - accuracy: 0.1761 - val_loss: 2.3962 - val_accuracy: 0.1107\n",
            "Epoch 2/250\n",
            "48/48 [==============================] - 4s 76ms/step - loss: 1.9582 - accuracy: 0.3392 - val_loss: 2.4498 - val_accuracy: 0.1107\n",
            "Epoch 3/250\n",
            "48/48 [==============================] - 4s 76ms/step - loss: 1.8406 - accuracy: 0.3871 - val_loss: 2.5597 - val_accuracy: 0.0436\n",
            "Epoch 4/250\n",
            "48/48 [==============================] - 4s 77ms/step - loss: 1.7363 - accuracy: 0.4373 - val_loss: 2.8221 - val_accuracy: 0.0799\n",
            "Epoch 5/250\n",
            "48/48 [==============================] - 4s 77ms/step - loss: 1.6832 - accuracy: 0.4483 - val_loss: 3.1943 - val_accuracy: 0.0635\n",
            "Epoch 6/250\n",
            "48/48 [==============================] - 4s 77ms/step - loss: 1.6375 - accuracy: 0.4648 - val_loss: 3.4525 - val_accuracy: 0.0617\n",
            "Epoch 7/250\n",
            "48/48 [==============================] - 4s 77ms/step - loss: 1.6065 - accuracy: 0.4846 - val_loss: 3.4977 - val_accuracy: 0.0599\n",
            "Epoch 8/250\n",
            "48/48 [==============================] - 4s 77ms/step - loss: 1.5726 - accuracy: 0.4921 - val_loss: 3.4179 - val_accuracy: 0.0635\n",
            "Epoch 9/250\n",
            "48/48 [==============================] - 4s 78ms/step - loss: 1.5659 - accuracy: 0.4843 - val_loss: 2.9816 - val_accuracy: 0.1071\n",
            "Epoch 10/250\n",
            "48/48 [==============================] - 4s 78ms/step - loss: 1.5394 - accuracy: 0.5022 - val_loss: 2.6211 - val_accuracy: 0.1815\n",
            "Epoch 11/250\n",
            "48/48 [==============================] - 4s 78ms/step - loss: 1.4891 - accuracy: 0.5152 - val_loss: 2.1946 - val_accuracy: 0.2704\n",
            "Epoch 12/250\n",
            "48/48 [==============================] - 4s 78ms/step - loss: 1.4742 - accuracy: 0.5165 - val_loss: 1.8404 - val_accuracy: 0.3884\n",
            "Epoch 13/250\n",
            "48/48 [==============================] - 4s 77ms/step - loss: 1.4386 - accuracy: 0.5425 - val_loss: 1.6387 - val_accuracy: 0.4664\n",
            "Epoch 14/250\n",
            "48/48 [==============================] - 4s 77ms/step - loss: 1.4297 - accuracy: 0.5422 - val_loss: 1.5034 - val_accuracy: 0.5281\n",
            "Epoch 15/250\n",
            "48/48 [==============================] - 4s 77ms/step - loss: 1.4288 - accuracy: 0.5441 - val_loss: 1.3984 - val_accuracy: 0.5590\n",
            "Epoch 16/250\n",
            "48/48 [==============================] - 4s 77ms/step - loss: 1.4019 - accuracy: 0.5439 - val_loss: 1.3352 - val_accuracy: 0.5789\n",
            "Epoch 17/250\n",
            "48/48 [==============================] - 4s 77ms/step - loss: 1.3801 - accuracy: 0.5524 - val_loss: 1.3062 - val_accuracy: 0.5989\n",
            "Epoch 18/250\n",
            "48/48 [==============================] - 4s 77ms/step - loss: 1.3615 - accuracy: 0.5599 - val_loss: 1.2718 - val_accuracy: 0.6007\n",
            "Epoch 19/250\n",
            "48/48 [==============================] - 4s 77ms/step - loss: 1.3504 - accuracy: 0.5674 - val_loss: 1.2558 - val_accuracy: 0.6080\n",
            "Epoch 20/250\n",
            "48/48 [==============================] - 4s 76ms/step - loss: 1.3123 - accuracy: 0.5834 - val_loss: 1.2352 - val_accuracy: 0.6116\n",
            "Epoch 21/250\n",
            "48/48 [==============================] - 4s 76ms/step - loss: 1.3181 - accuracy: 0.5725 - val_loss: 1.2243 - val_accuracy: 0.6316\n",
            "Epoch 22/250\n",
            "48/48 [==============================] - 4s 76ms/step - loss: 1.2952 - accuracy: 0.5910 - val_loss: 1.2025 - val_accuracy: 0.6316\n",
            "Epoch 23/250\n",
            "48/48 [==============================] - 4s 76ms/step - loss: 1.2941 - accuracy: 0.5734 - val_loss: 1.1931 - val_accuracy: 0.6407\n",
            "Epoch 24/250\n",
            "48/48 [==============================] - 4s 76ms/step - loss: 1.2950 - accuracy: 0.5820 - val_loss: 1.1764 - val_accuracy: 0.6606\n",
            "Epoch 25/250\n",
            "48/48 [==============================] - 4s 76ms/step - loss: 1.2616 - accuracy: 0.6002 - val_loss: 1.1681 - val_accuracy: 0.6515\n",
            "Epoch 26/250\n",
            "48/48 [==============================] - 4s 76ms/step - loss: 1.2257 - accuracy: 0.6206 - val_loss: 1.1461 - val_accuracy: 0.6570\n",
            "Epoch 27/250\n",
            "48/48 [==============================] - 4s 77ms/step - loss: 1.2302 - accuracy: 0.6122 - val_loss: 1.1408 - val_accuracy: 0.6624\n",
            "Epoch 28/250\n",
            "48/48 [==============================] - 4s 76ms/step - loss: 1.2430 - accuracy: 0.6098 - val_loss: 1.1217 - val_accuracy: 0.6642\n",
            "Epoch 29/250\n",
            "48/48 [==============================] - 4s 77ms/step - loss: 1.2001 - accuracy: 0.6184 - val_loss: 1.1214 - val_accuracy: 0.6733\n",
            "Epoch 30/250\n",
            "48/48 [==============================] - 4s 77ms/step - loss: 1.2195 - accuracy: 0.6195 - val_loss: 1.1076 - val_accuracy: 0.6751\n",
            "Epoch 31/250\n",
            "48/48 [==============================] - 4s 77ms/step - loss: 1.1817 - accuracy: 0.6186 - val_loss: 1.1037 - val_accuracy: 0.6788\n",
            "Epoch 32/250\n",
            "48/48 [==============================] - 4s 77ms/step - loss: 1.1846 - accuracy: 0.6243 - val_loss: 1.0797 - val_accuracy: 0.6860\n",
            "Epoch 33/250\n",
            "48/48 [==============================] - 4s 77ms/step - loss: 1.1703 - accuracy: 0.6366 - val_loss: 1.0738 - val_accuracy: 0.6969\n",
            "Epoch 34/250\n",
            "48/48 [==============================] - 4s 77ms/step - loss: 1.1625 - accuracy: 0.6336 - val_loss: 1.0631 - val_accuracy: 0.6933\n",
            "Epoch 35/250\n",
            "48/48 [==============================] - 4s 78ms/step - loss: 1.1387 - accuracy: 0.6401 - val_loss: 1.0470 - val_accuracy: 0.7042\n",
            "Epoch 36/250\n",
            "48/48 [==============================] - 4s 78ms/step - loss: 1.1379 - accuracy: 0.6528 - val_loss: 1.0339 - val_accuracy: 0.7042\n",
            "Epoch 37/250\n",
            "48/48 [==============================] - 4s 77ms/step - loss: 1.1254 - accuracy: 0.6429 - val_loss: 1.0261 - val_accuracy: 0.7187\n",
            "Epoch 38/250\n",
            "48/48 [==============================] - 4s 77ms/step - loss: 1.1146 - accuracy: 0.6487 - val_loss: 1.0164 - val_accuracy: 0.7169\n",
            "Epoch 39/250\n",
            "48/48 [==============================] - 4s 77ms/step - loss: 1.1075 - accuracy: 0.6596 - val_loss: 1.0088 - val_accuracy: 0.7078\n",
            "Epoch 40/250\n",
            "48/48 [==============================] - 4s 77ms/step - loss: 1.0888 - accuracy: 0.6661 - val_loss: 1.0010 - val_accuracy: 0.7241\n",
            "Epoch 41/250\n",
            "48/48 [==============================] - 4s 77ms/step - loss: 1.0896 - accuracy: 0.6690 - val_loss: 0.9844 - val_accuracy: 0.7223\n",
            "Epoch 42/250\n",
            "48/48 [==============================] - 4s 77ms/step - loss: 1.0958 - accuracy: 0.6640 - val_loss: 0.9752 - val_accuracy: 0.7260\n",
            "Epoch 43/250\n",
            "48/48 [==============================] - 4s 78ms/step - loss: 1.0732 - accuracy: 0.6722 - val_loss: 0.9762 - val_accuracy: 0.7350\n",
            "Epoch 44/250\n",
            "48/48 [==============================] - 4s 77ms/step - loss: 1.0614 - accuracy: 0.6814 - val_loss: 0.9652 - val_accuracy: 0.7296\n",
            "Epoch 45/250\n",
            "48/48 [==============================] - 4s 77ms/step - loss: 1.0546 - accuracy: 0.6724 - val_loss: 0.9570 - val_accuracy: 0.7296\n",
            "Epoch 46/250\n",
            "48/48 [==============================] - 4s 77ms/step - loss: 1.0593 - accuracy: 0.6803 - val_loss: 0.9531 - val_accuracy: 0.7296\n",
            "Epoch 47/250\n",
            "48/48 [==============================] - 4s 77ms/step - loss: 1.0450 - accuracy: 0.6726 - val_loss: 0.9578 - val_accuracy: 0.7278\n",
            "Epoch 48/250\n",
            "48/48 [==============================] - 4s 77ms/step - loss: 1.0157 - accuracy: 0.6892 - val_loss: 0.9321 - val_accuracy: 0.7296\n",
            "Epoch 49/250\n",
            "48/48 [==============================] - 4s 77ms/step - loss: 1.0158 - accuracy: 0.6958 - val_loss: 0.9155 - val_accuracy: 0.7423\n",
            "Epoch 50/250\n",
            "48/48 [==============================] - 4s 77ms/step - loss: 1.0102 - accuracy: 0.6930 - val_loss: 0.9086 - val_accuracy: 0.7423\n",
            "Epoch 51/250\n",
            "48/48 [==============================] - 4s 77ms/step - loss: 1.0211 - accuracy: 0.6871 - val_loss: 0.8983 - val_accuracy: 0.7459\n",
            "Epoch 52/250\n",
            "48/48 [==============================] - 4s 77ms/step - loss: 0.9713 - accuracy: 0.7080 - val_loss: 0.8945 - val_accuracy: 0.7495\n",
            "Epoch 53/250\n",
            "48/48 [==============================] - 4s 77ms/step - loss: 0.9838 - accuracy: 0.7085 - val_loss: 0.8879 - val_accuracy: 0.7441\n",
            "Epoch 54/250\n",
            "48/48 [==============================] - 4s 77ms/step - loss: 0.9914 - accuracy: 0.6958 - val_loss: 0.8905 - val_accuracy: 0.7477\n",
            "Epoch 55/250\n",
            "48/48 [==============================] - 4s 77ms/step - loss: 0.9768 - accuracy: 0.7002 - val_loss: 0.8806 - val_accuracy: 0.7659\n",
            "Epoch 56/250\n",
            "48/48 [==============================] - 4s 77ms/step - loss: 0.9770 - accuracy: 0.7092 - val_loss: 0.8752 - val_accuracy: 0.7441\n",
            "Epoch 57/250\n",
            "48/48 [==============================] - 4s 77ms/step - loss: 0.9717 - accuracy: 0.7109 - val_loss: 0.8605 - val_accuracy: 0.7659\n",
            "Epoch 58/250\n",
            "48/48 [==============================] - 4s 77ms/step - loss: 0.9489 - accuracy: 0.7141 - val_loss: 0.8566 - val_accuracy: 0.7713\n",
            "Epoch 59/250\n",
            "48/48 [==============================] - 4s 77ms/step - loss: 0.9643 - accuracy: 0.7071 - val_loss: 0.8517 - val_accuracy: 0.7822\n",
            "Epoch 60/250\n",
            "48/48 [==============================] - 4s 77ms/step - loss: 0.9469 - accuracy: 0.7231 - val_loss: 0.8474 - val_accuracy: 0.7750\n",
            "Epoch 61/250\n",
            "48/48 [==============================] - 4s 77ms/step - loss: 0.9562 - accuracy: 0.7096 - val_loss: 0.8447 - val_accuracy: 0.7804\n",
            "Epoch 62/250\n",
            "48/48 [==============================] - 4s 77ms/step - loss: 0.9327 - accuracy: 0.7277 - val_loss: 0.8317 - val_accuracy: 0.7985\n",
            "Epoch 63/250\n",
            "48/48 [==============================] - 4s 77ms/step - loss: 0.9188 - accuracy: 0.7239 - val_loss: 0.8253 - val_accuracy: 0.7913\n",
            "Epoch 64/250\n",
            "48/48 [==============================] - 4s 77ms/step - loss: 0.9348 - accuracy: 0.7246 - val_loss: 0.8195 - val_accuracy: 0.7786\n",
            "Epoch 65/250\n",
            "48/48 [==============================] - 4s 77ms/step - loss: 0.9288 - accuracy: 0.7238 - val_loss: 0.8169 - val_accuracy: 0.7768\n",
            "Epoch 66/250\n",
            "48/48 [==============================] - 4s 77ms/step - loss: 0.9113 - accuracy: 0.7239 - val_loss: 0.8026 - val_accuracy: 0.7858\n",
            "Epoch 67/250\n",
            "48/48 [==============================] - 4s 77ms/step - loss: 0.9166 - accuracy: 0.7136 - val_loss: 0.7988 - val_accuracy: 0.8004\n",
            "Epoch 68/250\n",
            "48/48 [==============================] - 4s 77ms/step - loss: 0.9103 - accuracy: 0.7258 - val_loss: 0.7946 - val_accuracy: 0.7858\n",
            "Epoch 69/250\n",
            "48/48 [==============================] - 4s 77ms/step - loss: 0.8907 - accuracy: 0.7380 - val_loss: 0.7890 - val_accuracy: 0.7786\n",
            "Epoch 70/250\n",
            "48/48 [==============================] - 4s 77ms/step - loss: 0.8821 - accuracy: 0.7320 - val_loss: 0.7824 - val_accuracy: 0.7877\n",
            "Epoch 71/250\n",
            "48/48 [==============================] - 4s 77ms/step - loss: 0.8529 - accuracy: 0.7466 - val_loss: 0.7792 - val_accuracy: 0.7931\n",
            "Epoch 72/250\n",
            "48/48 [==============================] - 4s 77ms/step - loss: 0.8789 - accuracy: 0.7369 - val_loss: 0.7735 - val_accuracy: 0.8004\n",
            "Epoch 73/250\n",
            "48/48 [==============================] - 4s 77ms/step - loss: 0.8661 - accuracy: 0.7532 - val_loss: 0.7773 - val_accuracy: 0.8040\n",
            "Epoch 74/250\n",
            "48/48 [==============================] - 4s 77ms/step - loss: 0.8794 - accuracy: 0.7336 - val_loss: 0.7793 - val_accuracy: 0.8131\n",
            "Epoch 75/250\n",
            "48/48 [==============================] - 4s 77ms/step - loss: 0.8621 - accuracy: 0.7473 - val_loss: 0.7695 - val_accuracy: 0.8076\n",
            "Epoch 76/250\n",
            "48/48 [==============================] - 4s 77ms/step - loss: 0.8734 - accuracy: 0.7405 - val_loss: 0.7528 - val_accuracy: 0.8040\n",
            "Epoch 77/250\n",
            "48/48 [==============================] - 4s 77ms/step - loss: 0.8417 - accuracy: 0.7540 - val_loss: 0.7513 - val_accuracy: 0.7985\n",
            "Epoch 78/250\n",
            "48/48 [==============================] - 4s 77ms/step - loss: 0.8385 - accuracy: 0.7495 - val_loss: 0.7488 - val_accuracy: 0.7985\n",
            "Epoch 79/250\n",
            "48/48 [==============================] - 4s 77ms/step - loss: 0.8322 - accuracy: 0.7604 - val_loss: 0.7411 - val_accuracy: 0.7985\n",
            "Epoch 80/250\n",
            "48/48 [==============================] - 4s 77ms/step - loss: 0.8391 - accuracy: 0.7559 - val_loss: 0.7387 - val_accuracy: 0.8131\n",
            "Epoch 81/250\n",
            "48/48 [==============================] - 4s 77ms/step - loss: 0.8225 - accuracy: 0.7555 - val_loss: 0.7260 - val_accuracy: 0.8131\n",
            "Epoch 82/250\n",
            "48/48 [==============================] - 4s 78ms/step - loss: 0.8319 - accuracy: 0.7529 - val_loss: 0.7251 - val_accuracy: 0.8185\n",
            "Epoch 83/250\n",
            "48/48 [==============================] - 4s 77ms/step - loss: 0.8206 - accuracy: 0.7553 - val_loss: 0.7207 - val_accuracy: 0.8149\n",
            "Epoch 84/250\n",
            "48/48 [==============================] - 4s 77ms/step - loss: 0.8291 - accuracy: 0.7566 - val_loss: 0.7137 - val_accuracy: 0.8113\n",
            "Epoch 85/250\n",
            "48/48 [==============================] - 4s 77ms/step - loss: 0.8375 - accuracy: 0.7483 - val_loss: 0.7101 - val_accuracy: 0.8113\n",
            "Epoch 86/250\n",
            "48/48 [==============================] - 4s 77ms/step - loss: 0.8107 - accuracy: 0.7621 - val_loss: 0.7084 - val_accuracy: 0.8131\n",
            "Epoch 87/250\n",
            "48/48 [==============================] - 4s 77ms/step - loss: 0.8009 - accuracy: 0.7724 - val_loss: 0.7079 - val_accuracy: 0.8131\n",
            "Epoch 88/250\n",
            "48/48 [==============================] - 4s 77ms/step - loss: 0.7991 - accuracy: 0.7661 - val_loss: 0.7036 - val_accuracy: 0.8240\n",
            "Epoch 89/250\n",
            "48/48 [==============================] - 4s 77ms/step - loss: 0.7894 - accuracy: 0.7673 - val_loss: 0.6977 - val_accuracy: 0.8294\n",
            "Epoch 90/250\n",
            "48/48 [==============================] - 4s 77ms/step - loss: 0.7760 - accuracy: 0.7715 - val_loss: 0.6856 - val_accuracy: 0.8312\n",
            "Epoch 91/250\n",
            "48/48 [==============================] - 4s 77ms/step - loss: 0.7935 - accuracy: 0.7619 - val_loss: 0.6835 - val_accuracy: 0.8203\n",
            "Epoch 92/250\n",
            "48/48 [==============================] - 4s 77ms/step - loss: 0.8027 - accuracy: 0.7624 - val_loss: 0.6868 - val_accuracy: 0.8131\n",
            "Epoch 93/250\n",
            "48/48 [==============================] - 4s 77ms/step - loss: 0.8003 - accuracy: 0.7622 - val_loss: 0.6781 - val_accuracy: 0.8240\n",
            "Epoch 94/250\n",
            "48/48 [==============================] - 4s 77ms/step - loss: 0.7627 - accuracy: 0.7883 - val_loss: 0.6705 - val_accuracy: 0.8258\n",
            "Epoch 95/250\n",
            "48/48 [==============================] - 4s 77ms/step - loss: 0.7750 - accuracy: 0.7756 - val_loss: 0.6712 - val_accuracy: 0.8312\n",
            "Epoch 96/250\n",
            "48/48 [==============================] - 4s 77ms/step - loss: 0.7773 - accuracy: 0.7717 - val_loss: 0.6667 - val_accuracy: 0.8348\n",
            "Epoch 97/250\n",
            "48/48 [==============================] - 4s 77ms/step - loss: 0.7638 - accuracy: 0.7740 - val_loss: 0.6575 - val_accuracy: 0.8348\n",
            "Epoch 98/250\n",
            "48/48 [==============================] - 4s 77ms/step - loss: 0.7480 - accuracy: 0.7846 - val_loss: 0.6588 - val_accuracy: 0.8385\n",
            "Epoch 99/250\n",
            "48/48 [==============================] - 4s 78ms/step - loss: 0.7605 - accuracy: 0.7804 - val_loss: 0.6569 - val_accuracy: 0.8294\n",
            "Epoch 100/250\n",
            "48/48 [==============================] - 4s 77ms/step - loss: 0.7567 - accuracy: 0.7862 - val_loss: 0.6609 - val_accuracy: 0.8385\n",
            "Epoch 101/250\n",
            "48/48 [==============================] - 4s 77ms/step - loss: 0.7530 - accuracy: 0.7795 - val_loss: 0.6481 - val_accuracy: 0.8385\n",
            "Epoch 102/250\n",
            "48/48 [==============================] - 4s 76ms/step - loss: 0.7685 - accuracy: 0.7748 - val_loss: 0.6466 - val_accuracy: 0.8276\n",
            "Epoch 103/250\n",
            "48/48 [==============================] - 4s 77ms/step - loss: 0.7530 - accuracy: 0.7814 - val_loss: 0.6464 - val_accuracy: 0.8203\n",
            "Epoch 104/250\n",
            "48/48 [==============================] - 4s 77ms/step - loss: 0.7374 - accuracy: 0.7868 - val_loss: 0.6442 - val_accuracy: 0.8348\n",
            "Epoch 105/250\n",
            "48/48 [==============================] - 4s 77ms/step - loss: 0.7331 - accuracy: 0.7895 - val_loss: 0.6334 - val_accuracy: 0.8385\n",
            "Epoch 106/250\n",
            "48/48 [==============================] - 4s 78ms/step - loss: 0.7300 - accuracy: 0.7940 - val_loss: 0.6347 - val_accuracy: 0.8439\n",
            "Epoch 107/250\n",
            "48/48 [==============================] - 4s 77ms/step - loss: 0.7252 - accuracy: 0.7880 - val_loss: 0.6312 - val_accuracy: 0.8385\n",
            "Epoch 108/250\n",
            "48/48 [==============================] - 4s 77ms/step - loss: 0.7212 - accuracy: 0.7893 - val_loss: 0.6315 - val_accuracy: 0.8330\n",
            "Epoch 109/250\n",
            "48/48 [==============================] - 4s 77ms/step - loss: 0.7194 - accuracy: 0.7943 - val_loss: 0.6217 - val_accuracy: 0.8475\n",
            "Epoch 110/250\n",
            "48/48 [==============================] - 4s 77ms/step - loss: 0.7123 - accuracy: 0.7975 - val_loss: 0.6215 - val_accuracy: 0.8439\n",
            "Epoch 111/250\n",
            "48/48 [==============================] - 4s 77ms/step - loss: 0.6959 - accuracy: 0.8023 - val_loss: 0.6170 - val_accuracy: 0.8403\n",
            "Epoch 112/250\n",
            "48/48 [==============================] - 4s 78ms/step - loss: 0.7119 - accuracy: 0.8020 - val_loss: 0.6172 - val_accuracy: 0.8421\n",
            "Epoch 113/250\n",
            "48/48 [==============================] - 4s 77ms/step - loss: 0.7157 - accuracy: 0.7924 - val_loss: 0.6117 - val_accuracy: 0.8494\n",
            "Epoch 114/250\n",
            "48/48 [==============================] - 4s 77ms/step - loss: 0.7146 - accuracy: 0.7879 - val_loss: 0.6091 - val_accuracy: 0.8512\n",
            "Epoch 115/250\n",
            "48/48 [==============================] - 4s 77ms/step - loss: 0.6998 - accuracy: 0.8027 - val_loss: 0.6036 - val_accuracy: 0.8403\n",
            "Epoch 116/250\n",
            "48/48 [==============================] - 4s 77ms/step - loss: 0.6958 - accuracy: 0.8027 - val_loss: 0.5954 - val_accuracy: 0.8548\n",
            "Epoch 117/250\n",
            "48/48 [==============================] - 4s 78ms/step - loss: 0.7068 - accuracy: 0.7997 - val_loss: 0.5857 - val_accuracy: 0.8548\n",
            "Epoch 118/250\n",
            "48/48 [==============================] - 4s 77ms/step - loss: 0.7057 - accuracy: 0.7920 - val_loss: 0.5918 - val_accuracy: 0.8530\n",
            "Epoch 119/250\n",
            "48/48 [==============================] - 4s 77ms/step - loss: 0.6801 - accuracy: 0.8133 - val_loss: 0.5899 - val_accuracy: 0.8475\n",
            "Epoch 120/250\n",
            "48/48 [==============================] - 4s 77ms/step - loss: 0.6884 - accuracy: 0.8079 - val_loss: 0.5914 - val_accuracy: 0.8530\n",
            "Epoch 121/250\n",
            "48/48 [==============================] - 4s 77ms/step - loss: 0.6791 - accuracy: 0.8032 - val_loss: 0.5886 - val_accuracy: 0.8494\n",
            "Epoch 122/250\n",
            "48/48 [==============================] - 4s 77ms/step - loss: 0.6787 - accuracy: 0.8046 - val_loss: 0.5889 - val_accuracy: 0.8530\n",
            "Epoch 123/250\n",
            "48/48 [==============================] - 4s 77ms/step - loss: 0.6941 - accuracy: 0.7959 - val_loss: 0.5798 - val_accuracy: 0.8548\n",
            "Epoch 124/250\n",
            "48/48 [==============================] - 4s 77ms/step - loss: 0.6647 - accuracy: 0.8103 - val_loss: 0.5777 - val_accuracy: 0.8530\n",
            "Epoch 125/250\n",
            "48/48 [==============================] - 4s 77ms/step - loss: 0.6651 - accuracy: 0.8171 - val_loss: 0.5759 - val_accuracy: 0.8512\n",
            "Epoch 126/250\n",
            "48/48 [==============================] - 4s 77ms/step - loss: 0.6568 - accuracy: 0.8109 - val_loss: 0.5734 - val_accuracy: 0.8512\n",
            "Epoch 127/250\n",
            "48/48 [==============================] - 4s 77ms/step - loss: 0.6761 - accuracy: 0.8007 - val_loss: 0.5881 - val_accuracy: 0.8530\n",
            "Epoch 128/250\n",
            "48/48 [==============================] - 4s 77ms/step - loss: 0.6523 - accuracy: 0.8208 - val_loss: 0.5800 - val_accuracy: 0.8403\n",
            "Epoch 129/250\n",
            "48/48 [==============================] - 4s 77ms/step - loss: 0.6534 - accuracy: 0.8177 - val_loss: 0.5618 - val_accuracy: 0.8603\n",
            "Epoch 130/250\n",
            "48/48 [==============================] - 4s 77ms/step - loss: 0.6516 - accuracy: 0.8099 - val_loss: 0.5628 - val_accuracy: 0.8603\n",
            "Epoch 131/250\n",
            "48/48 [==============================] - 4s 77ms/step - loss: 0.6669 - accuracy: 0.8109 - val_loss: 0.5559 - val_accuracy: 0.8530\n",
            "Epoch 132/250\n",
            "48/48 [==============================] - 4s 77ms/step - loss: 0.6437 - accuracy: 0.8124 - val_loss: 0.5552 - val_accuracy: 0.8566\n",
            "Epoch 133/250\n",
            "48/48 [==============================] - 4s 77ms/step - loss: 0.6508 - accuracy: 0.8116 - val_loss: 0.5511 - val_accuracy: 0.8621\n",
            "Epoch 134/250\n",
            "48/48 [==============================] - 4s 77ms/step - loss: 0.6375 - accuracy: 0.8150 - val_loss: 0.5477 - val_accuracy: 0.8566\n",
            "Epoch 135/250\n",
            "48/48 [==============================] - 4s 77ms/step - loss: 0.6391 - accuracy: 0.8192 - val_loss: 0.5494 - val_accuracy: 0.8584\n",
            "Epoch 136/250\n",
            "48/48 [==============================] - 4s 77ms/step - loss: 0.6483 - accuracy: 0.8120 - val_loss: 0.5451 - val_accuracy: 0.8530\n",
            "Epoch 137/250\n",
            "48/48 [==============================] - 4s 78ms/step - loss: 0.6340 - accuracy: 0.8197 - val_loss: 0.5436 - val_accuracy: 0.8621\n",
            "Epoch 138/250\n",
            "48/48 [==============================] - 4s 78ms/step - loss: 0.6513 - accuracy: 0.8127 - val_loss: 0.5446 - val_accuracy: 0.8621\n",
            "Epoch 139/250\n",
            "48/48 [==============================] - 4s 78ms/step - loss: 0.6293 - accuracy: 0.8265 - val_loss: 0.5481 - val_accuracy: 0.8621\n",
            "Epoch 140/250\n",
            "48/48 [==============================] - 4s 77ms/step - loss: 0.6302 - accuracy: 0.8259 - val_loss: 0.5476 - val_accuracy: 0.8675\n",
            "Epoch 141/250\n",
            "48/48 [==============================] - 4s 77ms/step - loss: 0.6432 - accuracy: 0.8065 - val_loss: 0.5421 - val_accuracy: 0.8603\n",
            "Epoch 142/250\n",
            "48/48 [==============================] - 4s 77ms/step - loss: 0.6538 - accuracy: 0.8135 - val_loss: 0.5433 - val_accuracy: 0.8603\n",
            "Epoch 143/250\n",
            "48/48 [==============================] - 4s 77ms/step - loss: 0.6332 - accuracy: 0.8252 - val_loss: 0.5388 - val_accuracy: 0.8675\n",
            "Epoch 144/250\n",
            "48/48 [==============================] - 4s 77ms/step - loss: 0.6256 - accuracy: 0.8263 - val_loss: 0.5372 - val_accuracy: 0.8584\n",
            "Epoch 145/250\n",
            "48/48 [==============================] - 4s 77ms/step - loss: 0.6409 - accuracy: 0.8137 - val_loss: 0.5352 - val_accuracy: 0.8621\n",
            "Epoch 146/250\n",
            "48/48 [==============================] - 4s 78ms/step - loss: 0.6195 - accuracy: 0.8181 - val_loss: 0.5259 - val_accuracy: 0.8584\n",
            "Epoch 147/250\n",
            "48/48 [==============================] - 4s 78ms/step - loss: 0.6052 - accuracy: 0.8353 - val_loss: 0.5206 - val_accuracy: 0.8675\n",
            "Epoch 148/250\n",
            "48/48 [==============================] - 4s 77ms/step - loss: 0.6128 - accuracy: 0.8318 - val_loss: 0.5283 - val_accuracy: 0.8639\n",
            "Epoch 149/250\n",
            "48/48 [==============================] - 4s 77ms/step - loss: 0.6260 - accuracy: 0.8139 - val_loss: 0.5235 - val_accuracy: 0.8639\n",
            "Epoch 150/250\n",
            "48/48 [==============================] - 4s 77ms/step - loss: 0.6017 - accuracy: 0.8312 - val_loss: 0.5201 - val_accuracy: 0.8566\n",
            "Epoch 151/250\n",
            "48/48 [==============================] - 4s 77ms/step - loss: 0.6064 - accuracy: 0.8268 - val_loss: 0.5229 - val_accuracy: 0.8675\n",
            "Epoch 152/250\n",
            "48/48 [==============================] - 4s 77ms/step - loss: 0.5994 - accuracy: 0.8355 - val_loss: 0.5146 - val_accuracy: 0.8711\n",
            "Epoch 153/250\n",
            "48/48 [==============================] - 4s 78ms/step - loss: 0.5943 - accuracy: 0.8266 - val_loss: 0.5093 - val_accuracy: 0.8730\n",
            "Epoch 154/250\n",
            "48/48 [==============================] - 4s 77ms/step - loss: 0.6237 - accuracy: 0.8253 - val_loss: 0.5026 - val_accuracy: 0.8693\n",
            "Epoch 155/250\n",
            "48/48 [==============================] - 4s 77ms/step - loss: 0.5933 - accuracy: 0.8379 - val_loss: 0.5049 - val_accuracy: 0.8657\n",
            "Epoch 156/250\n",
            "48/48 [==============================] - 4s 78ms/step - loss: 0.5829 - accuracy: 0.8368 - val_loss: 0.5058 - val_accuracy: 0.8693\n",
            "Epoch 157/250\n",
            "48/48 [==============================] - 4s 78ms/step - loss: 0.5891 - accuracy: 0.8340 - val_loss: 0.4971 - val_accuracy: 0.8766\n",
            "Epoch 158/250\n",
            "48/48 [==============================] - 4s 78ms/step - loss: 0.5930 - accuracy: 0.8279 - val_loss: 0.5061 - val_accuracy: 0.8748\n",
            "Epoch 159/250\n",
            "48/48 [==============================] - 4s 78ms/step - loss: 0.6026 - accuracy: 0.8291 - val_loss: 0.5061 - val_accuracy: 0.8675\n",
            "Epoch 160/250\n",
            "48/48 [==============================] - 4s 77ms/step - loss: 0.6003 - accuracy: 0.8387 - val_loss: 0.5061 - val_accuracy: 0.8675\n",
            "Epoch 161/250\n",
            "48/48 [==============================] - 4s 78ms/step - loss: 0.5825 - accuracy: 0.8365 - val_loss: 0.4952 - val_accuracy: 0.8748\n",
            "Epoch 162/250\n",
            "48/48 [==============================] - 4s 77ms/step - loss: 0.5738 - accuracy: 0.8419 - val_loss: 0.4926 - val_accuracy: 0.8711\n",
            "Epoch 163/250\n",
            "48/48 [==============================] - 4s 77ms/step - loss: 0.5704 - accuracy: 0.8319 - val_loss: 0.4863 - val_accuracy: 0.8748\n",
            "Epoch 164/250\n",
            "48/48 [==============================] - 4s 77ms/step - loss: 0.5845 - accuracy: 0.8386 - val_loss: 0.4893 - val_accuracy: 0.8693\n",
            "Epoch 165/250\n",
            "48/48 [==============================] - 4s 78ms/step - loss: 0.5663 - accuracy: 0.8433 - val_loss: 0.4894 - val_accuracy: 0.8675\n",
            "Epoch 166/250\n",
            "48/48 [==============================] - 4s 78ms/step - loss: 0.5799 - accuracy: 0.8392 - val_loss: 0.5049 - val_accuracy: 0.8639\n",
            "Epoch 167/250\n",
            "48/48 [==============================] - 4s 77ms/step - loss: 0.5674 - accuracy: 0.8359 - val_loss: 0.5016 - val_accuracy: 0.8603\n",
            "Epoch 168/250\n",
            "48/48 [==============================] - 4s 78ms/step - loss: 0.5691 - accuracy: 0.8359 - val_loss: 0.4900 - val_accuracy: 0.8730\n",
            "Epoch 169/250\n",
            "48/48 [==============================] - 4s 77ms/step - loss: 0.5613 - accuracy: 0.8361 - val_loss: 0.4840 - val_accuracy: 0.8838\n",
            "Epoch 170/250\n",
            "48/48 [==============================] - 4s 77ms/step - loss: 0.5644 - accuracy: 0.8436 - val_loss: 0.4831 - val_accuracy: 0.8766\n",
            "Epoch 171/250\n",
            "48/48 [==============================] - 4s 77ms/step - loss: 0.5440 - accuracy: 0.8479 - val_loss: 0.4815 - val_accuracy: 0.8748\n",
            "Epoch 172/250\n",
            "48/48 [==============================] - 4s 78ms/step - loss: 0.5558 - accuracy: 0.8388 - val_loss: 0.4734 - val_accuracy: 0.8748\n",
            "Epoch 173/250\n",
            "48/48 [==============================] - 4s 76ms/step - loss: 0.5729 - accuracy: 0.8391 - val_loss: 0.4732 - val_accuracy: 0.8820\n",
            "Epoch 174/250\n",
            "48/48 [==============================] - 4s 77ms/step - loss: 0.5608 - accuracy: 0.8462 - val_loss: 0.4742 - val_accuracy: 0.8766\n",
            "Epoch 175/250\n",
            "48/48 [==============================] - 4s 77ms/step - loss: 0.5661 - accuracy: 0.8391 - val_loss: 0.4686 - val_accuracy: 0.8748\n",
            "Epoch 176/250\n",
            "48/48 [==============================] - 4s 77ms/step - loss: 0.5525 - accuracy: 0.8423 - val_loss: 0.4668 - val_accuracy: 0.8802\n",
            "Epoch 177/250\n",
            "48/48 [==============================] - 4s 78ms/step - loss: 0.5563 - accuracy: 0.8424 - val_loss: 0.4706 - val_accuracy: 0.8730\n",
            "Epoch 178/250\n",
            "48/48 [==============================] - 4s 78ms/step - loss: 0.5434 - accuracy: 0.8521 - val_loss: 0.4783 - val_accuracy: 0.8730\n",
            "Epoch 179/250\n",
            "48/48 [==============================] - 4s 78ms/step - loss: 0.5419 - accuracy: 0.8531 - val_loss: 0.4720 - val_accuracy: 0.8748\n",
            "Epoch 180/250\n",
            "48/48 [==============================] - 4s 77ms/step - loss: 0.5589 - accuracy: 0.8369 - val_loss: 0.4704 - val_accuracy: 0.8784\n",
            "Epoch 181/250\n",
            "48/48 [==============================] - 4s 77ms/step - loss: 0.5743 - accuracy: 0.8375 - val_loss: 0.4661 - val_accuracy: 0.8784\n",
            "Epoch 182/250\n",
            "48/48 [==============================] - 4s 77ms/step - loss: 0.5505 - accuracy: 0.8493 - val_loss: 0.4705 - val_accuracy: 0.8802\n",
            "Epoch 183/250\n",
            "48/48 [==============================] - 4s 78ms/step - loss: 0.5477 - accuracy: 0.8428 - val_loss: 0.4629 - val_accuracy: 0.8784\n",
            "Epoch 184/250\n",
            "48/48 [==============================] - 4s 78ms/step - loss: 0.5574 - accuracy: 0.8427 - val_loss: 0.4600 - val_accuracy: 0.8857\n",
            "Epoch 185/250\n",
            "48/48 [==============================] - 4s 77ms/step - loss: 0.5322 - accuracy: 0.8476 - val_loss: 0.4535 - val_accuracy: 0.8784\n",
            "Epoch 186/250\n",
            "48/48 [==============================] - 4s 77ms/step - loss: 0.5488 - accuracy: 0.8461 - val_loss: 0.4573 - val_accuracy: 0.8784\n",
            "Epoch 187/250\n",
            "48/48 [==============================] - 4s 77ms/step - loss: 0.5332 - accuracy: 0.8568 - val_loss: 0.4496 - val_accuracy: 0.8857\n",
            "Epoch 188/250\n",
            "48/48 [==============================] - 4s 77ms/step - loss: 0.5349 - accuracy: 0.8529 - val_loss: 0.4524 - val_accuracy: 0.8784\n",
            "Epoch 189/250\n",
            "48/48 [==============================] - 4s 77ms/step - loss: 0.5270 - accuracy: 0.8509 - val_loss: 0.4560 - val_accuracy: 0.8857\n",
            "Epoch 190/250\n",
            "48/48 [==============================] - 4s 78ms/step - loss: 0.5223 - accuracy: 0.8558 - val_loss: 0.4462 - val_accuracy: 0.8820\n",
            "Epoch 191/250\n",
            "48/48 [==============================] - 4s 78ms/step - loss: 0.5241 - accuracy: 0.8515 - val_loss: 0.4433 - val_accuracy: 0.8947\n",
            "Epoch 192/250\n",
            "48/48 [==============================] - 4s 77ms/step - loss: 0.5203 - accuracy: 0.8596 - val_loss: 0.4516 - val_accuracy: 0.8875\n",
            "Epoch 193/250\n",
            "48/48 [==============================] - 4s 78ms/step - loss: 0.5125 - accuracy: 0.8656 - val_loss: 0.4422 - val_accuracy: 0.8820\n",
            "Epoch 194/250\n",
            "48/48 [==============================] - 4s 78ms/step - loss: 0.5158 - accuracy: 0.8624 - val_loss: 0.4441 - val_accuracy: 0.8857\n",
            "Epoch 195/250\n",
            "48/48 [==============================] - 4s 78ms/step - loss: 0.5151 - accuracy: 0.8592 - val_loss: 0.4396 - val_accuracy: 0.8911\n",
            "Epoch 196/250\n",
            "48/48 [==============================] - 4s 78ms/step - loss: 0.5147 - accuracy: 0.8603 - val_loss: 0.4419 - val_accuracy: 0.8875\n",
            "Epoch 197/250\n",
            "48/48 [==============================] - 4s 77ms/step - loss: 0.5150 - accuracy: 0.8525 - val_loss: 0.4394 - val_accuracy: 0.8947\n",
            "Epoch 198/250\n",
            "48/48 [==============================] - 4s 78ms/step - loss: 0.5181 - accuracy: 0.8554 - val_loss: 0.4423 - val_accuracy: 0.8838\n",
            "Epoch 199/250\n",
            "48/48 [==============================] - 4s 78ms/step - loss: 0.5051 - accuracy: 0.8576 - val_loss: 0.4365 - val_accuracy: 0.8820\n",
            "Epoch 200/250\n",
            "48/48 [==============================] - 4s 78ms/step - loss: 0.5158 - accuracy: 0.8624 - val_loss: 0.4364 - val_accuracy: 0.8838\n",
            "Epoch 201/250\n",
            "48/48 [==============================] - 4s 78ms/step - loss: 0.5001 - accuracy: 0.8668 - val_loss: 0.4309 - val_accuracy: 0.8893\n",
            "Epoch 202/250\n",
            "48/48 [==============================] - 4s 78ms/step - loss: 0.5087 - accuracy: 0.8587 - val_loss: 0.4383 - val_accuracy: 0.8893\n",
            "Epoch 203/250\n",
            "48/48 [==============================] - 4s 77ms/step - loss: 0.5066 - accuracy: 0.8642 - val_loss: 0.4279 - val_accuracy: 0.8911\n",
            "Epoch 204/250\n",
            "48/48 [==============================] - 4s 78ms/step - loss: 0.4857 - accuracy: 0.8707 - val_loss: 0.4330 - val_accuracy: 0.8911\n",
            "Epoch 205/250\n",
            "48/48 [==============================] - 4s 77ms/step - loss: 0.4934 - accuracy: 0.8674 - val_loss: 0.4289 - val_accuracy: 0.8911\n",
            "Epoch 206/250\n",
            "48/48 [==============================] - 4s 77ms/step - loss: 0.4972 - accuracy: 0.8706 - val_loss: 0.4324 - val_accuracy: 0.8929\n",
            "Epoch 207/250\n",
            "48/48 [==============================] - 4s 77ms/step - loss: 0.4987 - accuracy: 0.8605 - val_loss: 0.4314 - val_accuracy: 0.8893\n",
            "Epoch 208/250\n",
            "48/48 [==============================] - 4s 78ms/step - loss: 0.4903 - accuracy: 0.8714 - val_loss: 0.4308 - val_accuracy: 0.8929\n",
            "Epoch 209/250\n",
            "48/48 [==============================] - 4s 77ms/step - loss: 0.5037 - accuracy: 0.8619 - val_loss: 0.4253 - val_accuracy: 0.8875\n",
            "Epoch 210/250\n",
            "48/48 [==============================] - 4s 77ms/step - loss: 0.5066 - accuracy: 0.8635 - val_loss: 0.4203 - val_accuracy: 0.8857\n",
            "Epoch 211/250\n",
            "48/48 [==============================] - 4s 78ms/step - loss: 0.4973 - accuracy: 0.8629 - val_loss: 0.4263 - val_accuracy: 0.8893\n",
            "Epoch 212/250\n",
            "48/48 [==============================] - 4s 78ms/step - loss: 0.4970 - accuracy: 0.8563 - val_loss: 0.4168 - val_accuracy: 0.8911\n",
            "Epoch 213/250\n",
            "48/48 [==============================] - 4s 78ms/step - loss: 0.4817 - accuracy: 0.8624 - val_loss: 0.4244 - val_accuracy: 0.8911\n",
            "Epoch 214/250\n",
            "48/48 [==============================] - 4s 77ms/step - loss: 0.4853 - accuracy: 0.8665 - val_loss: 0.4264 - val_accuracy: 0.8911\n",
            "Epoch 215/250\n",
            "48/48 [==============================] - 4s 78ms/step - loss: 0.4753 - accuracy: 0.8635 - val_loss: 0.4236 - val_accuracy: 0.8893\n",
            "Epoch 216/250\n",
            "48/48 [==============================] - 4s 78ms/step - loss: 0.4790 - accuracy: 0.8637 - val_loss: 0.4198 - val_accuracy: 0.8929\n",
            "Epoch 00216: early stopping\n"
          ],
          "name": "stdout"
        }
      ]
    },
    {
      "cell_type": "markdown",
      "metadata": {
        "id": "EMK7Z6cS9YiL"
      },
      "source": [
        "## **10. Evaluating model through different performance metrics**"
      ]
    },
    {
      "cell_type": "code",
      "metadata": {
        "id": "fg__BXr49YiL"
      },
      "source": [
        "labels = ['Air Conditioner', 'Car Horn', 'Children Playing', 'Dog bark', 'Drilling', 'Engine Idling', 'Gun Shot', 'Jackhammer', 'Siren', 'Street Music']"
      ],
      "execution_count": null,
      "outputs": []
    },
    {
      "cell_type": "markdown",
      "metadata": {
        "id": "YpKXcVXj9YiM"
      },
      "source": [
        "### **10.1 Accuracy**"
      ]
    },
    {
      "cell_type": "code",
      "metadata": {
        "colab": {
          "base_uri": "https://localhost:8080/"
        },
        "id": "5WOlHUOIGxgC",
        "outputId": "f12f26ef-93ab-40da-a10e-448a6a26286e"
      },
      "source": [
        "model_evaluation_report(model, X_train, y_train_encoded, X_test, y_test_encoded)"
      ],
      "execution_count": null,
      "outputs": [
        {
          "output_type": "stream",
          "text": [
            "                    LOSS      ACCURACY\n",
            "--------------------------------------\n",
            "Training:         0.3767       91.6188\n",
            "Test:             0.4449       88.4383\n"
          ],
          "name": "stdout"
        }
      ]
    },
    {
      "cell_type": "markdown",
      "metadata": {
        "id": "wamOOHzj9YiM"
      },
      "source": [
        "### **10.2 Visualizing Accuracy in Each Epoch**"
      ]
    },
    {
      "cell_type": "code",
      "metadata": {
        "colab": {
          "base_uri": "https://localhost:8080/",
          "height": 352
        },
        "id": "7KMYjSl-9YiN",
        "outputId": "331cf88c-8f93-4f80-9403-960890c52911"
      },
      "source": [
        "acc_plot(history)"
      ],
      "execution_count": null,
      "outputs": [
        {
          "output_type": "display_data",
          "data": {
            "image/png": "[encoded data removed]",
            "text/plain": [
              "<Figure size 576x360 with 1 Axes>"
            ]
          },
          "metadata": {
            "tags": []
          }
        }
      ]
    },
    {
      "cell_type": "markdown",
      "metadata": {
        "id": "pivD5rGa9YiN"
      },
      "source": [
        "### **10.3 Visualizing Loss in Each Epoch**"
      ]
    },
    {
      "cell_type": "code",
      "metadata": {
        "colab": {
          "base_uri": "https://localhost:8080/",
          "height": 352
        },
        "id": "ia3Nd7Q99YiN",
        "outputId": "918a652e-2cc2-478f-be5f-73050193c021"
      },
      "source": [
        "loss_plot(history)"
      ],
      "execution_count": null,
      "outputs": [
        {
          "output_type": "display_data",
          "data": {
            "image/png": "[encoded data removed]",
            "text/plain": [
              "<Figure size 576x360 with 1 Axes>"
            ]
          },
          "metadata": {
            "tags": []
          }
        }
      ]
    },
    {
      "cell_type": "markdown",
      "metadata": {
        "id": "jzwLrPxy9YiO"
      },
      "source": [
        "### **10.4 Confusion Matrix**"
      ]
    },
    {
      "cell_type": "code",
      "metadata": {
        "id": "NxNrpSd79YiO"
      },
      "source": [
        "y_probs = model.predict(X_test, verbose=0)\n",
        "yhat_probs = np.argmax(y_probs, axis=1) #Getting predicted labels\n",
        "y_trues = np.argmax(y_test_encoded, axis=1)"
      ],
      "execution_count": null,
      "outputs": []
    },
    {
      "cell_type": "code",
      "metadata": {
        "colab": {
          "base_uri": "https://localhost:8080/"
        },
        "id": "0EUbQ21P9YiO",
        "outputId": "8032a6a8-d840-45a9-84e4-47695b394f26"
      },
      "source": [
        "cm = confusion_matrix(y_trues, yhat_probs)\n",
        "cm"
      ],
      "execution_count": null,
      "outputs": [
        {
          "output_type": "execute_result",
          "data": {
            "text/plain": [
              "array([[181,   0,   3,   0,   0,   0,   0,   3,   0,   6],\n",
              "       [  2,  71,   0,   1,   1,   0,   0,   2,   0,   0],\n",
              "       [  5,   0, 142,  10,   1,   2,   1,   0,   1,  17],\n",
              "       [  6,   3,  11, 155,   4,   1,   2,   0,   3,   4],\n",
              "       [  1,   5,   2,   9, 156,   1,   4,   7,   3,   0],\n",
              "       [  9,   0,   3,   3,   0, 175,   0,   0,   1,   0],\n",
              "       [  0,   0,   0,   0,   1,   0,  70,   0,   0,   0],\n",
              "       [  2,   3,   0,   0,   2,   0,   1, 201,   0,   0],\n",
              "       [  0,   0,   4,   3,   0,   2,   0,   0, 159,   2],\n",
              "       [ 11,   0,  11,   2,   3,   1,   0,   1,   5, 151]])"
            ]
          },
          "metadata": {
            "tags": []
          },
          "execution_count": 65
        }
      ]
    },
    {
      "cell_type": "code",
      "metadata": {
        "colab": {
          "base_uri": "https://localhost:8080/"
        },
        "id": "Zt-iRyfA9YiO",
        "outputId": "a8fd54ca-eeff-45ce-ece7-4f9267092caa"
      },
      "source": [
        "def display_cm():\n",
        "  CM = confusion_matrix(y_trues, yhat_probs)\n",
        "  f, ax = plt.subplots(figsize=(8,8))\n",
        "  sb.heatmap(CM,annot = True, linewidths=0.5,linecolor=\"white\",fmt=\".0f\",ax=ax, cmap=plt.cm.copper)\n",
        "  plt.xlabel(\"Prediction(Ypred)\")\n",
        "  plt.ylabel(\"Ytrue\")\n",
        "  plt.show()\n",
        "display_cm()"
      ],
      "execution_count": null,
      "outputs": [
        {
          "output_type": "display_data",
          "data": {
            "image/png": "[encoded data removed]",
            "text/plain": [
              "<Figure size 576x576 with 2 Axes>"
            ]
          },
          "metadata": {
            "tags": []
          }
        }
      ]
    },
    {
      "cell_type": "markdown",
      "metadata": {
        "id": "z10l69969YiP"
      },
      "source": [
        "### **10.5 Classification Report**"
      ]
    },
    {
      "cell_type": "code",
      "metadata": {
        "colab": {
          "base_uri": "https://localhost:8080/"
        },
        "id": "rQEO_WF49YiP",
        "outputId": "8000d337-c6bc-4c48-c6bc-12eb349291a6"
      },
      "source": [
        "re = classification_report(y_trues, yhat_probs, labels=[0,1,2,3,4,5,6,7,8,9], target_names=labels)\n",
        "print(re)"
      ],
      "execution_count": null,
      "outputs": [
        {
          "output_type": "stream",
          "text": [
            "                  precision    recall  f1-score   support\n",
            "\n",
            " Air Conditioner       0.83      0.94      0.88       193\n",
            "        Car Horn       0.87      0.92      0.89        77\n",
            "Children Playing       0.81      0.79      0.80       179\n",
            "        Dog bark       0.85      0.82      0.83       189\n",
            "        Drilling       0.93      0.83      0.88       188\n",
            "   Engine Idling       0.96      0.92      0.94       191\n",
            "        Gun Shot       0.90      0.99      0.94        71\n",
            "      Jackhammer       0.94      0.96      0.95       209\n",
            "           Siren       0.92      0.94      0.93       170\n",
            "    Street Music       0.84      0.82      0.83       185\n",
            "\n",
            "        accuracy                           0.88      1652\n",
            "       macro avg       0.88      0.89      0.89      1652\n",
            "    weighted avg       0.89      0.88      0.88      1652\n",
            "\n"
          ],
          "name": "stdout"
        }
      ]
    },
    {
      "cell_type": "markdown",
      "metadata": {
        "id": "Y_erkCou9YiP"
      },
      "source": [
        "### **10.6 Accuracy per Class**"
      ]
    },
    {
      "cell_type": "code",
      "metadata": {
        "colab": {
          "base_uri": "https://localhost:8080/"
        },
        "id": "E6rDxJL19YiQ",
        "outputId": "e4be78c4-14df-490a-c7ef-c9b6b385744a"
      },
      "source": [
        "accuracies = acc_per_class(cm)\n",
        "pd.DataFrame({\n",
        "    'CLASS': labels,\n",
        "    'ACCURACY': accuracies}).sort_values(by=\"ACCURACY\", ascending=False)"
      ],
      "execution_count": null,
      "outputs": [
        {
          "output_type": "execute_result",
          "data": {
            "text/html": [
              "<div>\n",
              "<style scoped>\n",
              "    .dataframe tbody tr th:only-of-type {\n",
              "        vertical-align: middle;\n",
              "    }\n",
              "\n",
              "    .dataframe tbody tr th {\n",
              "        vertical-align: top;\n",
              "    }\n",
              "\n",
              "    .dataframe thead th {\n",
              "        text-align: right;\n",
              "    }\n",
              "</style>\n",
              "<table border=\"1\" class=\"dataframe\">\n",
              "  <thead>\n",
              "    <tr style=\"text-align: right;\">\n",
              "      <th></th>\n",
              "      <th>CLASS</th>\n",
              "      <th>ACCURACY</th>\n",
              "    </tr>\n",
              "  </thead>\n",
              "  <tbody>\n",
              "    <tr>\n",
              "      <th>6</th>\n",
              "      <td>Gun Shot</td>\n",
              "      <td>98.591549</td>\n",
              "    </tr>\n",
              "    <tr>\n",
              "      <th>7</th>\n",
              "      <td>Jackhammer</td>\n",
              "      <td>96.172249</td>\n",
              "    </tr>\n",
              "    <tr>\n",
              "      <th>0</th>\n",
              "      <td>Air Conditioner</td>\n",
              "      <td>93.782383</td>\n",
              "    </tr>\n",
              "    <tr>\n",
              "      <th>8</th>\n",
              "      <td>Siren</td>\n",
              "      <td>93.529412</td>\n",
              "    </tr>\n",
              "    <tr>\n",
              "      <th>1</th>\n",
              "      <td>Car Horn</td>\n",
              "      <td>92.207792</td>\n",
              "    </tr>\n",
              "    <tr>\n",
              "      <th>5</th>\n",
              "      <td>Engine Idling</td>\n",
              "      <td>91.623037</td>\n",
              "    </tr>\n",
              "    <tr>\n",
              "      <th>4</th>\n",
              "      <td>Drilling</td>\n",
              "      <td>82.978723</td>\n",
              "    </tr>\n",
              "    <tr>\n",
              "      <th>3</th>\n",
              "      <td>Dog bark</td>\n",
              "      <td>82.010582</td>\n",
              "    </tr>\n",
              "    <tr>\n",
              "      <th>9</th>\n",
              "      <td>Street Music</td>\n",
              "      <td>81.621622</td>\n",
              "    </tr>\n",
              "    <tr>\n",
              "      <th>2</th>\n",
              "      <td>Children Playing</td>\n",
              "      <td>79.329609</td>\n",
              "    </tr>\n",
              "  </tbody>\n",
              "</table>\n",
              "</div>"
            ],
            "text/plain": [
              "              CLASS   ACCURACY\n",
              "6          Gun Shot  98.591549\n",
              "7        Jackhammer  96.172249\n",
              "0   Air Conditioner  93.782383\n",
              "8             Siren  93.529412\n",
              "1          Car Horn  92.207792\n",
              "5     Engine Idling  91.623037\n",
              "4          Drilling  82.978723\n",
              "3          Dog bark  82.010582\n",
              "9      Street Music  81.621622\n",
              "2  Children Playing  79.329609"
            ]
          },
          "metadata": {
            "tags": []
          },
          "execution_count": 68
        }
      ]
    },
    {
      "cell_type": "markdown",
      "metadata": {
        "id": "_AT481Ky9YiF"
      },
      "source": [
        "## **11. CNN Model Architecture - Performance Tuning**"
      ]
    },
    {
      "cell_type": "code",
      "metadata": {
        "id": "RFynNLbd9YiH"
      },
      "source": [
        "def create_model(spatial_dropout_rate_1=0, spatial_dropout_rate_2=0, l2_rate=0):\n",
        "\n",
        "    model = Sequential()\n",
        "    model.add(Conv2D(filters=32, kernel_size=(3, 3), kernel_regularizer=l2(l2_rate), input_shape=(num_rows, num_columns, num_channels)))\n",
        "    model.add(LeakyReLU(alpha=0.1))\n",
        "    model.add(BatchNormalization())\n",
        "\n",
        "    model.add(SpatialDropout2D(spatial_dropout_rate_1))\n",
        "    model.add(Conv2D(filters=32, kernel_size=(3, 3), kernel_regularizer=l2(l2_rate)))\n",
        "    model.add(LeakyReLU(alpha=0.1))\n",
        "    model.add(BatchNormalization())\n",
        "\n",
        "    model.add(MaxPooling2D(pool_size=(2, 2)))\n",
        "\n",
        "    model.add(SpatialDropout2D(spatial_dropout_rate_1))\n",
        "    model.add(Conv2D(filters=64, kernel_size=(3, 3), kernel_regularizer=l2(l2_rate)))\n",
        "    model.add(LeakyReLU(alpha=0.1))\n",
        "    model.add(BatchNormalization())\n",
        "\n",
        "    model.add(SpatialDropout2D(spatial_dropout_rate_2))\n",
        "    model.add(Conv2D(filters=64, kernel_size=(3,3), kernel_regularizer=l2(l2_rate)))\n",
        "    model.add(LeakyReLU(alpha=0.1))\n",
        "    model.add(BatchNormalization())\n",
        "    \n",
        "    model.add(GlobalAveragePooling2D())\n",
        "    model.add(Dense(num_labels, activation='softmax'))\n",
        "    return model"
      ],
      "execution_count": null,
      "outputs": []
    },
    {
      "cell_type": "code",
      "metadata": {
        "id": "PHvFAQ3_9YiI"
      },
      "source": [
        "#Regularization rates\n",
        "spatial_dropout_rate_1 = 0.07\n",
        "spatial_dropout_rate_2 = 0.14\n",
        "l2_rate = 0.0005\n",
        "#Calling Model\n",
        "model = create_model(spatial_dropout_rate_1, spatial_dropout_rate_2, l2_rate)"
      ],
      "execution_count": null,
      "outputs": []
    },
    {
      "cell_type": "code",
      "metadata": {
        "colab": {
          "base_uri": "https://localhost:8080/"
        },
        "id": "pNbK-T6G9YiJ",
        "outputId": "7b5a31a7-a620-4bab-82db-7e34135fd59a"
      },
      "source": [
        "model.summary()"
      ],
      "execution_count": null,
      "outputs": [
        {
          "output_type": "stream",
          "text": [
            "Model: \"sequential_2\"\n",
            "_________________________________________________________________\n",
            "Layer (type)                 Output Shape              Param #   \n",
            "=================================================================\n",
            "conv2d_8 (Conv2D)            (None, 38, 172, 32)       320       \n",
            "_________________________________________________________________\n",
            "leaky_re_lu_8 (LeakyReLU)    (None, 38, 172, 32)       0         \n",
            "_________________________________________________________________\n",
            "batch_normalization_4 (Batch (None, 38, 172, 32)       128       \n",
            "_________________________________________________________________\n",
            "spatial_dropout2d (SpatialDr (None, 38, 172, 32)       0         \n",
            "_________________________________________________________________\n",
            "conv2d_9 (Conv2D)            (None, 36, 170, 32)       9248      \n",
            "_________________________________________________________________\n",
            "leaky_re_lu_9 (LeakyReLU)    (None, 36, 170, 32)       0         \n",
            "_________________________________________________________________\n",
            "batch_normalization_5 (Batch (None, 36, 170, 32)       128       \n",
            "_________________________________________________________________\n",
            "max_pooling2d_2 (MaxPooling2 (None, 18, 85, 32)        0         \n",
            "_________________________________________________________________\n",
            "spatial_dropout2d_1 (Spatial (None, 18, 85, 32)        0         \n",
            "_________________________________________________________________\n",
            "conv2d_10 (Conv2D)           (None, 16, 83, 64)        18496     \n",
            "_________________________________________________________________\n",
            "leaky_re_lu_10 (LeakyReLU)   (None, 16, 83, 64)        0         \n",
            "_________________________________________________________________\n",
            "batch_normalization_6 (Batch (None, 16, 83, 64)        256       \n",
            "_________________________________________________________________\n",
            "spatial_dropout2d_2 (Spatial (None, 16, 83, 64)        0         \n",
            "_________________________________________________________________\n",
            "conv2d_11 (Conv2D)           (None, 14, 81, 64)        36928     \n",
            "_________________________________________________________________\n",
            "leaky_re_lu_11 (LeakyReLU)   (None, 14, 81, 64)        0         \n",
            "_________________________________________________________________\n",
            "batch_normalization_7 (Batch (None, 14, 81, 64)        256       \n",
            "_________________________________________________________________\n",
            "global_average_pooling2d_2 ( (None, 64)                0         \n",
            "_________________________________________________________________\n",
            "dense_2 (Dense)              (None, 10)                650       \n",
            "=================================================================\n",
            "Total params: 66,410\n",
            "Trainable params: 66,026\n",
            "Non-trainable params: 384\n",
            "_________________________________________________________________\n"
          ],
          "name": "stdout"
        }
      ]
    },
    {
      "cell_type": "code",
      "metadata": {
        "id": "SZISTEtE9YiK"
      },
      "source": [
        "adam = Adam(lr=1e-4, beta_1=0.99, beta_2=0.999)\n",
        "model.compile(loss='categorical_crossentropy', metrics=['accuracy'], optimizer=adam)"
      ],
      "execution_count": null,
      "outputs": []
    },
    {
      "cell_type": "code",
      "metadata": {
        "id": "7rIc-8Uv9YiK"
      },
      "source": [
        "from keras.callbacks import EarlyStopping\n",
        "early = EarlyStopping(monitor='val_accuracy', min_delta=0, patience=25, verbose=1, mode='auto')"
      ],
      "execution_count": null,
      "outputs": []
    },
    {
      "cell_type": "code",
      "metadata": {
        "colab": {
          "base_uri": "https://localhost:8080/"
        },
        "id": "HsJUqYVI5DHJ",
        "outputId": "914fddea-3d8b-46e0-b614-16d18f82cf04"
      },
      "source": [
        "history = model.fit(X_train, y_train_encoded, batch_size=128, epochs=250, validation_split=1/12., verbose=1, callbacks=[early])"
      ],
      "execution_count": null,
      "outputs": [
        {
          "output_type": "stream",
          "text": [
            "Epoch 1/250\n",
            "48/48 [==============================] - 4s 73ms/step - loss: 2.1784 - accuracy: 0.2486 - val_loss: 2.3812 - val_accuracy: 0.1216\n",
            "Epoch 2/250\n",
            "48/48 [==============================] - 3s 67ms/step - loss: 1.7764 - accuracy: 0.3956 - val_loss: 2.4207 - val_accuracy: 0.1760\n",
            "Epoch 3/250\n",
            "48/48 [==============================] - 3s 67ms/step - loss: 1.6389 - accuracy: 0.4404 - val_loss: 2.5232 - val_accuracy: 0.1996\n",
            "Epoch 4/250\n",
            "48/48 [==============================] - 3s 67ms/step - loss: 1.5342 - accuracy: 0.5023 - val_loss: 2.7142 - val_accuracy: 0.1234\n",
            "Epoch 5/250\n",
            "48/48 [==============================] - 3s 67ms/step - loss: 1.4615 - accuracy: 0.5449 - val_loss: 2.8564 - val_accuracy: 0.1234\n",
            "Epoch 6/250\n",
            "48/48 [==============================] - 3s 68ms/step - loss: 1.4141 - accuracy: 0.5604 - val_loss: 2.9144 - val_accuracy: 0.1561\n",
            "Epoch 7/250\n",
            "48/48 [==============================] - 3s 68ms/step - loss: 1.3621 - accuracy: 0.5917 - val_loss: 2.9330 - val_accuracy: 0.1289\n",
            "Epoch 8/250\n",
            "48/48 [==============================] - 3s 68ms/step - loss: 1.3490 - accuracy: 0.5806 - val_loss: 2.9414 - val_accuracy: 0.1162\n",
            "Epoch 9/250\n",
            "48/48 [==============================] - 3s 68ms/step - loss: 1.2961 - accuracy: 0.6203 - val_loss: 2.7971 - val_accuracy: 0.1688\n",
            "Epoch 10/250\n",
            "48/48 [==============================] - 3s 68ms/step - loss: 1.2601 - accuracy: 0.6264 - val_loss: 2.5864 - val_accuracy: 0.2740\n",
            "Epoch 11/250\n",
            "48/48 [==============================] - 3s 68ms/step - loss: 1.2107 - accuracy: 0.6383 - val_loss: 2.3614 - val_accuracy: 0.3666\n",
            "Epoch 12/250\n",
            "48/48 [==============================] - 3s 68ms/step - loss: 1.2004 - accuracy: 0.6499 - val_loss: 2.0873 - val_accuracy: 0.4356\n",
            "Epoch 13/250\n",
            "48/48 [==============================] - 3s 69ms/step - loss: 1.1724 - accuracy: 0.6505 - val_loss: 1.8620 - val_accuracy: 0.4428\n",
            "Epoch 14/250\n",
            "48/48 [==============================] - 3s 69ms/step - loss: 1.1339 - accuracy: 0.6531 - val_loss: 1.6190 - val_accuracy: 0.4882\n",
            "Epoch 15/250\n",
            "48/48 [==============================] - 3s 69ms/step - loss: 1.1111 - accuracy: 0.6759 - val_loss: 1.4007 - val_accuracy: 0.5390\n",
            "Epoch 16/250\n",
            "48/48 [==============================] - 3s 69ms/step - loss: 1.0820 - accuracy: 0.6807 - val_loss: 1.2639 - val_accuracy: 0.5953\n",
            "Epoch 17/250\n",
            "48/48 [==============================] - 3s 68ms/step - loss: 1.0596 - accuracy: 0.6864 - val_loss: 1.2084 - val_accuracy: 0.6334\n",
            "Epoch 18/250\n",
            "48/48 [==============================] - 3s 69ms/step - loss: 1.0547 - accuracy: 0.6883 - val_loss: 1.1351 - val_accuracy: 0.6570\n",
            "Epoch 19/250\n",
            "48/48 [==============================] - 3s 68ms/step - loss: 1.0283 - accuracy: 0.6987 - val_loss: 1.0754 - val_accuracy: 0.6860\n",
            "Epoch 20/250\n",
            "48/48 [==============================] - 3s 68ms/step - loss: 1.0098 - accuracy: 0.6994 - val_loss: 1.0585 - val_accuracy: 0.7042\n",
            "Epoch 21/250\n",
            "48/48 [==============================] - 3s 68ms/step - loss: 1.0042 - accuracy: 0.7095 - val_loss: 1.0396 - val_accuracy: 0.7042\n",
            "Epoch 22/250\n",
            "48/48 [==============================] - 3s 68ms/step - loss: 0.9911 - accuracy: 0.7084 - val_loss: 1.0693 - val_accuracy: 0.7114\n",
            "Epoch 23/250\n",
            "48/48 [==============================] - 3s 67ms/step - loss: 0.9697 - accuracy: 0.7250 - val_loss: 1.0406 - val_accuracy: 0.7078\n",
            "Epoch 24/250\n",
            "48/48 [==============================] - 3s 68ms/step - loss: 0.9574 - accuracy: 0.7266 - val_loss: 0.9965 - val_accuracy: 0.7114\n",
            "Epoch 25/250\n",
            "48/48 [==============================] - 3s 68ms/step - loss: 0.9314 - accuracy: 0.7297 - val_loss: 0.9548 - val_accuracy: 0.7423\n",
            "Epoch 26/250\n",
            "48/48 [==============================] - 3s 68ms/step - loss: 0.9488 - accuracy: 0.7222 - val_loss: 0.9506 - val_accuracy: 0.7477\n",
            "Epoch 27/250\n",
            "48/48 [==============================] - 3s 67ms/step - loss: 0.9172 - accuracy: 0.7328 - val_loss: 0.9511 - val_accuracy: 0.7477\n",
            "Epoch 28/250\n",
            "48/48 [==============================] - 3s 68ms/step - loss: 0.8981 - accuracy: 0.7540 - val_loss: 0.9533 - val_accuracy: 0.7368\n",
            "Epoch 29/250\n",
            "48/48 [==============================] - 3s 68ms/step - loss: 0.9075 - accuracy: 0.7448 - val_loss: 0.8885 - val_accuracy: 0.7495\n",
            "Epoch 30/250\n",
            "48/48 [==============================] - 3s 68ms/step - loss: 0.8749 - accuracy: 0.7559 - val_loss: 0.9004 - val_accuracy: 0.7604\n",
            "Epoch 31/250\n",
            "48/48 [==============================] - 3s 68ms/step - loss: 0.8702 - accuracy: 0.7601 - val_loss: 0.8953 - val_accuracy: 0.7477\n",
            "Epoch 32/250\n",
            "48/48 [==============================] - 3s 67ms/step - loss: 0.8501 - accuracy: 0.7627 - val_loss: 0.9226 - val_accuracy: 0.7568\n",
            "Epoch 33/250\n",
            "48/48 [==============================] - 3s 68ms/step - loss: 0.8498 - accuracy: 0.7702 - val_loss: 0.8752 - val_accuracy: 0.7604\n",
            "Epoch 34/250\n",
            "48/48 [==============================] - 3s 68ms/step - loss: 0.8423 - accuracy: 0.7643 - val_loss: 0.8645 - val_accuracy: 0.7786\n",
            "Epoch 35/250\n",
            "48/48 [==============================] - 3s 68ms/step - loss: 0.8258 - accuracy: 0.7749 - val_loss: 0.8490 - val_accuracy: 0.7623\n",
            "Epoch 36/250\n",
            "48/48 [==============================] - 3s 68ms/step - loss: 0.8320 - accuracy: 0.7662 - val_loss: 0.8350 - val_accuracy: 0.7750\n",
            "Epoch 37/250\n",
            "48/48 [==============================] - 3s 68ms/step - loss: 0.8039 - accuracy: 0.7862 - val_loss: 0.8578 - val_accuracy: 0.7677\n",
            "Epoch 38/250\n",
            "48/48 [==============================] - 3s 68ms/step - loss: 0.7960 - accuracy: 0.7840 - val_loss: 0.8491 - val_accuracy: 0.7786\n",
            "Epoch 39/250\n",
            "48/48 [==============================] - 3s 69ms/step - loss: 0.7710 - accuracy: 0.7900 - val_loss: 0.8416 - val_accuracy: 0.7677\n",
            "Epoch 40/250\n",
            "48/48 [==============================] - 3s 68ms/step - loss: 0.7888 - accuracy: 0.7766 - val_loss: 0.8117 - val_accuracy: 0.7840\n",
            "Epoch 41/250\n",
            "48/48 [==============================] - 3s 68ms/step - loss: 0.7741 - accuracy: 0.7883 - val_loss: 0.8220 - val_accuracy: 0.7695\n",
            "Epoch 42/250\n",
            "48/48 [==============================] - 3s 69ms/step - loss: 0.7650 - accuracy: 0.7991 - val_loss: 0.8057 - val_accuracy: 0.7768\n",
            "Epoch 43/250\n",
            "48/48 [==============================] - 3s 68ms/step - loss: 0.7626 - accuracy: 0.7849 - val_loss: 0.8066 - val_accuracy: 0.7750\n",
            "Epoch 44/250\n",
            "48/48 [==============================] - 3s 68ms/step - loss: 0.7573 - accuracy: 0.7896 - val_loss: 0.7774 - val_accuracy: 0.7877\n",
            "Epoch 45/250\n",
            "48/48 [==============================] - 3s 68ms/step - loss: 0.7497 - accuracy: 0.7962 - val_loss: 0.7682 - val_accuracy: 0.7895\n",
            "Epoch 46/250\n",
            "48/48 [==============================] - 3s 68ms/step - loss: 0.7454 - accuracy: 0.7968 - val_loss: 0.7467 - val_accuracy: 0.7804\n",
            "Epoch 47/250\n",
            "48/48 [==============================] - 3s 68ms/step - loss: 0.7500 - accuracy: 0.7916 - val_loss: 0.7806 - val_accuracy: 0.7822\n",
            "Epoch 48/250\n",
            "48/48 [==============================] - 3s 68ms/step - loss: 0.7198 - accuracy: 0.8110 - val_loss: 0.7733 - val_accuracy: 0.7877\n",
            "Epoch 49/250\n",
            "48/48 [==============================] - 3s 68ms/step - loss: 0.7291 - accuracy: 0.8058 - val_loss: 0.7676 - val_accuracy: 0.7931\n",
            "Epoch 50/250\n",
            "48/48 [==============================] - 3s 68ms/step - loss: 0.7187 - accuracy: 0.8109 - val_loss: 0.7545 - val_accuracy: 0.8094\n",
            "Epoch 51/250\n",
            "48/48 [==============================] - 3s 68ms/step - loss: 0.6935 - accuracy: 0.8094 - val_loss: 0.6991 - val_accuracy: 0.8258\n",
            "Epoch 52/250\n",
            "48/48 [==============================] - 3s 68ms/step - loss: 0.7009 - accuracy: 0.8177 - val_loss: 0.7254 - val_accuracy: 0.8131\n",
            "Epoch 53/250\n",
            "48/48 [==============================] - 3s 68ms/step - loss: 0.6937 - accuracy: 0.8129 - val_loss: 0.7362 - val_accuracy: 0.7895\n",
            "Epoch 54/250\n",
            "48/48 [==============================] - 3s 68ms/step - loss: 0.6740 - accuracy: 0.8192 - val_loss: 0.7014 - val_accuracy: 0.8058\n",
            "Epoch 55/250\n",
            "48/48 [==============================] - 3s 68ms/step - loss: 0.6833 - accuracy: 0.8224 - val_loss: 0.8140 - val_accuracy: 0.7477\n",
            "Epoch 56/250\n",
            "48/48 [==============================] - 3s 68ms/step - loss: 0.6648 - accuracy: 0.8297 - val_loss: 0.7038 - val_accuracy: 0.8113\n",
            "Epoch 57/250\n",
            "48/48 [==============================] - 3s 68ms/step - loss: 0.6584 - accuracy: 0.8295 - val_loss: 0.7201 - val_accuracy: 0.8076\n",
            "Epoch 58/250\n",
            "48/48 [==============================] - 3s 69ms/step - loss: 0.6701 - accuracy: 0.8231 - val_loss: 0.6686 - val_accuracy: 0.8167\n",
            "Epoch 59/250\n",
            "48/48 [==============================] - 3s 68ms/step - loss: 0.6603 - accuracy: 0.8254 - val_loss: 0.7139 - val_accuracy: 0.8094\n",
            "Epoch 60/250\n",
            "48/48 [==============================] - 3s 68ms/step - loss: 0.6342 - accuracy: 0.8362 - val_loss: 0.6717 - val_accuracy: 0.8185\n",
            "Epoch 61/250\n",
            "48/48 [==============================] - 3s 68ms/step - loss: 0.6264 - accuracy: 0.8437 - val_loss: 0.6557 - val_accuracy: 0.8276\n",
            "Epoch 62/250\n",
            "48/48 [==============================] - 3s 68ms/step - loss: 0.6235 - accuracy: 0.8455 - val_loss: 0.6444 - val_accuracy: 0.8312\n",
            "Epoch 63/250\n",
            "48/48 [==============================] - 3s 69ms/step - loss: 0.6275 - accuracy: 0.8437 - val_loss: 0.6570 - val_accuracy: 0.8240\n",
            "Epoch 64/250\n",
            "48/48 [==============================] - 3s 68ms/step - loss: 0.6142 - accuracy: 0.8428 - val_loss: 0.6436 - val_accuracy: 0.8385\n",
            "Epoch 65/250\n",
            "48/48 [==============================] - 3s 68ms/step - loss: 0.6090 - accuracy: 0.8452 - val_loss: 0.6484 - val_accuracy: 0.8294\n",
            "Epoch 66/250\n",
            "48/48 [==============================] - 3s 68ms/step - loss: 0.6165 - accuracy: 0.8431 - val_loss: 0.6327 - val_accuracy: 0.8276\n",
            "Epoch 67/250\n",
            "48/48 [==============================] - 3s 68ms/step - loss: 0.6123 - accuracy: 0.8388 - val_loss: 0.6440 - val_accuracy: 0.8221\n",
            "Epoch 68/250\n",
            "48/48 [==============================] - 3s 69ms/step - loss: 0.6080 - accuracy: 0.8400 - val_loss: 0.6559 - val_accuracy: 0.8276\n",
            "Epoch 69/250\n",
            "48/48 [==============================] - 3s 68ms/step - loss: 0.5931 - accuracy: 0.8383 - val_loss: 0.6177 - val_accuracy: 0.8367\n",
            "Epoch 70/250\n",
            "48/48 [==============================] - 3s 68ms/step - loss: 0.6039 - accuracy: 0.8426 - val_loss: 0.6531 - val_accuracy: 0.8221\n",
            "Epoch 71/250\n",
            "48/48 [==============================] - 3s 68ms/step - loss: 0.5940 - accuracy: 0.8458 - val_loss: 0.6157 - val_accuracy: 0.8221\n",
            "Epoch 72/250\n",
            "48/48 [==============================] - 3s 68ms/step - loss: 0.5897 - accuracy: 0.8500 - val_loss: 0.6090 - val_accuracy: 0.8203\n",
            "Epoch 73/250\n",
            "48/48 [==============================] - 3s 68ms/step - loss: 0.5854 - accuracy: 0.8411 - val_loss: 0.5991 - val_accuracy: 0.8385\n",
            "Epoch 74/250\n",
            "48/48 [==============================] - 3s 69ms/step - loss: 0.5747 - accuracy: 0.8474 - val_loss: 0.6073 - val_accuracy: 0.8294\n",
            "Epoch 75/250\n",
            "48/48 [==============================] - 3s 68ms/step - loss: 0.5723 - accuracy: 0.8564 - val_loss: 0.5958 - val_accuracy: 0.8330\n",
            "Epoch 76/250\n",
            "48/48 [==============================] - 3s 69ms/step - loss: 0.5700 - accuracy: 0.8595 - val_loss: 0.6009 - val_accuracy: 0.8457\n",
            "Epoch 77/250\n",
            "48/48 [==============================] - 3s 68ms/step - loss: 0.5458 - accuracy: 0.8645 - val_loss: 0.6344 - val_accuracy: 0.8094\n",
            "Epoch 78/250\n",
            "48/48 [==============================] - 3s 68ms/step - loss: 0.5547 - accuracy: 0.8607 - val_loss: 0.5952 - val_accuracy: 0.8312\n",
            "Epoch 79/250\n",
            "48/48 [==============================] - 3s 68ms/step - loss: 0.5407 - accuracy: 0.8713 - val_loss: 0.5801 - val_accuracy: 0.8439\n",
            "Epoch 80/250\n",
            "48/48 [==============================] - 3s 68ms/step - loss: 0.5453 - accuracy: 0.8628 - val_loss: 0.5798 - val_accuracy: 0.8367\n",
            "Epoch 81/250\n",
            "48/48 [==============================] - 3s 69ms/step - loss: 0.5374 - accuracy: 0.8685 - val_loss: 0.6142 - val_accuracy: 0.8367\n",
            "Epoch 82/250\n",
            "48/48 [==============================] - 3s 68ms/step - loss: 0.5458 - accuracy: 0.8587 - val_loss: 0.5921 - val_accuracy: 0.8348\n",
            "Epoch 83/250\n",
            "48/48 [==============================] - 3s 68ms/step - loss: 0.5359 - accuracy: 0.8598 - val_loss: 0.5729 - val_accuracy: 0.8530\n",
            "Epoch 84/250\n",
            "48/48 [==============================] - 3s 68ms/step - loss: 0.5426 - accuracy: 0.8677 - val_loss: 0.5552 - val_accuracy: 0.8457\n",
            "Epoch 85/250\n",
            "48/48 [==============================] - 3s 68ms/step - loss: 0.5413 - accuracy: 0.8641 - val_loss: 0.5681 - val_accuracy: 0.8548\n",
            "Epoch 86/250\n",
            "48/48 [==============================] - 3s 69ms/step - loss: 0.5221 - accuracy: 0.8656 - val_loss: 0.5487 - val_accuracy: 0.8475\n",
            "Epoch 87/250\n",
            "48/48 [==============================] - 3s 68ms/step - loss: 0.5200 - accuracy: 0.8676 - val_loss: 0.5679 - val_accuracy: 0.8439\n",
            "Epoch 88/250\n",
            "48/48 [==============================] - 3s 68ms/step - loss: 0.5173 - accuracy: 0.8717 - val_loss: 0.5663 - val_accuracy: 0.8530\n",
            "Epoch 89/250\n",
            "48/48 [==============================] - 3s 68ms/step - loss: 0.5088 - accuracy: 0.8764 - val_loss: 0.6094 - val_accuracy: 0.8512\n",
            "Epoch 90/250\n",
            "48/48 [==============================] - 3s 68ms/step - loss: 0.5118 - accuracy: 0.8700 - val_loss: 0.5663 - val_accuracy: 0.8439\n",
            "Epoch 91/250\n",
            "48/48 [==============================] - 3s 68ms/step - loss: 0.5140 - accuracy: 0.8744 - val_loss: 0.5956 - val_accuracy: 0.8185\n",
            "Epoch 92/250\n",
            "48/48 [==============================] - 3s 69ms/step - loss: 0.5127 - accuracy: 0.8733 - val_loss: 0.5425 - val_accuracy: 0.8457\n",
            "Epoch 93/250\n",
            "48/48 [==============================] - 3s 69ms/step - loss: 0.5089 - accuracy: 0.8748 - val_loss: 0.5325 - val_accuracy: 0.8603\n",
            "Epoch 94/250\n",
            "48/48 [==============================] - 3s 68ms/step - loss: 0.4959 - accuracy: 0.8788 - val_loss: 0.5556 - val_accuracy: 0.8494\n",
            "Epoch 95/250\n",
            "48/48 [==============================] - 3s 68ms/step - loss: 0.4924 - accuracy: 0.8773 - val_loss: 0.5602 - val_accuracy: 0.8566\n",
            "Epoch 96/250\n",
            "48/48 [==============================] - 3s 68ms/step - loss: 0.4870 - accuracy: 0.8828 - val_loss: 0.5222 - val_accuracy: 0.8675\n",
            "Epoch 97/250\n",
            "48/48 [==============================] - 3s 68ms/step - loss: 0.4740 - accuracy: 0.8866 - val_loss: 0.5627 - val_accuracy: 0.8566\n",
            "Epoch 98/250\n",
            "48/48 [==============================] - 3s 68ms/step - loss: 0.4866 - accuracy: 0.8783 - val_loss: 0.5408 - val_accuracy: 0.8548\n",
            "Epoch 99/250\n",
            "48/48 [==============================] - 3s 68ms/step - loss: 0.4748 - accuracy: 0.8878 - val_loss: 0.5340 - val_accuracy: 0.8621\n",
            "Epoch 100/250\n",
            "48/48 [==============================] - 3s 68ms/step - loss: 0.4835 - accuracy: 0.8848 - val_loss: 0.5142 - val_accuracy: 0.8675\n",
            "Epoch 101/250\n",
            "48/48 [==============================] - 3s 68ms/step - loss: 0.4767 - accuracy: 0.8859 - val_loss: 0.4952 - val_accuracy: 0.8693\n",
            "Epoch 102/250\n",
            "48/48 [==============================] - 3s 68ms/step - loss: 0.4762 - accuracy: 0.8791 - val_loss: 0.5276 - val_accuracy: 0.8621\n",
            "Epoch 103/250\n",
            "48/48 [==============================] - 3s 67ms/step - loss: 0.4754 - accuracy: 0.8875 - val_loss: 0.5165 - val_accuracy: 0.8584\n",
            "Epoch 104/250\n",
            "48/48 [==============================] - 3s 68ms/step - loss: 0.4636 - accuracy: 0.8890 - val_loss: 0.5189 - val_accuracy: 0.8548\n",
            "Epoch 105/250\n",
            "48/48 [==============================] - 3s 68ms/step - loss: 0.4497 - accuracy: 0.8940 - val_loss: 0.4864 - val_accuracy: 0.8857\n",
            "Epoch 106/250\n",
            "48/48 [==============================] - 3s 69ms/step - loss: 0.4411 - accuracy: 0.9020 - val_loss: 0.4947 - val_accuracy: 0.8730\n",
            "Epoch 107/250\n",
            "48/48 [==============================] - 3s 68ms/step - loss: 0.4658 - accuracy: 0.8833 - val_loss: 0.5423 - val_accuracy: 0.8439\n",
            "Epoch 108/250\n",
            "48/48 [==============================] - 3s 68ms/step - loss: 0.4442 - accuracy: 0.8966 - val_loss: 0.5094 - val_accuracy: 0.8711\n",
            "Epoch 109/250\n",
            "48/48 [==============================] - 3s 68ms/step - loss: 0.4638 - accuracy: 0.8859 - val_loss: 0.4923 - val_accuracy: 0.8784\n",
            "Epoch 110/250\n",
            "48/48 [==============================] - 3s 69ms/step - loss: 0.4485 - accuracy: 0.8951 - val_loss: 0.5243 - val_accuracy: 0.8639\n",
            "Epoch 111/250\n",
            "48/48 [==============================] - 3s 69ms/step - loss: 0.4454 - accuracy: 0.8921 - val_loss: 0.5259 - val_accuracy: 0.8457\n",
            "Epoch 112/250\n",
            "48/48 [==============================] - 3s 69ms/step - loss: 0.4236 - accuracy: 0.9032 - val_loss: 0.5331 - val_accuracy: 0.8512\n",
            "Epoch 113/250\n",
            "48/48 [==============================] - 3s 68ms/step - loss: 0.4430 - accuracy: 0.8912 - val_loss: 0.4986 - val_accuracy: 0.8693\n",
            "Epoch 114/250\n",
            "48/48 [==============================] - 3s 68ms/step - loss: 0.4413 - accuracy: 0.8960 - val_loss: 0.4953 - val_accuracy: 0.8693\n",
            "Epoch 115/250\n",
            "48/48 [==============================] - 3s 68ms/step - loss: 0.4391 - accuracy: 0.8975 - val_loss: 0.4770 - val_accuracy: 0.8766\n",
            "Epoch 116/250\n",
            "48/48 [==============================] - 3s 68ms/step - loss: 0.4372 - accuracy: 0.8940 - val_loss: 0.4718 - val_accuracy: 0.8639\n",
            "Epoch 117/250\n",
            "48/48 [==============================] - 3s 68ms/step - loss: 0.4379 - accuracy: 0.8949 - val_loss: 0.4824 - val_accuracy: 0.8766\n",
            "Epoch 118/250\n",
            "48/48 [==============================] - 3s 68ms/step - loss: 0.4168 - accuracy: 0.9023 - val_loss: 0.4761 - val_accuracy: 0.8621\n",
            "Epoch 119/250\n",
            "48/48 [==============================] - 3s 69ms/step - loss: 0.4261 - accuracy: 0.8987 - val_loss: 0.4506 - val_accuracy: 0.8784\n",
            "Epoch 120/250\n",
            "48/48 [==============================] - 3s 69ms/step - loss: 0.4327 - accuracy: 0.8945 - val_loss: 0.5593 - val_accuracy: 0.8439\n",
            "Epoch 121/250\n",
            "48/48 [==============================] - 3s 68ms/step - loss: 0.4335 - accuracy: 0.8970 - val_loss: 0.4879 - val_accuracy: 0.8657\n",
            "Epoch 122/250\n",
            "48/48 [==============================] - 3s 69ms/step - loss: 0.4272 - accuracy: 0.8977 - val_loss: 0.4599 - val_accuracy: 0.8784\n",
            "Epoch 123/250\n",
            "48/48 [==============================] - 3s 69ms/step - loss: 0.4331 - accuracy: 0.8935 - val_loss: 0.4633 - val_accuracy: 0.8838\n",
            "Epoch 124/250\n",
            "48/48 [==============================] - 3s 68ms/step - loss: 0.4207 - accuracy: 0.8968 - val_loss: 0.4726 - val_accuracy: 0.8603\n",
            "Epoch 125/250\n",
            "48/48 [==============================] - 3s 68ms/step - loss: 0.4269 - accuracy: 0.8965 - val_loss: 0.4539 - val_accuracy: 0.8838\n",
            "Epoch 126/250\n",
            "48/48 [==============================] - 3s 68ms/step - loss: 0.4029 - accuracy: 0.9081 - val_loss: 0.4875 - val_accuracy: 0.8584\n",
            "Epoch 127/250\n",
            "48/48 [==============================] - 3s 69ms/step - loss: 0.3984 - accuracy: 0.9045 - val_loss: 0.4627 - val_accuracy: 0.8693\n",
            "Epoch 128/250\n",
            "48/48 [==============================] - 3s 69ms/step - loss: 0.4178 - accuracy: 0.9000 - val_loss: 0.4615 - val_accuracy: 0.8947\n",
            "Epoch 129/250\n",
            "48/48 [==============================] - 3s 69ms/step - loss: 0.4282 - accuracy: 0.8903 - val_loss: 0.5224 - val_accuracy: 0.8494\n",
            "Epoch 130/250\n",
            "48/48 [==============================] - 3s 69ms/step - loss: 0.4022 - accuracy: 0.9063 - val_loss: 0.4728 - val_accuracy: 0.8784\n",
            "Epoch 131/250\n",
            "48/48 [==============================] - 3s 68ms/step - loss: 0.4044 - accuracy: 0.9073 - val_loss: 0.4793 - val_accuracy: 0.8675\n",
            "Epoch 132/250\n",
            "48/48 [==============================] - 3s 68ms/step - loss: 0.3934 - accuracy: 0.9083 - val_loss: 0.4742 - val_accuracy: 0.8820\n",
            "Epoch 133/250\n",
            "48/48 [==============================] - 3s 69ms/step - loss: 0.3928 - accuracy: 0.9087 - val_loss: 0.4786 - val_accuracy: 0.8657\n",
            "Epoch 134/250\n",
            "48/48 [==============================] - 3s 68ms/step - loss: 0.3895 - accuracy: 0.9110 - val_loss: 0.4634 - val_accuracy: 0.8675\n",
            "Epoch 135/250\n",
            "48/48 [==============================] - 3s 69ms/step - loss: 0.3868 - accuracy: 0.9101 - val_loss: 0.4403 - val_accuracy: 0.8730\n",
            "Epoch 136/250\n",
            "48/48 [==============================] - 3s 69ms/step - loss: 0.3697 - accuracy: 0.9183 - val_loss: 0.4334 - val_accuracy: 0.8857\n",
            "Epoch 137/250\n",
            "48/48 [==============================] - 3s 69ms/step - loss: 0.3800 - accuracy: 0.9080 - val_loss: 0.4560 - val_accuracy: 0.8802\n",
            "Epoch 138/250\n",
            "48/48 [==============================] - 3s 68ms/step - loss: 0.3760 - accuracy: 0.9179 - val_loss: 0.4432 - val_accuracy: 0.8621\n",
            "Epoch 139/250\n",
            "48/48 [==============================] - 3s 68ms/step - loss: 0.3905 - accuracy: 0.9030 - val_loss: 0.4517 - val_accuracy: 0.9020\n",
            "Epoch 140/250\n",
            "48/48 [==============================] - 3s 68ms/step - loss: 0.3773 - accuracy: 0.9121 - val_loss: 0.5096 - val_accuracy: 0.8639\n",
            "Epoch 141/250\n",
            "48/48 [==============================] - 3s 68ms/step - loss: 0.3790 - accuracy: 0.9070 - val_loss: 0.5006 - val_accuracy: 0.8820\n",
            "Epoch 142/250\n",
            "48/48 [==============================] - 3s 68ms/step - loss: 0.3766 - accuracy: 0.9129 - val_loss: 0.4728 - val_accuracy: 0.8748\n",
            "Epoch 143/250\n",
            "48/48 [==============================] - 3s 68ms/step - loss: 0.3585 - accuracy: 0.9208 - val_loss: 0.4609 - val_accuracy: 0.8766\n",
            "Epoch 144/250\n",
            "48/48 [==============================] - 3s 68ms/step - loss: 0.3714 - accuracy: 0.9127 - val_loss: 0.4407 - val_accuracy: 0.8947\n",
            "Epoch 145/250\n",
            "48/48 [==============================] - 3s 69ms/step - loss: 0.3697 - accuracy: 0.9085 - val_loss: 0.4346 - val_accuracy: 0.8929\n",
            "Epoch 146/250\n",
            "48/48 [==============================] - 3s 70ms/step - loss: 0.3693 - accuracy: 0.9132 - val_loss: 0.4512 - val_accuracy: 0.8730\n",
            "Epoch 147/250\n",
            "48/48 [==============================] - 3s 69ms/step - loss: 0.3679 - accuracy: 0.9151 - val_loss: 0.4759 - val_accuracy: 0.8530\n",
            "Epoch 148/250\n",
            "48/48 [==============================] - 3s 68ms/step - loss: 0.3712 - accuracy: 0.9108 - val_loss: 0.4182 - val_accuracy: 0.8748\n",
            "Epoch 149/250\n",
            "48/48 [==============================] - 3s 69ms/step - loss: 0.3634 - accuracy: 0.9105 - val_loss: 0.4395 - val_accuracy: 0.8693\n",
            "Epoch 150/250\n",
            "48/48 [==============================] - 3s 69ms/step - loss: 0.3781 - accuracy: 0.9035 - val_loss: 0.4591 - val_accuracy: 0.8730\n",
            "Epoch 151/250\n",
            "48/48 [==============================] - 3s 68ms/step - loss: 0.3668 - accuracy: 0.9100 - val_loss: 0.4623 - val_accuracy: 0.8675\n",
            "Epoch 152/250\n",
            "48/48 [==============================] - 3s 69ms/step - loss: 0.3751 - accuracy: 0.9108 - val_loss: 0.4333 - val_accuracy: 0.8802\n",
            "Epoch 153/250\n",
            "48/48 [==============================] - 3s 69ms/step - loss: 0.3554 - accuracy: 0.9144 - val_loss: 0.4626 - val_accuracy: 0.8857\n",
            "Epoch 154/250\n",
            "48/48 [==============================] - 3s 68ms/step - loss: 0.3534 - accuracy: 0.9160 - val_loss: 0.4207 - val_accuracy: 0.8984\n",
            "Epoch 155/250\n",
            "48/48 [==============================] - 3s 69ms/step - loss: 0.3533 - accuracy: 0.9214 - val_loss: 0.4103 - val_accuracy: 0.9020\n",
            "Epoch 156/250\n",
            "48/48 [==============================] - 3s 69ms/step - loss: 0.3423 - accuracy: 0.9294 - val_loss: 0.4095 - val_accuracy: 0.9020\n",
            "Epoch 157/250\n",
            "48/48 [==============================] - 3s 69ms/step - loss: 0.3447 - accuracy: 0.9221 - val_loss: 0.4205 - val_accuracy: 0.8820\n",
            "Epoch 158/250\n",
            "48/48 [==============================] - 3s 68ms/step - loss: 0.3446 - accuracy: 0.9247 - val_loss: 0.4495 - val_accuracy: 0.8857\n",
            "Epoch 159/250\n",
            "48/48 [==============================] - 3s 69ms/step - loss: 0.3490 - accuracy: 0.9221 - val_loss: 0.4245 - val_accuracy: 0.9038\n",
            "Epoch 160/250\n",
            "48/48 [==============================] - 3s 68ms/step - loss: 0.3282 - accuracy: 0.9298 - val_loss: 0.4737 - val_accuracy: 0.8748\n",
            "Epoch 161/250\n",
            "48/48 [==============================] - 3s 69ms/step - loss: 0.3353 - accuracy: 0.9274 - val_loss: 0.4125 - val_accuracy: 0.8857\n",
            "Epoch 162/250\n",
            "48/48 [==============================] - 3s 68ms/step - loss: 0.3286 - accuracy: 0.9270 - val_loss: 0.5034 - val_accuracy: 0.8457\n",
            "Epoch 163/250\n",
            "48/48 [==============================] - 3s 68ms/step - loss: 0.3323 - accuracy: 0.9228 - val_loss: 0.4253 - val_accuracy: 0.8748\n",
            "Epoch 164/250\n",
            "48/48 [==============================] - 3s 68ms/step - loss: 0.3370 - accuracy: 0.9208 - val_loss: 0.4095 - val_accuracy: 0.8802\n",
            "Epoch 165/250\n",
            "48/48 [==============================] - 3s 68ms/step - loss: 0.3277 - accuracy: 0.9237 - val_loss: 0.4330 - val_accuracy: 0.8820\n",
            "Epoch 166/250\n",
            "48/48 [==============================] - 3s 68ms/step - loss: 0.3307 - accuracy: 0.9269 - val_loss: 0.4108 - val_accuracy: 0.8893\n",
            "Epoch 167/250\n",
            "48/48 [==============================] - 3s 69ms/step - loss: 0.3448 - accuracy: 0.9174 - val_loss: 0.4345 - val_accuracy: 0.8802\n",
            "Epoch 168/250\n",
            "48/48 [==============================] - 3s 68ms/step - loss: 0.3481 - accuracy: 0.9211 - val_loss: 0.3887 - val_accuracy: 0.8947\n",
            "Epoch 169/250\n",
            "48/48 [==============================] - 3s 68ms/step - loss: 0.3350 - accuracy: 0.9241 - val_loss: 0.4400 - val_accuracy: 0.8802\n",
            "Epoch 170/250\n",
            "48/48 [==============================] - 3s 68ms/step - loss: 0.3337 - accuracy: 0.9256 - val_loss: 0.4384 - val_accuracy: 0.8766\n",
            "Epoch 171/250\n",
            "48/48 [==============================] - 3s 69ms/step - loss: 0.3344 - accuracy: 0.9304 - val_loss: 0.4247 - val_accuracy: 0.8911\n",
            "Epoch 172/250\n",
            "48/48 [==============================] - 3s 69ms/step - loss: 0.3262 - accuracy: 0.9202 - val_loss: 0.4148 - val_accuracy: 0.8911\n",
            "Epoch 173/250\n",
            "48/48 [==============================] - 3s 69ms/step - loss: 0.3168 - accuracy: 0.9230 - val_loss: 0.3941 - val_accuracy: 0.9002\n",
            "Epoch 174/250\n",
            "48/48 [==============================] - 3s 68ms/step - loss: 0.3227 - accuracy: 0.9271 - val_loss: 0.3861 - val_accuracy: 0.9093\n",
            "Epoch 175/250\n",
            "48/48 [==============================] - 3s 69ms/step - loss: 0.3212 - accuracy: 0.9243 - val_loss: 0.4009 - val_accuracy: 0.8875\n",
            "Epoch 176/250\n",
            "48/48 [==============================] - 3s 68ms/step - loss: 0.3162 - accuracy: 0.9284 - val_loss: 0.4044 - val_accuracy: 0.9056\n",
            "Epoch 177/250\n",
            "48/48 [==============================] - 3s 69ms/step - loss: 0.3075 - accuracy: 0.9317 - val_loss: 0.4331 - val_accuracy: 0.8984\n",
            "Epoch 178/250\n",
            "48/48 [==============================] - 3s 69ms/step - loss: 0.3142 - accuracy: 0.9264 - val_loss: 0.4356 - val_accuracy: 0.8857\n",
            "Epoch 179/250\n",
            "48/48 [==============================] - 3s 68ms/step - loss: 0.3245 - accuracy: 0.9303 - val_loss: 0.4121 - val_accuracy: 0.8966\n",
            "Epoch 180/250\n",
            "48/48 [==============================] - 3s 68ms/step - loss: 0.3091 - accuracy: 0.9360 - val_loss: 0.4302 - val_accuracy: 0.8838\n",
            "Epoch 181/250\n",
            "48/48 [==============================] - 3s 69ms/step - loss: 0.2986 - accuracy: 0.9319 - val_loss: 0.3865 - val_accuracy: 0.9165\n",
            "Epoch 182/250\n",
            "48/48 [==============================] - 3s 69ms/step - loss: 0.3050 - accuracy: 0.9322 - val_loss: 0.3897 - val_accuracy: 0.9020\n",
            "Epoch 183/250\n",
            "48/48 [==============================] - 3s 69ms/step - loss: 0.3029 - accuracy: 0.9296 - val_loss: 0.3832 - val_accuracy: 0.8984\n",
            "Epoch 184/250\n",
            "48/48 [==============================] - 3s 69ms/step - loss: 0.3079 - accuracy: 0.9320 - val_loss: 0.3934 - val_accuracy: 0.8947\n",
            "Epoch 185/250\n",
            "48/48 [==============================] - 3s 69ms/step - loss: 0.3077 - accuracy: 0.9298 - val_loss: 0.3874 - val_accuracy: 0.8966\n",
            "Epoch 186/250\n",
            "48/48 [==============================] - 3s 69ms/step - loss: 0.2944 - accuracy: 0.9350 - val_loss: 0.4699 - val_accuracy: 0.8675\n",
            "Epoch 187/250\n",
            "48/48 [==============================] - 3s 69ms/step - loss: 0.3111 - accuracy: 0.9284 - val_loss: 0.3861 - val_accuracy: 0.8911\n",
            "Epoch 188/250\n",
            "48/48 [==============================] - 3s 69ms/step - loss: 0.3087 - accuracy: 0.9307 - val_loss: 0.3936 - val_accuracy: 0.9020\n",
            "Epoch 189/250\n",
            "48/48 [==============================] - 3s 69ms/step - loss: 0.3105 - accuracy: 0.9252 - val_loss: 0.4265 - val_accuracy: 0.8784\n",
            "Epoch 190/250\n",
            "48/48 [==============================] - 3s 69ms/step - loss: 0.3000 - accuracy: 0.9339 - val_loss: 0.3733 - val_accuracy: 0.9056\n",
            "Epoch 191/250\n",
            "48/48 [==============================] - 3s 69ms/step - loss: 0.2875 - accuracy: 0.9421 - val_loss: 0.4217 - val_accuracy: 0.8766\n",
            "Epoch 192/250\n",
            "48/48 [==============================] - 3s 68ms/step - loss: 0.3046 - accuracy: 0.9350 - val_loss: 0.3664 - val_accuracy: 0.9056\n",
            "Epoch 193/250\n",
            "48/48 [==============================] - 3s 69ms/step - loss: 0.2962 - accuracy: 0.9358 - val_loss: 0.3796 - val_accuracy: 0.9074\n",
            "Epoch 194/250\n",
            "48/48 [==============================] - 3s 69ms/step - loss: 0.2934 - accuracy: 0.9385 - val_loss: 0.3735 - val_accuracy: 0.8966\n",
            "Epoch 195/250\n",
            "48/48 [==============================] - 3s 69ms/step - loss: 0.2903 - accuracy: 0.9375 - val_loss: 0.3991 - val_accuracy: 0.8838\n",
            "Epoch 196/250\n",
            "48/48 [==============================] - 3s 68ms/step - loss: 0.2980 - accuracy: 0.9334 - val_loss: 0.3682 - val_accuracy: 0.9002\n",
            "Epoch 197/250\n",
            "48/48 [==============================] - 3s 68ms/step - loss: 0.2899 - accuracy: 0.9376 - val_loss: 0.3656 - val_accuracy: 0.9111\n",
            "Epoch 198/250\n",
            "48/48 [==============================] - 3s 69ms/step - loss: 0.2888 - accuracy: 0.9404 - val_loss: 0.3539 - val_accuracy: 0.9201\n",
            "Epoch 199/250\n",
            "48/48 [==============================] - 3s 69ms/step - loss: 0.2841 - accuracy: 0.9430 - val_loss: 0.3974 - val_accuracy: 0.8984\n",
            "Epoch 200/250\n",
            "48/48 [==============================] - 3s 69ms/step - loss: 0.2944 - accuracy: 0.9393 - val_loss: 0.3408 - val_accuracy: 0.9093\n",
            "Epoch 201/250\n",
            "48/48 [==============================] - 3s 69ms/step - loss: 0.2782 - accuracy: 0.9420 - val_loss: 0.3729 - val_accuracy: 0.9111\n",
            "Epoch 202/250\n",
            "48/48 [==============================] - 3s 68ms/step - loss: 0.2916 - accuracy: 0.9345 - val_loss: 0.3768 - val_accuracy: 0.9074\n",
            "Epoch 203/250\n",
            "48/48 [==============================] - 3s 68ms/step - loss: 0.2932 - accuracy: 0.9417 - val_loss: 0.3902 - val_accuracy: 0.8984\n",
            "Epoch 204/250\n",
            "48/48 [==============================] - 3s 69ms/step - loss: 0.2809 - accuracy: 0.9410 - val_loss: 0.4681 - val_accuracy: 0.8693\n",
            "Epoch 205/250\n",
            "48/48 [==============================] - 3s 69ms/step - loss: 0.2738 - accuracy: 0.9436 - val_loss: 0.4063 - val_accuracy: 0.8966\n",
            "Epoch 206/250\n",
            "48/48 [==============================] - 3s 68ms/step - loss: 0.2904 - accuracy: 0.9314 - val_loss: 0.4463 - val_accuracy: 0.8838\n",
            "Epoch 207/250\n",
            "48/48 [==============================] - 3s 69ms/step - loss: 0.2727 - accuracy: 0.9461 - val_loss: 0.3645 - val_accuracy: 0.9038\n",
            "Epoch 208/250\n",
            "48/48 [==============================] - 3s 69ms/step - loss: 0.2806 - accuracy: 0.9421 - val_loss: 0.4224 - val_accuracy: 0.8784\n",
            "Epoch 209/250\n",
            "48/48 [==============================] - 3s 69ms/step - loss: 0.2815 - accuracy: 0.9378 - val_loss: 0.3796 - val_accuracy: 0.8929\n",
            "Epoch 210/250\n",
            "48/48 [==============================] - 3s 68ms/step - loss: 0.2629 - accuracy: 0.9415 - val_loss: 0.3807 - val_accuracy: 0.8929\n",
            "Epoch 211/250\n",
            "48/48 [==============================] - 3s 69ms/step - loss: 0.2791 - accuracy: 0.9384 - val_loss: 0.3742 - val_accuracy: 0.9020\n",
            "Epoch 212/250\n",
            "48/48 [==============================] - 3s 69ms/step - loss: 0.2616 - accuracy: 0.9470 - val_loss: 0.3550 - val_accuracy: 0.8966\n",
            "Epoch 213/250\n",
            "48/48 [==============================] - 3s 69ms/step - loss: 0.2733 - accuracy: 0.9399 - val_loss: 0.3615 - val_accuracy: 0.9220\n",
            "Epoch 214/250\n",
            "48/48 [==============================] - 3s 69ms/step - loss: 0.2495 - accuracy: 0.9537 - val_loss: 0.3555 - val_accuracy: 0.9038\n",
            "Epoch 215/250\n",
            "48/48 [==============================] - 3s 69ms/step - loss: 0.2672 - accuracy: 0.9392 - val_loss: 0.3570 - val_accuracy: 0.9111\n",
            "Epoch 216/250\n",
            "48/48 [==============================] - 3s 69ms/step - loss: 0.2687 - accuracy: 0.9422 - val_loss: 0.3503 - val_accuracy: 0.9220\n",
            "Epoch 217/250\n",
            "48/48 [==============================] - 3s 69ms/step - loss: 0.2616 - accuracy: 0.9485 - val_loss: 0.3382 - val_accuracy: 0.9111\n",
            "Epoch 218/250\n",
            "48/48 [==============================] - 3s 69ms/step - loss: 0.2553 - accuracy: 0.9468 - val_loss: 0.3540 - val_accuracy: 0.9002\n",
            "Epoch 219/250\n",
            "48/48 [==============================] - 3s 68ms/step - loss: 0.2600 - accuracy: 0.9466 - val_loss: 0.3673 - val_accuracy: 0.9020\n",
            "Epoch 220/250\n",
            "48/48 [==============================] - 3s 69ms/step - loss: 0.2586 - accuracy: 0.9436 - val_loss: 0.3581 - val_accuracy: 0.9074\n",
            "Epoch 221/250\n",
            "48/48 [==============================] - 3s 69ms/step - loss: 0.2555 - accuracy: 0.9509 - val_loss: 0.3480 - val_accuracy: 0.9165\n",
            "Epoch 222/250\n",
            "48/48 [==============================] - 3s 69ms/step - loss: 0.2528 - accuracy: 0.9488 - val_loss: 0.3357 - val_accuracy: 0.9165\n",
            "Epoch 223/250\n",
            "48/48 [==============================] - 3s 69ms/step - loss: 0.2570 - accuracy: 0.9463 - val_loss: 0.3593 - val_accuracy: 0.9093\n",
            "Epoch 224/250\n",
            "48/48 [==============================] - 3s 69ms/step - loss: 0.2563 - accuracy: 0.9513 - val_loss: 0.3333 - val_accuracy: 0.9256\n",
            "Epoch 225/250\n",
            "48/48 [==============================] - 3s 68ms/step - loss: 0.2450 - accuracy: 0.9511 - val_loss: 0.4534 - val_accuracy: 0.8838\n",
            "Epoch 226/250\n",
            "48/48 [==============================] - 3s 69ms/step - loss: 0.2449 - accuracy: 0.9534 - val_loss: 0.3501 - val_accuracy: 0.9147\n",
            "Epoch 227/250\n",
            "48/48 [==============================] - 3s 69ms/step - loss: 0.2498 - accuracy: 0.9536 - val_loss: 0.3562 - val_accuracy: 0.8984\n",
            "Epoch 228/250\n",
            "48/48 [==============================] - 3s 69ms/step - loss: 0.2476 - accuracy: 0.9476 - val_loss: 0.3443 - val_accuracy: 0.9129\n",
            "Epoch 229/250\n",
            "48/48 [==============================] - 3s 70ms/step - loss: 0.2437 - accuracy: 0.9502 - val_loss: 0.3442 - val_accuracy: 0.9020\n",
            "Epoch 230/250\n",
            "48/48 [==============================] - 3s 69ms/step - loss: 0.2573 - accuracy: 0.9474 - val_loss: 0.3531 - val_accuracy: 0.8984\n",
            "Epoch 231/250\n",
            "48/48 [==============================] - 3s 68ms/step - loss: 0.2597 - accuracy: 0.9406 - val_loss: 0.3350 - val_accuracy: 0.9147\n",
            "Epoch 232/250\n",
            "48/48 [==============================] - 3s 69ms/step - loss: 0.2528 - accuracy: 0.9481 - val_loss: 0.3603 - val_accuracy: 0.9002\n",
            "Epoch 233/250\n",
            "48/48 [==============================] - 3s 69ms/step - loss: 0.2585 - accuracy: 0.9464 - val_loss: 0.3519 - val_accuracy: 0.9129\n",
            "Epoch 234/250\n",
            "48/48 [==============================] - 3s 69ms/step - loss: 0.2536 - accuracy: 0.9464 - val_loss: 0.3484 - val_accuracy: 0.9074\n",
            "Epoch 235/250\n",
            "48/48 [==============================] - 3s 69ms/step - loss: 0.2609 - accuracy: 0.9452 - val_loss: 0.3903 - val_accuracy: 0.9129\n",
            "Epoch 236/250\n",
            "48/48 [==============================] - 3s 69ms/step - loss: 0.2338 - accuracy: 0.9578 - val_loss: 0.3289 - val_accuracy: 0.9165\n",
            "Epoch 237/250\n",
            "48/48 [==============================] - 3s 68ms/step - loss: 0.2310 - accuracy: 0.9565 - val_loss: 0.3603 - val_accuracy: 0.9038\n",
            "Epoch 238/250\n",
            "48/48 [==============================] - 3s 69ms/step - loss: 0.2477 - accuracy: 0.9444 - val_loss: 0.3400 - val_accuracy: 0.9074\n",
            "Epoch 239/250\n",
            "48/48 [==============================] - 3s 69ms/step - loss: 0.2432 - accuracy: 0.9490 - val_loss: 0.3543 - val_accuracy: 0.9201\n",
            "Epoch 240/250\n",
            "48/48 [==============================] - 3s 69ms/step - loss: 0.2478 - accuracy: 0.9441 - val_loss: 0.3802 - val_accuracy: 0.8984\n",
            "Epoch 241/250\n",
            "48/48 [==============================] - 3s 69ms/step - loss: 0.2439 - accuracy: 0.9486 - val_loss: 0.3599 - val_accuracy: 0.9111\n",
            "Epoch 242/250\n",
            "48/48 [==============================] - 3s 69ms/step - loss: 0.2361 - accuracy: 0.9568 - val_loss: 0.3732 - val_accuracy: 0.8947\n",
            "Epoch 243/250\n",
            "48/48 [==============================] - 3s 69ms/step - loss: 0.2357 - accuracy: 0.9516 - val_loss: 0.3776 - val_accuracy: 0.8875\n",
            "Epoch 244/250\n",
            "48/48 [==============================] - 3s 68ms/step - loss: 0.2460 - accuracy: 0.9459 - val_loss: 0.3506 - val_accuracy: 0.9074\n",
            "Epoch 245/250\n",
            "48/48 [==============================] - 3s 68ms/step - loss: 0.2462 - accuracy: 0.9481 - val_loss: 0.4017 - val_accuracy: 0.8966\n",
            "Epoch 246/250\n",
            "48/48 [==============================] - 3s 69ms/step - loss: 0.2519 - accuracy: 0.9437 - val_loss: 0.3481 - val_accuracy: 0.9074\n",
            "Epoch 247/250\n",
            "48/48 [==============================] - 3s 69ms/step - loss: 0.2395 - accuracy: 0.9521 - val_loss: 0.3294 - val_accuracy: 0.9147\n",
            "Epoch 248/250\n",
            "48/48 [==============================] - 3s 69ms/step - loss: 0.2301 - accuracy: 0.9556 - val_loss: 0.3777 - val_accuracy: 0.8893\n",
            "Epoch 249/250\n",
            "48/48 [==============================] - 3s 69ms/step - loss: 0.2422 - accuracy: 0.9463 - val_loss: 0.3284 - val_accuracy: 0.9020\n",
            "Epoch 00249: early stopping\n"
          ],
          "name": "stdout"
        }
      ]
    },
    {
      "cell_type": "markdown",
      "metadata": {
        "id": "CjEB9_N95DHJ"
      },
      "source": [
        "## **12. Evaluating model through different performance metrics**"
      ]
    },
    {
      "cell_type": "code",
      "metadata": {
        "id": "3-8nr23H5DHJ"
      },
      "source": [
        "labels = ['Air Conditioner', 'Car Horn', 'Children Playing', 'Dog bark', 'Drilling', 'Engine Idling', 'Gun Shot', 'Jackhammer', 'Siren', 'Street Music']"
      ],
      "execution_count": null,
      "outputs": []
    },
    {
      "cell_type": "markdown",
      "metadata": {
        "id": "rTDfDvHw5DHJ"
      },
      "source": [
        "### **12.1 Accuracy**"
      ]
    },
    {
      "cell_type": "code",
      "metadata": {
        "colab": {
          "base_uri": "https://localhost:8080/"
        },
        "id": "zaSm4k4V5DHK",
        "outputId": "fa657ada-1329-40b7-94c3-44d775c6dd4d"
      },
      "source": [
        "model_evaluation_report(model, X_train, y_train_encoded, X_test, y_test_encoded)"
      ],
      "execution_count": null,
      "outputs": [
        {
          "output_type": "stream",
          "text": [
            "                    LOSS      ACCURACY\n",
            "--------------------------------------\n",
            "Training:         0.2244       95.8094\n",
            "Test:             0.3661       90.9806\n"
          ],
          "name": "stdout"
        }
      ]
    },
    {
      "cell_type": "markdown",
      "metadata": {
        "id": "3TrgudlZ5DHK"
      },
      "source": [
        "### **12.2 Visualizing Accuracy in Each Epoch**"
      ]
    },
    {
      "cell_type": "code",
      "metadata": {
        "colab": {
          "base_uri": "https://localhost:8080/",
          "height": 352
        },
        "id": "PAluj7UT5DHK",
        "outputId": "11a3b5c3-3ef5-40b5-d4f3-f5abc5d0881f"
      },
      "source": [
        "acc_plot(history)"
      ],
      "execution_count": null,
      "outputs": [
        {
          "output_type": "display_data",
          "data": {
            "image/png": "[encoded data removed]",
            "text/plain": [
              "<Figure size 576x360 with 1 Axes>"
            ]
          },
          "metadata": {
            "tags": []
          }
        }
      ]
    },
    {
      "cell_type": "markdown",
      "metadata": {
        "id": "n3DCjt3O5DHL"
      },
      "source": [
        "### **12.3 Visualizing Loss in Each Epoch**"
      ]
    },
    {
      "cell_type": "code",
      "metadata": {
        "colab": {
          "base_uri": "https://localhost:8080/",
          "height": 352
        },
        "id": "SOn2aUsa5DHL",
        "outputId": "9259a095-d65a-4f78-fa08-12f94d1f3cfd"
      },
      "source": [
        "loss_plot(history)"
      ],
      "execution_count": null,
      "outputs": [
        {
          "output_type": "display_data",
          "data": {
            "image/png": "[encoded data removed]",
            "text/plain": [
              "<Figure size 576x360 with 1 Axes>"
            ]
          },
          "metadata": {
            "tags": []
          }
        }
      ]
    },
    {
      "cell_type": "markdown",
      "metadata": {
        "id": "dQW01p6R5DHL"
      },
      "source": [
        "### **12.4 Confusion Matrix**"
      ]
    },
    {
      "cell_type": "code",
      "metadata": {
        "id": "RifTy8Pu5DHL"
      },
      "source": [
        "y_probs = model.predict(X_test, verbose=0)\n",
        "yhat_probs = np.argmax(y_probs, axis=1) #Getting predicted labels\n",
        "y_trues = np.argmax(y_test_encoded, axis=1)"
      ],
      "execution_count": null,
      "outputs": []
    },
    {
      "cell_type": "code",
      "metadata": {
        "colab": {
          "base_uri": "https://localhost:8080/"
        },
        "id": "8tpSpuXO5DHL",
        "outputId": "69bd89a1-4411-47a6-fff0-70cccb3bd0a7"
      },
      "source": [
        "cm = confusion_matrix(y_trues, yhat_probs)\n",
        "cm"
      ],
      "execution_count": null,
      "outputs": [
        {
          "output_type": "execute_result",
          "data": {
            "text/plain": [
              "array([[184,   0,   0,   1,   0,   3,   0,   1,   0,   4],\n",
              "       [  1,  71,   0,   1,   2,   0,   0,   0,   0,   2],\n",
              "       [  1,   1, 153,   5,   0,   3,   1,   0,   1,  14],\n",
              "       [  2,   6,   9, 160,   1,   3,   0,   0,   7,   1],\n",
              "       [  0,   4,   3,   7, 167,   1,   0,   6,   0,   0],\n",
              "       [  0,   1,   2,   0,   0, 185,   0,   0,   2,   1],\n",
              "       [  0,   0,   0,   4,   1,   0,  66,   0,   0,   0],\n",
              "       [  1,   4,   0,   0,   4,   1,   0, 197,   1,   1],\n",
              "       [  0,   0,   1,   1,   0,   1,   0,   0, 165,   2],\n",
              "       [  4,   0,  16,   2,   0,   3,   0,   0,   5, 155]])"
            ]
          },
          "metadata": {
            "tags": []
          },
          "execution_count": 49
        }
      ]
    },
    {
      "cell_type": "code",
      "metadata": {
        "colab": {
          "base_uri": "https://localhost:8080/",
          "height": 497
        },
        "id": "wYdSwrW65DHM",
        "outputId": "65260358-942b-4607-d87a-b3d858acd7a1"
      },
      "source": [
        "def display_cm():\n",
        "  CM = confusion_matrix(y_trues, yhat_probs)\n",
        "  f, ax = plt.subplots(figsize=(8,8))\n",
        "  sb.heatmap(CM,annot = True, linewidths=0.5,linecolor=\"white\",fmt=\".0f\",ax=ax, cmap=plt.cm.copper)\n",
        "  plt.xlabel(\"Prediction(Ypred)\")\n",
        "  plt.ylabel(\"Ytrue\")\n",
        "  plt.show()\n",
        "display_cm()"
      ],
      "execution_count": null,
      "outputs": [
        {
          "output_type": "display_data",
          "data": {
            "image/png": "[encoded data removed]",
            "text/plain": [
              "<Figure size 576x576 with 2 Axes>"
            ]
          },
          "metadata": {
            "tags": []
          }
        }
      ]
    },
    {
      "cell_type": "markdown",
      "metadata": {
        "id": "n0RN1J9U5DHM"
      },
      "source": [
        "### **12.5 Classification Report**"
      ]
    },
    {
      "cell_type": "code",
      "metadata": {
        "colab": {
          "base_uri": "https://localhost:8080/"
        },
        "id": "qNcLFfQQ5DHM",
        "outputId": "183a1f0d-63fd-4754-aed5-4d4b5f19dfdb"
      },
      "source": [
        "re = classification_report(y_trues, yhat_probs, labels=[0,1,2,3,4,5,6,7,8,9], target_names=labels)\n",
        "print(re)"
      ],
      "execution_count": null,
      "outputs": [
        {
          "output_type": "stream",
          "text": [
            "                  precision    recall  f1-score   support\n",
            "\n",
            " Air Conditioner       0.95      0.95      0.95       193\n",
            "        Car Horn       0.82      0.92      0.87        77\n",
            "Children Playing       0.83      0.85      0.84       179\n",
            "        Dog bark       0.88      0.85      0.86       189\n",
            "        Drilling       0.95      0.89      0.92       188\n",
            "   Engine Idling       0.93      0.97      0.95       191\n",
            "        Gun Shot       0.99      0.93      0.96        71\n",
            "      Jackhammer       0.97      0.94      0.95       209\n",
            "           Siren       0.91      0.97      0.94       170\n",
            "    Street Music       0.86      0.84      0.85       185\n",
            "\n",
            "        accuracy                           0.91      1652\n",
            "       macro avg       0.91      0.91      0.91      1652\n",
            "    weighted avg       0.91      0.91      0.91      1652\n",
            "\n"
          ],
          "name": "stdout"
        }
      ]
    },
    {
      "cell_type": "markdown",
      "metadata": {
        "id": "WrBX4jki5DHN"
      },
      "source": [
        "### **12.6 Accuracy per Class**"
      ]
    },
    {
      "cell_type": "code",
      "metadata": {
        "colab": {
          "base_uri": "https://localhost:8080/",
          "height": 343
        },
        "id": "gRDEutgp5DHN",
        "outputId": "ce6817a6-e4e4-4aea-af7d-dc798af64a78"
      },
      "source": [
        "accuracies = acc_per_class(cm)\n",
        "pd.DataFrame({\n",
        "    'CLASS': labels,\n",
        "    'ACCURACY': accuracies}).sort_values(by=\"ACCURACY\", ascending=False)"
      ],
      "execution_count": null,
      "outputs": [
        {
          "output_type": "execute_result",
          "data": {
            "text/html": [
              "<div>\n",
              "<style scoped>\n",
              "    .dataframe tbody tr th:only-of-type {\n",
              "        vertical-align: middle;\n",
              "    }\n",
              "\n",
              "    .dataframe tbody tr th {\n",
              "        vertical-align: top;\n",
              "    }\n",
              "\n",
              "    .dataframe thead th {\n",
              "        text-align: right;\n",
              "    }\n",
              "</style>\n",
              "<table border=\"1\" class=\"dataframe\">\n",
              "  <thead>\n",
              "    <tr style=\"text-align: right;\">\n",
              "      <th></th>\n",
              "      <th>CLASS</th>\n",
              "      <th>ACCURACY</th>\n",
              "    </tr>\n",
              "  </thead>\n",
              "  <tbody>\n",
              "    <tr>\n",
              "      <th>8</th>\n",
              "      <td>Siren</td>\n",
              "      <td>97.058824</td>\n",
              "    </tr>\n",
              "    <tr>\n",
              "      <th>5</th>\n",
              "      <td>Engine Idling</td>\n",
              "      <td>96.858639</td>\n",
              "    </tr>\n",
              "    <tr>\n",
              "      <th>0</th>\n",
              "      <td>Air Conditioner</td>\n",
              "      <td>95.336788</td>\n",
              "    </tr>\n",
              "    <tr>\n",
              "      <th>7</th>\n",
              "      <td>Jackhammer</td>\n",
              "      <td>94.258373</td>\n",
              "    </tr>\n",
              "    <tr>\n",
              "      <th>6</th>\n",
              "      <td>Gun Shot</td>\n",
              "      <td>92.957746</td>\n",
              "    </tr>\n",
              "    <tr>\n",
              "      <th>1</th>\n",
              "      <td>Car Horn</td>\n",
              "      <td>92.207792</td>\n",
              "    </tr>\n",
              "    <tr>\n",
              "      <th>4</th>\n",
              "      <td>Drilling</td>\n",
              "      <td>88.829787</td>\n",
              "    </tr>\n",
              "    <tr>\n",
              "      <th>2</th>\n",
              "      <td>Children Playing</td>\n",
              "      <td>85.474860</td>\n",
              "    </tr>\n",
              "    <tr>\n",
              "      <th>3</th>\n",
              "      <td>Dog bark</td>\n",
              "      <td>84.656085</td>\n",
              "    </tr>\n",
              "    <tr>\n",
              "      <th>9</th>\n",
              "      <td>Street Music</td>\n",
              "      <td>83.783784</td>\n",
              "    </tr>\n",
              "  </tbody>\n",
              "</table>\n",
              "</div>"
            ],
            "text/plain": [
              "              CLASS   ACCURACY\n",
              "8             Siren  97.058824\n",
              "5     Engine Idling  96.858639\n",
              "0   Air Conditioner  95.336788\n",
              "7        Jackhammer  94.258373\n",
              "6          Gun Shot  92.957746\n",
              "1          Car Horn  92.207792\n",
              "4          Drilling  88.829787\n",
              "2  Children Playing  85.474860\n",
              "3          Dog bark  84.656085\n",
              "9      Street Music  83.783784"
            ]
          },
          "metadata": {
            "tags": []
          },
          "execution_count": 52
        }
      ]
    },
    {
      "cell_type": "code",
      "metadata": {
        "id": "ayrojYSUC4-7"
      },
      "source": [
        ""
      ],
      "execution_count": null,
      "outputs": []
    },
    {
      "cell_type": "markdown",
      "metadata": {
        "id": "coznSw1fdJz6"
      },
      "source": [
        "## **VGG 16 Architecture**"
      ]
    },
    {
      "cell_type": "markdown",
      "metadata": {
        "id": "YK8d31-2jR5K"
      },
      "source": [
        "![image.png](data:image/png;base64,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)"
      ]
    },
    {
      "cell_type": "code",
      "metadata": {
        "id": "hCLHZ24pfgpD"
      },
      "source": [
        "model = Sequential()\n",
        "model.add(Conv2D(input_shape=(40,174,1),filters=64,kernel_size=(3,3),padding=\"same\", activation=\"relu\"))\n",
        "model.add(Conv2D(filters=64,kernel_size=(3,3),padding=\"same\", activation=\"relu\"))\n",
        "model.add(MaxPooling2D(pool_size=(2,2), strides=(2,2)))\n",
        "\n",
        "model.add(Conv2D(filters=128, kernel_size=(3,3), padding=\"same\", activation=\"relu\"))\n",
        "model.add(Conv2D(filters=128, kernel_size=(3,3), padding=\"same\", activation=\"relu\"))\n",
        "model.add(MaxPooling2D(pool_size=(2,2), strides=(2,2)))\n",
        "\n",
        "model.add(Conv2D(filters=256, kernel_size=(3,3), padding=\"same\", activation=\"relu\"))\n",
        "model.add(Conv2D(filters=256, kernel_size=(3,3), padding=\"same\", activation=\"relu\"))\n",
        "model.add(Conv2D(filters=256, kernel_size=(3,3), padding=\"same\", activation=\"relu\"))\n",
        "model.add(MaxPooling2D(pool_size=(2,2), strides=(2,2)))\n",
        "\n",
        "model.add(Conv2D(filters=512, kernel_size=(3,3), padding=\"same\", activation=\"relu\"))\n",
        "model.add(Conv2D(filters=512, kernel_size=(3,3), padding=\"same\", activation=\"relu\"))\n",
        "model.add(Conv2D(filters=512, kernel_size=(3,3), padding=\"same\", activation=\"relu\"))\n",
        "model.add(MaxPooling2D(pool_size=(2,2), strides=(2,2)))\n",
        "\n",
        "model.add(Conv2D(filters=512, kernel_size=(3,3), padding=\"same\", activation=\"relu\"))\n",
        "model.add(Conv2D(filters=512, kernel_size=(3,3), padding=\"same\", activation=\"relu\"))\n",
        "model.add(Conv2D(filters=512, kernel_size=(3,3), padding=\"same\", activation=\"relu\"))\n",
        "model.add(MaxPooling2D(pool_size=(2,2), strides=(2,2)))\n",
        "\n",
        "model.add(Flatten())\n",
        "model.add(Dense(units=4096,activation=\"relu\"))\n",
        "model.add(Dense(units=4096,activation=\"relu\"))\n",
        "model.add(Dense(units=10, activation=\"softmax\"))  "
      ],
      "execution_count": null,
      "outputs": []
    },
    {
      "cell_type": "code",
      "metadata": {
        "colab": {
          "base_uri": "https://localhost:8080/"
        },
        "id": "cvmXU3-IuNbI",
        "outputId": "d41a2599-6b66-4e48-84a7-632f900889f6"
      },
      "source": [
        "model.summary()"
      ],
      "execution_count": null,
      "outputs": [
        {
          "output_type": "stream",
          "text": [
            "Model: \"sequential_1\"\n",
            "_________________________________________________________________\n",
            "Layer (type)                 Output Shape              Param #   \n",
            "=================================================================\n",
            "conv2d_13 (Conv2D)           (None, 40, 174, 64)       640       \n",
            "_________________________________________________________________\n",
            "conv2d_14 (Conv2D)           (None, 40, 174, 64)       36928     \n",
            "_________________________________________________________________\n",
            "max_pooling2d_5 (MaxPooling2 (None, 20, 87, 64)        0         \n",
            "_________________________________________________________________\n",
            "conv2d_15 (Conv2D)           (None, 20, 87, 128)       73856     \n",
            "_________________________________________________________________\n",
            "conv2d_16 (Conv2D)           (None, 20, 87, 128)       147584    \n",
            "_________________________________________________________________\n",
            "max_pooling2d_6 (MaxPooling2 (None, 10, 43, 128)       0         \n",
            "_________________________________________________________________\n",
            "conv2d_17 (Conv2D)           (None, 10, 43, 256)       295168    \n",
            "_________________________________________________________________\n",
            "conv2d_18 (Conv2D)           (None, 10, 43, 256)       590080    \n",
            "_________________________________________________________________\n",
            "conv2d_19 (Conv2D)           (None, 10, 43, 256)       590080    \n",
            "_________________________________________________________________\n",
            "max_pooling2d_7 (MaxPooling2 (None, 5, 21, 256)        0         \n",
            "_________________________________________________________________\n",
            "conv2d_20 (Conv2D)           (None, 5, 21, 512)        1180160   \n",
            "_________________________________________________________________\n",
            "conv2d_21 (Conv2D)           (None, 5, 21, 512)        2359808   \n",
            "_________________________________________________________________\n",
            "conv2d_22 (Conv2D)           (None, 5, 21, 512)        2359808   \n",
            "_________________________________________________________________\n",
            "max_pooling2d_8 (MaxPooling2 (None, 2, 10, 512)        0         \n",
            "_________________________________________________________________\n",
            "conv2d_23 (Conv2D)           (None, 2, 10, 512)        2359808   \n",
            "_________________________________________________________________\n",
            "conv2d_24 (Conv2D)           (None, 2, 10, 512)        2359808   \n",
            "_________________________________________________________________\n",
            "conv2d_25 (Conv2D)           (None, 2, 10, 512)        2359808   \n",
            "_________________________________________________________________\n",
            "max_pooling2d_9 (MaxPooling2 (None, 1, 5, 512)         0         \n",
            "_________________________________________________________________\n",
            "flatten_1 (Flatten)          (None, 2560)              0         \n",
            "_________________________________________________________________\n",
            "dense_3 (Dense)              (None, 4096)              10489856  \n",
            "_________________________________________________________________\n",
            "dense_4 (Dense)              (None, 4096)              16781312  \n",
            "_________________________________________________________________\n",
            "dense_5 (Dense)              (None, 10)                40970     \n",
            "=================================================================\n",
            "Total params: 42,025,674\n",
            "Trainable params: 42,025,674\n",
            "Non-trainable params: 0\n",
            "_________________________________________________________________\n"
          ],
          "name": "stdout"
        }
      ]
    },
    {
      "cell_type": "code",
      "metadata": {
        "id": "uwdeUHf0fny1"
      },
      "source": [
        "adam = Adam(lr=1e-4, beta_1=0.99, beta_2=0.999)\n",
        "model.compile(loss='categorical_crossentropy', metrics=['accuracy'], optimizer=adam)"
      ],
      "execution_count": null,
      "outputs": []
    },
    {
      "cell_type": "code",
      "metadata": {
        "colab": {
          "base_uri": "https://localhost:8080/"
        },
        "id": "FKJjv2FVfuj_",
        "outputId": "bfaf1803-8cbb-4569-f4de-6f52d16fcf41"
      },
      "source": [
        "history = model.fit(X_train, y_train_encoded, batch_size=128, epochs=250, validation_split=1/12., verbose=1)"
      ],
      "execution_count": null,
      "outputs": [
        {
          "output_type": "stream",
          "text": [
            "Epoch 1/250\n",
            "48/48 [==============================] - 60s 420ms/step - loss: 2.2684 - accuracy: 0.1223 - val_loss: 2.1613 - val_accuracy: 0.1270\n",
            "Epoch 2/250\n",
            "48/48 [==============================] - 14s 295ms/step - loss: 2.0797 - accuracy: 0.1994 - val_loss: 1.9337 - val_accuracy: 0.3013\n",
            "Epoch 3/250\n",
            "48/48 [==============================] - 14s 298ms/step - loss: 1.8799 - accuracy: 0.2635 - val_loss: 1.7796 - val_accuracy: 0.2995\n",
            "Epoch 4/250\n",
            "48/48 [==============================] - 14s 293ms/step - loss: 1.6914 - accuracy: 0.3317 - val_loss: 1.6695 - val_accuracy: 0.3848\n",
            "Epoch 5/250\n",
            "48/48 [==============================] - 14s 290ms/step - loss: 1.5546 - accuracy: 0.4105 - val_loss: 1.5904 - val_accuracy: 0.3975\n",
            "Epoch 6/250\n",
            "48/48 [==============================] - 14s 290ms/step - loss: 1.4635 - accuracy: 0.4477 - val_loss: 1.4592 - val_accuracy: 0.4428\n",
            "Epoch 7/250\n",
            "48/48 [==============================] - 14s 290ms/step - loss: 1.3528 - accuracy: 0.4850 - val_loss: 1.3655 - val_accuracy: 0.4900\n",
            "Epoch 8/250\n",
            "48/48 [==============================] - 14s 293ms/step - loss: 1.2613 - accuracy: 0.5281 - val_loss: 1.3821 - val_accuracy: 0.5045\n",
            "Epoch 9/250\n",
            "48/48 [==============================] - 14s 293ms/step - loss: 1.1225 - accuracy: 0.5896 - val_loss: 1.1539 - val_accuracy: 0.5826\n",
            "Epoch 10/250\n",
            "48/48 [==============================] - 14s 292ms/step - loss: 1.0001 - accuracy: 0.6291 - val_loss: 1.1037 - val_accuracy: 0.6370\n",
            "Epoch 11/250\n",
            "48/48 [==============================] - 14s 291ms/step - loss: 0.9048 - accuracy: 0.6665 - val_loss: 1.0002 - val_accuracy: 0.6497\n",
            "Epoch 12/250\n",
            "48/48 [==============================] - 14s 292ms/step - loss: 0.8735 - accuracy: 0.6825 - val_loss: 0.9315 - val_accuracy: 0.7205\n",
            "Epoch 13/250\n",
            "48/48 [==============================] - 14s 292ms/step - loss: 0.8145 - accuracy: 0.7197 - val_loss: 0.8463 - val_accuracy: 0.7314\n",
            "Epoch 14/250\n",
            "48/48 [==============================] - 14s 292ms/step - loss: 0.7140 - accuracy: 0.7545 - val_loss: 0.8802 - val_accuracy: 0.7205\n",
            "Epoch 15/250\n",
            "48/48 [==============================] - 14s 292ms/step - loss: 0.6737 - accuracy: 0.7716 - val_loss: 0.7598 - val_accuracy: 0.7514\n",
            "Epoch 16/250\n",
            "48/48 [==============================] - 14s 292ms/step - loss: 0.5935 - accuracy: 0.7874 - val_loss: 0.8169 - val_accuracy: 0.7387\n",
            "Epoch 17/250\n",
            "48/48 [==============================] - 14s 292ms/step - loss: 0.5712 - accuracy: 0.7969 - val_loss: 0.6579 - val_accuracy: 0.7985\n",
            "Epoch 18/250\n",
            "48/48 [==============================] - 14s 292ms/step - loss: 0.4761 - accuracy: 0.8401 - val_loss: 0.6380 - val_accuracy: 0.8058\n",
            "Epoch 19/250\n",
            "48/48 [==============================] - 14s 293ms/step - loss: 0.3914 - accuracy: 0.8643 - val_loss: 0.6634 - val_accuracy: 0.8167\n",
            "Epoch 20/250\n",
            "48/48 [==============================] - 14s 293ms/step - loss: 0.3790 - accuracy: 0.8702 - val_loss: 0.5999 - val_accuracy: 0.8149\n",
            "Epoch 21/250\n",
            "48/48 [==============================] - 14s 293ms/step - loss: 0.3678 - accuracy: 0.8744 - val_loss: 0.6169 - val_accuracy: 0.8240\n",
            "Epoch 22/250\n",
            "48/48 [==============================] - 14s 293ms/step - loss: 0.3484 - accuracy: 0.8765 - val_loss: 0.6050 - val_accuracy: 0.8240\n",
            "Epoch 23/250\n",
            "48/48 [==============================] - 14s 293ms/step - loss: 0.2895 - accuracy: 0.9033 - val_loss: 0.6020 - val_accuracy: 0.8312\n",
            "Epoch 24/250\n",
            "48/48 [==============================] - 14s 293ms/step - loss: 0.2677 - accuracy: 0.9052 - val_loss: 0.6185 - val_accuracy: 0.8312\n",
            "Epoch 25/250\n",
            "48/48 [==============================] - 14s 293ms/step - loss: 0.2497 - accuracy: 0.9150 - val_loss: 0.5042 - val_accuracy: 0.8621\n",
            "Epoch 26/250\n",
            "48/48 [==============================] - 14s 293ms/step - loss: 0.2111 - accuracy: 0.9267 - val_loss: 0.5206 - val_accuracy: 0.8584\n",
            "Epoch 27/250\n",
            "48/48 [==============================] - 14s 292ms/step - loss: 0.1764 - accuracy: 0.9376 - val_loss: 0.5548 - val_accuracy: 0.8566\n",
            "Epoch 28/250\n",
            "48/48 [==============================] - 14s 292ms/step - loss: 0.2011 - accuracy: 0.9348 - val_loss: 0.5504 - val_accuracy: 0.8457\n",
            "Epoch 29/250\n",
            "48/48 [==============================] - 14s 292ms/step - loss: 0.1847 - accuracy: 0.9364 - val_loss: 0.5919 - val_accuracy: 0.8421\n",
            "Epoch 30/250\n",
            "48/48 [==============================] - 14s 292ms/step - loss: 0.1755 - accuracy: 0.9384 - val_loss: 0.5816 - val_accuracy: 0.8294\n",
            "Epoch 31/250\n",
            "48/48 [==============================] - 14s 292ms/step - loss: 0.1740 - accuracy: 0.9418 - val_loss: 0.6853 - val_accuracy: 0.8385\n",
            "Epoch 32/250\n",
            "48/48 [==============================] - 14s 292ms/step - loss: 0.1571 - accuracy: 0.9406 - val_loss: 0.5877 - val_accuracy: 0.8457\n",
            "Epoch 33/250\n",
            "48/48 [==============================] - 14s 292ms/step - loss: 0.1668 - accuracy: 0.9448 - val_loss: 0.5929 - val_accuracy: 0.8421\n",
            "Epoch 34/250\n",
            "48/48 [==============================] - 14s 292ms/step - loss: 0.1578 - accuracy: 0.9484 - val_loss: 0.6434 - val_accuracy: 0.8457\n",
            "Epoch 35/250\n",
            "48/48 [==============================] - 14s 292ms/step - loss: 0.1500 - accuracy: 0.9534 - val_loss: 0.5338 - val_accuracy: 0.8584\n",
            "Epoch 36/250\n",
            "48/48 [==============================] - 14s 293ms/step - loss: 0.1137 - accuracy: 0.9594 - val_loss: 0.5269 - val_accuracy: 0.8857\n",
            "Epoch 37/250\n",
            "48/48 [==============================] - 14s 292ms/step - loss: 0.0970 - accuracy: 0.9639 - val_loss: 0.5651 - val_accuracy: 0.8766\n",
            "Epoch 38/250\n",
            "48/48 [==============================] - 14s 292ms/step - loss: 0.0704 - accuracy: 0.9765 - val_loss: 0.5585 - val_accuracy: 0.8748\n",
            "Epoch 39/250\n",
            "48/48 [==============================] - 14s 292ms/step - loss: 0.0627 - accuracy: 0.9784 - val_loss: 0.6492 - val_accuracy: 0.8693\n",
            "Epoch 40/250\n",
            "48/48 [==============================] - 14s 293ms/step - loss: 0.0646 - accuracy: 0.9791 - val_loss: 0.5857 - val_accuracy: 0.8657\n",
            "Epoch 41/250\n",
            "48/48 [==============================] - 14s 292ms/step - loss: 0.0727 - accuracy: 0.9745 - val_loss: 0.6006 - val_accuracy: 0.8548\n",
            "Epoch 42/250\n",
            "48/48 [==============================] - 14s 292ms/step - loss: 0.0877 - accuracy: 0.9752 - val_loss: 0.6966 - val_accuracy: 0.8621\n",
            "Epoch 43/250\n",
            "48/48 [==============================] - 14s 292ms/step - loss: 0.0622 - accuracy: 0.9777 - val_loss: 0.5417 - val_accuracy: 0.8875\n",
            "Epoch 44/250\n",
            "48/48 [==============================] - 14s 292ms/step - loss: 0.0688 - accuracy: 0.9758 - val_loss: 0.4837 - val_accuracy: 0.8784\n",
            "Epoch 45/250\n",
            "48/48 [==============================] - 14s 292ms/step - loss: 0.0519 - accuracy: 0.9820 - val_loss: 0.6768 - val_accuracy: 0.8548\n",
            "Epoch 46/250\n",
            "48/48 [==============================] - 14s 292ms/step - loss: 0.0504 - accuracy: 0.9838 - val_loss: 0.6691 - val_accuracy: 0.8730\n",
            "Epoch 47/250\n",
            "48/48 [==============================] - 14s 292ms/step - loss: 0.0498 - accuracy: 0.9827 - val_loss: 0.6711 - val_accuracy: 0.8675\n",
            "Epoch 48/250\n",
            "48/48 [==============================] - 14s 291ms/step - loss: 0.0404 - accuracy: 0.9852 - val_loss: 0.7768 - val_accuracy: 0.8566\n",
            "Epoch 49/250\n",
            "48/48 [==============================] - 14s 291ms/step - loss: 0.0294 - accuracy: 0.9881 - val_loss: 0.7898 - val_accuracy: 0.8730\n",
            "Epoch 50/250\n",
            "48/48 [==============================] - 14s 291ms/step - loss: 0.0362 - accuracy: 0.9876 - val_loss: 0.7543 - val_accuracy: 0.8621\n",
            "Epoch 51/250\n",
            "48/48 [==============================] - 14s 291ms/step - loss: 0.0486 - accuracy: 0.9842 - val_loss: 0.7217 - val_accuracy: 0.8457\n",
            "Epoch 52/250\n",
            "48/48 [==============================] - 14s 292ms/step - loss: 0.0563 - accuracy: 0.9807 - val_loss: 0.6907 - val_accuracy: 0.8621\n",
            "Epoch 53/250\n",
            "48/48 [==============================] - 14s 291ms/step - loss: 0.0612 - accuracy: 0.9806 - val_loss: 0.6670 - val_accuracy: 0.8766\n",
            "Epoch 54/250\n",
            "48/48 [==============================] - 14s 291ms/step - loss: 0.0409 - accuracy: 0.9854 - val_loss: 0.8197 - val_accuracy: 0.8603\n",
            "Epoch 55/250\n",
            "48/48 [==============================] - 14s 291ms/step - loss: 0.0560 - accuracy: 0.9783 - val_loss: 0.8620 - val_accuracy: 0.8566\n",
            "Epoch 56/250\n",
            "48/48 [==============================] - 14s 291ms/step - loss: 0.0401 - accuracy: 0.9861 - val_loss: 0.6919 - val_accuracy: 0.8711\n",
            "Epoch 57/250\n",
            "48/48 [==============================] - 14s 291ms/step - loss: 0.0319 - accuracy: 0.9904 - val_loss: 0.6703 - val_accuracy: 0.8693\n",
            "Epoch 58/250\n",
            "48/48 [==============================] - 14s 292ms/step - loss: 0.0309 - accuracy: 0.9883 - val_loss: 0.6151 - val_accuracy: 0.8875\n",
            "Epoch 59/250\n",
            "48/48 [==============================] - 14s 292ms/step - loss: 0.0328 - accuracy: 0.9885 - val_loss: 0.7483 - val_accuracy: 0.8748\n",
            "Epoch 60/250\n",
            "48/48 [==============================] - 14s 292ms/step - loss: 0.0496 - accuracy: 0.9855 - val_loss: 0.6495 - val_accuracy: 0.8639\n",
            "Epoch 61/250\n",
            "48/48 [==============================] - 14s 291ms/step - loss: 0.0242 - accuracy: 0.9927 - val_loss: 0.6892 - val_accuracy: 0.8820\n",
            "Epoch 62/250\n",
            "48/48 [==============================] - 14s 292ms/step - loss: 0.0309 - accuracy: 0.9894 - val_loss: 0.7705 - val_accuracy: 0.8802\n",
            "Epoch 63/250\n",
            "48/48 [==============================] - 14s 292ms/step - loss: 0.0400 - accuracy: 0.9859 - val_loss: 0.5220 - val_accuracy: 0.8802\n",
            "Epoch 64/250\n",
            "48/48 [==============================] - 14s 291ms/step - loss: 0.0339 - accuracy: 0.9894 - val_loss: 0.8288 - val_accuracy: 0.8548\n",
            "Epoch 65/250\n",
            "48/48 [==============================] - 14s 291ms/step - loss: 0.0491 - accuracy: 0.9835 - val_loss: 0.6435 - val_accuracy: 0.8711\n",
            "Epoch 66/250\n",
            "48/48 [==============================] - 14s 292ms/step - loss: 0.0340 - accuracy: 0.9902 - val_loss: 0.6697 - val_accuracy: 0.8603\n",
            "Epoch 67/250\n",
            "48/48 [==============================] - 14s 292ms/step - loss: 0.0501 - accuracy: 0.9834 - val_loss: 0.6299 - val_accuracy: 0.8748\n",
            "Epoch 68/250\n",
            "48/48 [==============================] - 14s 292ms/step - loss: 0.0505 - accuracy: 0.9812 - val_loss: 0.5956 - val_accuracy: 0.8911\n",
            "Epoch 69/250\n",
            "48/48 [==============================] - 14s 292ms/step - loss: 0.0407 - accuracy: 0.9873 - val_loss: 0.7114 - val_accuracy: 0.8657\n",
            "Epoch 70/250\n",
            "48/48 [==============================] - 14s 292ms/step - loss: 0.0567 - accuracy: 0.9809 - val_loss: 0.5472 - val_accuracy: 0.8784\n",
            "Epoch 71/250\n",
            "48/48 [==============================] - 14s 292ms/step - loss: 0.0698 - accuracy: 0.9815 - val_loss: 0.5847 - val_accuracy: 0.8621\n",
            "Epoch 72/250\n",
            "48/48 [==============================] - 14s 292ms/step - loss: 0.0579 - accuracy: 0.9818 - val_loss: 0.4419 - val_accuracy: 0.8875\n",
            "Epoch 73/250\n",
            "48/48 [==============================] - 14s 290ms/step - loss: 0.0369 - accuracy: 0.9897 - val_loss: 0.6415 - val_accuracy: 0.8766\n",
            "Epoch 74/250\n",
            "48/48 [==============================] - 14s 291ms/step - loss: 0.0290 - accuracy: 0.9900 - val_loss: 0.8432 - val_accuracy: 0.8675\n",
            "Epoch 75/250\n",
            "48/48 [==============================] - 14s 291ms/step - loss: 0.0267 - accuracy: 0.9929 - val_loss: 0.7523 - val_accuracy: 0.8838\n",
            "Epoch 76/250\n",
            "48/48 [==============================] - 14s 292ms/step - loss: 0.0228 - accuracy: 0.9924 - val_loss: 0.7878 - val_accuracy: 0.8875\n",
            "Epoch 77/250\n",
            "48/48 [==============================] - 14s 292ms/step - loss: 0.0288 - accuracy: 0.9911 - val_loss: 0.8259 - val_accuracy: 0.8603\n",
            "Epoch 78/250\n",
            "48/48 [==============================] - 14s 291ms/step - loss: 0.0491 - accuracy: 0.9848 - val_loss: 0.6522 - val_accuracy: 0.8784\n",
            "Epoch 79/250\n",
            "48/48 [==============================] - 14s 291ms/step - loss: 0.0408 - accuracy: 0.9850 - val_loss: 0.6999 - val_accuracy: 0.8711\n",
            "Epoch 80/250\n",
            "48/48 [==============================] - 14s 290ms/step - loss: 0.0340 - accuracy: 0.9885 - val_loss: 0.6562 - val_accuracy: 0.8766\n",
            "Epoch 81/250\n",
            "48/48 [==============================] - 14s 291ms/step - loss: 0.0221 - accuracy: 0.9934 - val_loss: 0.7434 - val_accuracy: 0.8802\n",
            "Epoch 82/250\n",
            "48/48 [==============================] - 14s 291ms/step - loss: 0.0316 - accuracy: 0.9890 - val_loss: 0.6994 - val_accuracy: 0.8748\n",
            "Epoch 83/250\n",
            "48/48 [==============================] - 14s 291ms/step - loss: 0.0166 - accuracy: 0.9947 - val_loss: 0.6491 - val_accuracy: 0.8838\n",
            "Epoch 84/250\n",
            "48/48 [==============================] - 14s 292ms/step - loss: 0.0158 - accuracy: 0.9943 - val_loss: 0.6395 - val_accuracy: 0.8875\n",
            "Epoch 85/250\n",
            "48/48 [==============================] - 14s 291ms/step - loss: 0.0148 - accuracy: 0.9936 - val_loss: 0.6696 - val_accuracy: 0.8838\n",
            "Epoch 86/250\n",
            "48/48 [==============================] - 14s 291ms/step - loss: 0.0142 - accuracy: 0.9934 - val_loss: 0.8118 - val_accuracy: 0.8875\n",
            "Epoch 87/250\n",
            "48/48 [==============================] - 14s 291ms/step - loss: 0.0116 - accuracy: 0.9953 - val_loss: 0.8419 - val_accuracy: 0.8838\n",
            "Epoch 88/250\n",
            "48/48 [==============================] - 14s 291ms/step - loss: 0.0145 - accuracy: 0.9942 - val_loss: 0.9084 - val_accuracy: 0.8893\n",
            "Epoch 89/250\n",
            "48/48 [==============================] - 14s 292ms/step - loss: 0.0194 - accuracy: 0.9938 - val_loss: 0.9371 - val_accuracy: 0.8838\n",
            "Epoch 90/250\n",
            "48/48 [==============================] - 14s 291ms/step - loss: 0.0190 - accuracy: 0.9929 - val_loss: 0.8239 - val_accuracy: 0.8838\n",
            "Epoch 91/250\n",
            "48/48 [==============================] - 14s 291ms/step - loss: 0.0094 - accuracy: 0.9966 - val_loss: 0.8900 - val_accuracy: 0.8857\n",
            "Epoch 92/250\n",
            "48/48 [==============================] - 14s 291ms/step - loss: 0.0210 - accuracy: 0.9927 - val_loss: 0.8959 - val_accuracy: 0.8730\n",
            "Epoch 93/250\n",
            "48/48 [==============================] - 14s 292ms/step - loss: 0.0143 - accuracy: 0.9952 - val_loss: 0.8577 - val_accuracy: 0.8675\n",
            "Epoch 94/250\n",
            "48/48 [==============================] - 14s 291ms/step - loss: 0.0247 - accuracy: 0.9934 - val_loss: 0.6895 - val_accuracy: 0.8802\n",
            "Epoch 95/250\n",
            "48/48 [==============================] - 14s 291ms/step - loss: 0.0231 - accuracy: 0.9916 - val_loss: 0.6793 - val_accuracy: 0.8730\n",
            "Epoch 96/250\n",
            "48/48 [==============================] - 14s 292ms/step - loss: 0.0145 - accuracy: 0.9942 - val_loss: 0.8445 - val_accuracy: 0.8802\n",
            "Epoch 97/250\n",
            "48/48 [==============================] - 14s 291ms/step - loss: 0.0121 - accuracy: 0.9959 - val_loss: 0.8161 - val_accuracy: 0.8875\n",
            "Epoch 98/250\n",
            "48/48 [==============================] - 14s 291ms/step - loss: 0.0103 - accuracy: 0.9972 - val_loss: 0.8155 - val_accuracy: 0.8820\n",
            "Epoch 99/250\n",
            "48/48 [==============================] - 14s 291ms/step - loss: 0.0302 - accuracy: 0.9906 - val_loss: 0.6321 - val_accuracy: 0.8929\n",
            "Epoch 100/250\n",
            "48/48 [==============================] - 14s 291ms/step - loss: 0.0167 - accuracy: 0.9952 - val_loss: 0.6136 - val_accuracy: 0.8838\n",
            "Epoch 101/250\n",
            "48/48 [==============================] - 14s 292ms/step - loss: 0.0228 - accuracy: 0.9923 - val_loss: 0.6358 - val_accuracy: 0.8766\n",
            "Epoch 102/250\n",
            "48/48 [==============================] - 14s 291ms/step - loss: 0.0143 - accuracy: 0.9933 - val_loss: 0.7461 - val_accuracy: 0.8784\n",
            "Epoch 103/250\n",
            "48/48 [==============================] - 14s 291ms/step - loss: 0.0093 - accuracy: 0.9969 - val_loss: 0.7531 - val_accuracy: 0.8875\n",
            "Epoch 104/250\n",
            "48/48 [==============================] - 14s 291ms/step - loss: 0.0104 - accuracy: 0.9963 - val_loss: 0.7648 - val_accuracy: 0.8784\n",
            "Epoch 105/250\n",
            "48/48 [==============================] - 14s 292ms/step - loss: 0.0198 - accuracy: 0.9933 - val_loss: 0.7735 - val_accuracy: 0.8893\n",
            "Epoch 106/250\n",
            "48/48 [==============================] - 14s 291ms/step - loss: 0.0363 - accuracy: 0.9883 - val_loss: 0.7196 - val_accuracy: 0.8748\n",
            "Epoch 107/250\n",
            "48/48 [==============================] - 14s 291ms/step - loss: 0.0250 - accuracy: 0.9908 - val_loss: 0.7567 - val_accuracy: 0.8657\n",
            "Epoch 108/250\n",
            "48/48 [==============================] - 14s 290ms/step - loss: 0.0245 - accuracy: 0.9930 - val_loss: 0.7176 - val_accuracy: 0.8875\n",
            "Epoch 109/250\n",
            "48/48 [==============================] - 14s 291ms/step - loss: 0.0272 - accuracy: 0.9910 - val_loss: 0.7041 - val_accuracy: 0.8838\n",
            "Epoch 110/250\n",
            "48/48 [==============================] - 14s 292ms/step - loss: 0.0149 - accuracy: 0.9940 - val_loss: 0.7357 - val_accuracy: 0.8784\n",
            "Epoch 111/250\n",
            "48/48 [==============================] - 14s 291ms/step - loss: 0.0183 - accuracy: 0.9950 - val_loss: 1.0022 - val_accuracy: 0.8820\n",
            "Epoch 112/250\n",
            "48/48 [==============================] - 14s 291ms/step - loss: 0.0166 - accuracy: 0.9947 - val_loss: 0.8970 - val_accuracy: 0.8820\n",
            "Epoch 113/250\n",
            "48/48 [==============================] - 14s 291ms/step - loss: 0.0163 - accuracy: 0.9944 - val_loss: 0.8865 - val_accuracy: 0.8621\n",
            "Epoch 114/250\n",
            "48/48 [==============================] - 14s 291ms/step - loss: 0.0306 - accuracy: 0.9923 - val_loss: 0.7426 - val_accuracy: 0.8784\n",
            "Epoch 115/250\n",
            "48/48 [==============================] - 14s 291ms/step - loss: 0.0455 - accuracy: 0.9872 - val_loss: 0.5446 - val_accuracy: 0.8730\n",
            "Epoch 116/250\n",
            "48/48 [==============================] - 14s 291ms/step - loss: 0.0445 - accuracy: 0.9864 - val_loss: 0.5182 - val_accuracy: 0.8875\n",
            "Epoch 117/250\n",
            "48/48 [==============================] - 14s 290ms/step - loss: 0.0294 - accuracy: 0.9906 - val_loss: 0.6317 - val_accuracy: 0.8893\n",
            "Epoch 118/250\n",
            "48/48 [==============================] - 14s 291ms/step - loss: 0.0220 - accuracy: 0.9927 - val_loss: 0.7152 - val_accuracy: 0.8784\n",
            "Epoch 119/250\n",
            "48/48 [==============================] - 14s 291ms/step - loss: 0.0191 - accuracy: 0.9930 - val_loss: 0.7044 - val_accuracy: 0.8947\n",
            "Epoch 120/250\n",
            "48/48 [==============================] - 14s 290ms/step - loss: 0.0188 - accuracy: 0.9944 - val_loss: 0.8076 - val_accuracy: 0.8893\n",
            "Epoch 121/250\n",
            "48/48 [==============================] - 14s 291ms/step - loss: 0.0128 - accuracy: 0.9961 - val_loss: 0.8612 - val_accuracy: 0.8838\n",
            "Epoch 122/250\n",
            "48/48 [==============================] - 14s 291ms/step - loss: 0.0152 - accuracy: 0.9928 - val_loss: 0.7326 - val_accuracy: 0.8911\n",
            "Epoch 123/250\n",
            "48/48 [==============================] - 14s 291ms/step - loss: 0.0149 - accuracy: 0.9956 - val_loss: 0.7387 - val_accuracy: 0.9020\n",
            "Epoch 124/250\n",
            "48/48 [==============================] - 14s 291ms/step - loss: 0.0113 - accuracy: 0.9970 - val_loss: 0.6567 - val_accuracy: 0.9074\n",
            "Epoch 125/250\n",
            "48/48 [==============================] - 14s 290ms/step - loss: 0.0064 - accuracy: 0.9978 - val_loss: 0.6938 - val_accuracy: 0.8966\n",
            "Epoch 126/250\n",
            "48/48 [==============================] - 14s 290ms/step - loss: 0.0049 - accuracy: 0.9983 - val_loss: 0.7104 - val_accuracy: 0.8929\n",
            "Epoch 127/250\n",
            "48/48 [==============================] - 14s 291ms/step - loss: 0.0036 - accuracy: 0.9987 - val_loss: 0.8441 - val_accuracy: 0.8911\n",
            "Epoch 128/250\n",
            "48/48 [==============================] - 14s 290ms/step - loss: 0.0095 - accuracy: 0.9960 - val_loss: 0.8239 - val_accuracy: 0.8929\n",
            "Epoch 129/250\n",
            "48/48 [==============================] - 14s 290ms/step - loss: 0.0044 - accuracy: 0.9981 - val_loss: 0.8980 - val_accuracy: 0.8893\n",
            "Epoch 130/250\n",
            "48/48 [==============================] - 14s 291ms/step - loss: 0.0067 - accuracy: 0.9976 - val_loss: 0.9293 - val_accuracy: 0.8820\n",
            "Epoch 131/250\n",
            "48/48 [==============================] - 14s 291ms/step - loss: 0.0195 - accuracy: 0.9944 - val_loss: 0.8502 - val_accuracy: 0.8838\n",
            "Epoch 132/250\n",
            "48/48 [==============================] - 14s 290ms/step - loss: 0.0265 - accuracy: 0.9920 - val_loss: 0.6371 - val_accuracy: 0.8875\n",
            "Epoch 133/250\n",
            "48/48 [==============================] - 14s 291ms/step - loss: 0.0161 - accuracy: 0.9943 - val_loss: 0.7243 - val_accuracy: 0.8730\n",
            "Epoch 134/250\n",
            "48/48 [==============================] - 14s 290ms/step - loss: 0.0234 - accuracy: 0.9942 - val_loss: 0.7229 - val_accuracy: 0.8711\n",
            "Epoch 135/250\n",
            "48/48 [==============================] - 14s 291ms/step - loss: 0.0271 - accuracy: 0.9904 - val_loss: 0.5832 - val_accuracy: 0.8966\n",
            "Epoch 136/250\n",
            "48/48 [==============================] - 14s 291ms/step - loss: 0.0157 - accuracy: 0.9943 - val_loss: 0.6162 - val_accuracy: 0.9002\n",
            "Epoch 137/250\n",
            "48/48 [==============================] - 14s 290ms/step - loss: 0.0128 - accuracy: 0.9958 - val_loss: 0.7531 - val_accuracy: 0.8820\n",
            "Epoch 138/250\n",
            "48/48 [==============================] - 14s 290ms/step - loss: 0.0175 - accuracy: 0.9947 - val_loss: 0.7883 - val_accuracy: 0.8857\n",
            "Epoch 139/250\n",
            "48/48 [==============================] - 14s 290ms/step - loss: 0.0314 - accuracy: 0.9936 - val_loss: 0.6534 - val_accuracy: 0.8875\n",
            "Epoch 140/250\n",
            "48/48 [==============================] - 14s 290ms/step - loss: 0.0182 - accuracy: 0.9943 - val_loss: 0.7693 - val_accuracy: 0.8784\n",
            "Epoch 141/250\n",
            "48/48 [==============================] - 14s 290ms/step - loss: 0.0247 - accuracy: 0.9906 - val_loss: 0.5413 - val_accuracy: 0.8875\n",
            "Epoch 142/250\n",
            "48/48 [==============================] - 14s 290ms/step - loss: 0.0265 - accuracy: 0.9921 - val_loss: 0.5965 - val_accuracy: 0.8766\n",
            "Epoch 143/250\n",
            "48/48 [==============================] - 14s 290ms/step - loss: 0.0286 - accuracy: 0.9895 - val_loss: 0.5351 - val_accuracy: 0.9020\n",
            "Epoch 144/250\n",
            "48/48 [==============================] - 14s 290ms/step - loss: 0.0209 - accuracy: 0.9918 - val_loss: 0.6264 - val_accuracy: 0.8748\n",
            "Epoch 145/250\n",
            "48/48 [==============================] - 14s 291ms/step - loss: 0.0257 - accuracy: 0.9920 - val_loss: 0.6347 - val_accuracy: 0.8820\n",
            "Epoch 146/250\n",
            "48/48 [==============================] - 14s 290ms/step - loss: 0.0312 - accuracy: 0.9897 - val_loss: 0.6440 - val_accuracy: 0.8875\n",
            "Epoch 147/250\n",
            "48/48 [==============================] - 14s 290ms/step - loss: 0.0278 - accuracy: 0.9928 - val_loss: 0.5257 - val_accuracy: 0.8893\n",
            "Epoch 148/250\n",
            "48/48 [==============================] - 14s 290ms/step - loss: 0.0122 - accuracy: 0.9954 - val_loss: 0.6607 - val_accuracy: 0.8838\n",
            "Epoch 149/250\n",
            "48/48 [==============================] - 14s 290ms/step - loss: 0.0090 - accuracy: 0.9969 - val_loss: 0.6916 - val_accuracy: 0.8838\n",
            "Epoch 150/250\n",
            "48/48 [==============================] - 14s 290ms/step - loss: 0.0065 - accuracy: 0.9985 - val_loss: 0.8987 - val_accuracy: 0.8984\n",
            "Epoch 151/250\n",
            "48/48 [==============================] - 14s 290ms/step - loss: 0.0103 - accuracy: 0.9970 - val_loss: 0.9570 - val_accuracy: 0.8857\n",
            "Epoch 152/250\n",
            "48/48 [==============================] - 14s 290ms/step - loss: 0.0174 - accuracy: 0.9938 - val_loss: 0.8342 - val_accuracy: 0.8857\n",
            "Epoch 153/250\n",
            "48/48 [==============================] - 14s 290ms/step - loss: 0.0281 - accuracy: 0.9909 - val_loss: 0.7662 - val_accuracy: 0.8838\n",
            "Epoch 154/250\n",
            "48/48 [==============================] - 14s 290ms/step - loss: 0.0147 - accuracy: 0.9954 - val_loss: 0.6541 - val_accuracy: 0.8984\n",
            "Epoch 155/250\n",
            "48/48 [==============================] - 14s 290ms/step - loss: 0.0129 - accuracy: 0.9964 - val_loss: 0.5922 - val_accuracy: 0.9002\n",
            "Epoch 156/250\n",
            "48/48 [==============================] - 14s 290ms/step - loss: 0.0185 - accuracy: 0.9935 - val_loss: 0.5993 - val_accuracy: 0.9038\n",
            "Epoch 157/250\n",
            "48/48 [==============================] - 14s 290ms/step - loss: 0.0086 - accuracy: 0.9967 - val_loss: 0.8006 - val_accuracy: 0.8893\n",
            "Epoch 158/250\n",
            "48/48 [==============================] - 14s 291ms/step - loss: 0.0242 - accuracy: 0.9935 - val_loss: 0.6261 - val_accuracy: 0.9002\n",
            "Epoch 159/250\n",
            "48/48 [==============================] - 14s 292ms/step - loss: 0.0510 - accuracy: 0.9869 - val_loss: 0.4573 - val_accuracy: 0.8875\n",
            "Epoch 160/250\n",
            "48/48 [==============================] - 14s 291ms/step - loss: 0.0265 - accuracy: 0.9922 - val_loss: 0.6362 - val_accuracy: 0.8875\n",
            "Epoch 161/250\n",
            "48/48 [==============================] - 14s 290ms/step - loss: 0.0146 - accuracy: 0.9960 - val_loss: 0.6149 - val_accuracy: 0.8929\n",
            "Epoch 162/250\n",
            "48/48 [==============================] - 14s 290ms/step - loss: 0.0082 - accuracy: 0.9973 - val_loss: 0.5517 - val_accuracy: 0.9147\n",
            "Epoch 163/250\n",
            "48/48 [==============================] - 14s 290ms/step - loss: 0.0027 - accuracy: 0.9991 - val_loss: 0.6554 - val_accuracy: 0.9074\n",
            "Epoch 164/250\n",
            "48/48 [==============================] - 14s 290ms/step - loss: 0.0065 - accuracy: 0.9982 - val_loss: 0.6540 - val_accuracy: 0.8984\n",
            "Epoch 165/250\n",
            "48/48 [==============================] - 14s 290ms/step - loss: 0.0088 - accuracy: 0.9965 - val_loss: 0.5928 - val_accuracy: 0.9020\n",
            "Epoch 166/250\n",
            "48/48 [==============================] - 14s 290ms/step - loss: 0.0041 - accuracy: 0.9984 - val_loss: 0.7161 - val_accuracy: 0.8984\n",
            "Epoch 167/250\n",
            "48/48 [==============================] - 14s 290ms/step - loss: 0.0085 - accuracy: 0.9970 - val_loss: 0.5582 - val_accuracy: 0.9111\n",
            "Epoch 168/250\n",
            "48/48 [==============================] - 14s 290ms/step - loss: 0.0057 - accuracy: 0.9975 - val_loss: 0.7456 - val_accuracy: 0.8966\n",
            "Epoch 169/250\n",
            "48/48 [==============================] - 14s 291ms/step - loss: 0.0036 - accuracy: 0.9988 - val_loss: 0.7446 - val_accuracy: 0.9074\n",
            "Epoch 170/250\n",
            "48/48 [==============================] - 14s 290ms/step - loss: 0.0040 - accuracy: 0.9989 - val_loss: 0.7842 - val_accuracy: 0.9056\n",
            "Epoch 171/250\n",
            "48/48 [==============================] - 14s 290ms/step - loss: 0.0162 - accuracy: 0.9955 - val_loss: 0.7984 - val_accuracy: 0.8838\n",
            "Epoch 172/250\n",
            "48/48 [==============================] - 14s 290ms/step - loss: 0.0104 - accuracy: 0.9970 - val_loss: 0.6378 - val_accuracy: 0.8947\n",
            "Epoch 173/250\n",
            "48/48 [==============================] - 14s 290ms/step - loss: 0.0064 - accuracy: 0.9981 - val_loss: 0.7070 - val_accuracy: 0.8984\n",
            "Epoch 174/250\n",
            "48/48 [==============================] - 14s 290ms/step - loss: 0.0108 - accuracy: 0.9951 - val_loss: 0.7073 - val_accuracy: 0.8838\n",
            "Epoch 175/250\n",
            "48/48 [==============================] - 14s 291ms/step - loss: 0.0051 - accuracy: 0.9983 - val_loss: 0.7006 - val_accuracy: 0.8984\n",
            "Epoch 176/250\n",
            "48/48 [==============================] - 14s 290ms/step - loss: 0.0058 - accuracy: 0.9975 - val_loss: 0.7368 - val_accuracy: 0.8820\n",
            "Epoch 177/250\n",
            "48/48 [==============================] - 14s 290ms/step - loss: 0.0039 - accuracy: 0.9986 - val_loss: 0.7084 - val_accuracy: 0.9020\n",
            "Epoch 178/250\n",
            "48/48 [==============================] - 14s 290ms/step - loss: 0.0069 - accuracy: 0.9978 - val_loss: 0.7408 - val_accuracy: 0.9038\n",
            "Epoch 179/250\n",
            "48/48 [==============================] - 14s 290ms/step - loss: 0.0078 - accuracy: 0.9978 - val_loss: 0.7057 - val_accuracy: 0.8984\n",
            "Epoch 180/250\n",
            "48/48 [==============================] - 14s 290ms/step - loss: 0.0117 - accuracy: 0.9965 - val_loss: 0.5999 - val_accuracy: 0.9038\n",
            "Epoch 181/250\n",
            "48/48 [==============================] - 14s 290ms/step - loss: 0.0149 - accuracy: 0.9952 - val_loss: 0.5007 - val_accuracy: 0.9038\n",
            "Epoch 182/250\n",
            "48/48 [==============================] - 14s 291ms/step - loss: 0.0221 - accuracy: 0.9941 - val_loss: 0.4993 - val_accuracy: 0.9038\n",
            "Epoch 183/250\n",
            "48/48 [==============================] - 14s 291ms/step - loss: 0.0097 - accuracy: 0.9978 - val_loss: 0.4747 - val_accuracy: 0.8966\n",
            "Epoch 184/250\n",
            "48/48 [==============================] - 14s 291ms/step - loss: 0.0171 - accuracy: 0.9945 - val_loss: 0.5582 - val_accuracy: 0.8984\n",
            "Epoch 185/250\n",
            "48/48 [==============================] - 14s 291ms/step - loss: 0.0111 - accuracy: 0.9970 - val_loss: 0.7442 - val_accuracy: 0.8929\n",
            "Epoch 186/250\n",
            "48/48 [==============================] - 14s 290ms/step - loss: 0.0104 - accuracy: 0.9953 - val_loss: 0.7439 - val_accuracy: 0.8947\n",
            "Epoch 187/250\n",
            "48/48 [==============================] - 14s 290ms/step - loss: 0.0113 - accuracy: 0.9966 - val_loss: 0.7401 - val_accuracy: 0.8929\n",
            "Epoch 188/250\n",
            "48/48 [==============================] - 14s 290ms/step - loss: 0.0082 - accuracy: 0.9968 - val_loss: 0.6186 - val_accuracy: 0.9020\n",
            "Epoch 189/250\n",
            "48/48 [==============================] - 14s 291ms/step - loss: 0.0129 - accuracy: 0.9949 - val_loss: 0.9069 - val_accuracy: 0.8711\n",
            "Epoch 190/250\n",
            "48/48 [==============================] - 14s 291ms/step - loss: 0.0186 - accuracy: 0.9943 - val_loss: 0.6650 - val_accuracy: 0.8857\n",
            "Epoch 191/250\n",
            "48/48 [==============================] - 14s 290ms/step - loss: 0.0193 - accuracy: 0.9935 - val_loss: 0.6594 - val_accuracy: 0.8875\n",
            "Epoch 192/250\n",
            "48/48 [==============================] - 14s 290ms/step - loss: 0.0140 - accuracy: 0.9950 - val_loss: 0.7016 - val_accuracy: 0.8802\n",
            "Epoch 193/250\n",
            "48/48 [==============================] - 14s 290ms/step - loss: 0.0118 - accuracy: 0.9965 - val_loss: 0.5115 - val_accuracy: 0.9093\n",
            "Epoch 194/250\n",
            "48/48 [==============================] - 14s 291ms/step - loss: 0.0078 - accuracy: 0.9975 - val_loss: 0.4254 - val_accuracy: 0.9111\n",
            "Epoch 195/250\n",
            "48/48 [==============================] - 14s 290ms/step - loss: 0.0048 - accuracy: 0.9979 - val_loss: 0.4836 - val_accuracy: 0.9147\n",
            "Epoch 196/250\n",
            "48/48 [==============================] - 14s 290ms/step - loss: 0.0110 - accuracy: 0.9974 - val_loss: 0.5154 - val_accuracy: 0.9002\n",
            "Epoch 197/250\n",
            "48/48 [==============================] - 14s 290ms/step - loss: 0.0054 - accuracy: 0.9976 - val_loss: 0.6173 - val_accuracy: 0.8984\n",
            "Epoch 198/250\n",
            "48/48 [==============================] - 14s 290ms/step - loss: 0.0128 - accuracy: 0.9961 - val_loss: 0.5565 - val_accuracy: 0.9074\n",
            "Epoch 199/250\n",
            "48/48 [==============================] - 14s 291ms/step - loss: 0.0122 - accuracy: 0.9959 - val_loss: 0.6276 - val_accuracy: 0.9002\n",
            "Epoch 200/250\n",
            "48/48 [==============================] - 14s 290ms/step - loss: 0.0102 - accuracy: 0.9973 - val_loss: 0.6013 - val_accuracy: 0.9056\n",
            "Epoch 201/250\n",
            "48/48 [==============================] - 14s 290ms/step - loss: 0.0053 - accuracy: 0.9981 - val_loss: 0.6123 - val_accuracy: 0.9074\n",
            "Epoch 202/250\n",
            "48/48 [==============================] - 14s 290ms/step - loss: 0.0040 - accuracy: 0.9982 - val_loss: 0.7862 - val_accuracy: 0.8984\n",
            "Epoch 203/250\n",
            "48/48 [==============================] - 14s 290ms/step - loss: 0.0039 - accuracy: 0.9983 - val_loss: 0.7288 - val_accuracy: 0.9038\n",
            "Epoch 204/250\n",
            "48/48 [==============================] - 14s 290ms/step - loss: 0.0079 - accuracy: 0.9974 - val_loss: 0.9219 - val_accuracy: 0.8984\n",
            "Epoch 205/250\n",
            "48/48 [==============================] - 14s 290ms/step - loss: 0.0226 - accuracy: 0.9948 - val_loss: 0.6981 - val_accuracy: 0.8893\n",
            "Epoch 206/250\n",
            "48/48 [==============================] - 14s 290ms/step - loss: 0.0227 - accuracy: 0.9926 - val_loss: 0.6909 - val_accuracy: 0.8784\n",
            "Epoch 207/250\n",
            "48/48 [==============================] - 14s 290ms/step - loss: 0.0118 - accuracy: 0.9971 - val_loss: 0.5982 - val_accuracy: 0.8966\n",
            "Epoch 208/250\n",
            "48/48 [==============================] - 14s 290ms/step - loss: 0.0157 - accuracy: 0.9937 - val_loss: 0.5128 - val_accuracy: 0.9056\n",
            "Epoch 209/250\n",
            "48/48 [==============================] - 14s 291ms/step - loss: 0.0111 - accuracy: 0.9963 - val_loss: 0.5730 - val_accuracy: 0.9020\n",
            "Epoch 210/250\n",
            "48/48 [==============================] - 14s 290ms/step - loss: 0.0086 - accuracy: 0.9973 - val_loss: 0.5182 - val_accuracy: 0.9147\n",
            "Epoch 211/250\n",
            "48/48 [==============================] - 14s 290ms/step - loss: 0.0064 - accuracy: 0.9973 - val_loss: 0.5878 - val_accuracy: 0.9093\n",
            "Epoch 212/250\n",
            "48/48 [==============================] - 14s 290ms/step - loss: 0.0053 - accuracy: 0.9980 - val_loss: 0.5932 - val_accuracy: 0.9147\n",
            "Epoch 213/250\n",
            "48/48 [==============================] - 14s 291ms/step - loss: 0.0053 - accuracy: 0.9981 - val_loss: 0.5564 - val_accuracy: 0.9074\n",
            "Epoch 214/250\n",
            "48/48 [==============================] - 14s 291ms/step - loss: 0.0039 - accuracy: 0.9990 - val_loss: 0.6431 - val_accuracy: 0.8929\n",
            "Epoch 215/250\n",
            "48/48 [==============================] - 14s 290ms/step - loss: 0.0040 - accuracy: 0.9983 - val_loss: 0.8036 - val_accuracy: 0.8766\n",
            "Epoch 216/250\n",
            "48/48 [==============================] - 14s 290ms/step - loss: 0.0063 - accuracy: 0.9982 - val_loss: 0.8275 - val_accuracy: 0.8802\n",
            "Epoch 217/250\n",
            "48/48 [==============================] - 14s 291ms/step - loss: 0.0040 - accuracy: 0.9979 - val_loss: 0.7076 - val_accuracy: 0.9002\n",
            "Epoch 218/250\n",
            "48/48 [==============================] - 14s 291ms/step - loss: 0.0160 - accuracy: 0.9961 - val_loss: 0.7021 - val_accuracy: 0.8947\n",
            "Epoch 219/250\n",
            "48/48 [==============================] - 14s 290ms/step - loss: 0.0056 - accuracy: 0.9985 - val_loss: 0.5998 - val_accuracy: 0.8984\n",
            "Epoch 220/250\n",
            "48/48 [==============================] - 14s 290ms/step - loss: 0.0047 - accuracy: 0.9985 - val_loss: 0.5546 - val_accuracy: 0.9002\n",
            "Epoch 221/250\n",
            "48/48 [==============================] - 14s 291ms/step - loss: 0.0049 - accuracy: 0.9990 - val_loss: 0.4721 - val_accuracy: 0.9147\n",
            "Epoch 222/250\n",
            "48/48 [==============================] - 14s 290ms/step - loss: 0.0054 - accuracy: 0.9976 - val_loss: 0.5115 - val_accuracy: 0.9074\n",
            "Epoch 223/250\n",
            "48/48 [==============================] - 14s 291ms/step - loss: 0.0024 - accuracy: 0.9993 - val_loss: 0.6297 - val_accuracy: 0.9147\n",
            "Epoch 224/250\n",
            "48/48 [==============================] - 14s 290ms/step - loss: 0.0021 - accuracy: 0.9991 - val_loss: 0.7378 - val_accuracy: 0.9038\n",
            "Epoch 225/250\n",
            "48/48 [==============================] - 14s 290ms/step - loss: 0.0058 - accuracy: 0.9981 - val_loss: 0.7378 - val_accuracy: 0.9002\n",
            "Epoch 226/250\n",
            "48/48 [==============================] - 14s 290ms/step - loss: 0.0204 - accuracy: 0.9962 - val_loss: 0.6969 - val_accuracy: 0.8966\n",
            "Epoch 227/250\n",
            "48/48 [==============================] - 14s 291ms/step - loss: 0.0213 - accuracy: 0.9938 - val_loss: 0.5988 - val_accuracy: 0.8802\n",
            "Epoch 228/250\n",
            "48/48 [==============================] - 14s 291ms/step - loss: 0.0272 - accuracy: 0.9935 - val_loss: 0.4885 - val_accuracy: 0.8966\n",
            "Epoch 229/250\n",
            "48/48 [==============================] - 14s 290ms/step - loss: 0.0197 - accuracy: 0.9930 - val_loss: 0.6844 - val_accuracy: 0.8857\n",
            "Epoch 230/250\n",
            "48/48 [==============================] - 14s 290ms/step - loss: 0.0185 - accuracy: 0.9925 - val_loss: 0.6117 - val_accuracy: 0.8984\n",
            "Epoch 231/250\n",
            "48/48 [==============================] - 14s 290ms/step - loss: 0.0087 - accuracy: 0.9976 - val_loss: 0.7414 - val_accuracy: 0.8947\n",
            "Epoch 232/250\n",
            "48/48 [==============================] - 14s 290ms/step - loss: 0.0211 - accuracy: 0.9955 - val_loss: 0.5783 - val_accuracy: 0.8984\n",
            "Epoch 233/250\n",
            "48/48 [==============================] - 14s 290ms/step - loss: 0.0112 - accuracy: 0.9975 - val_loss: 0.5405 - val_accuracy: 0.8966\n",
            "Epoch 234/250\n",
            "48/48 [==============================] - 14s 290ms/step - loss: 0.0095 - accuracy: 0.9968 - val_loss: 0.7188 - val_accuracy: 0.8893\n",
            "Epoch 235/250\n",
            "48/48 [==============================] - 14s 290ms/step - loss: 0.0108 - accuracy: 0.9978 - val_loss: 0.5984 - val_accuracy: 0.9020\n",
            "Epoch 236/250\n",
            "48/48 [==============================] - 14s 290ms/step - loss: 0.0026 - accuracy: 0.9991 - val_loss: 0.6586 - val_accuracy: 0.9056\n",
            "Epoch 237/250\n",
            "48/48 [==============================] - 14s 291ms/step - loss: 0.0233 - accuracy: 0.9976 - val_loss: 0.8198 - val_accuracy: 0.8802\n",
            "Epoch 238/250\n",
            "48/48 [==============================] - 14s 291ms/step - loss: 0.0233 - accuracy: 0.9959 - val_loss: 0.6228 - val_accuracy: 0.8929\n",
            "Epoch 239/250\n",
            "48/48 [==============================] - 14s 290ms/step - loss: 0.0116 - accuracy: 0.9964 - val_loss: 0.8529 - val_accuracy: 0.8512\n",
            "Epoch 240/250\n",
            "48/48 [==============================] - 14s 290ms/step - loss: 0.0144 - accuracy: 0.9948 - val_loss: 0.6624 - val_accuracy: 0.8893\n",
            "Epoch 241/250\n",
            "48/48 [==============================] - 14s 290ms/step - loss: 0.0221 - accuracy: 0.9942 - val_loss: 0.6678 - val_accuracy: 0.8802\n",
            "Epoch 242/250\n",
            "48/48 [==============================] - 14s 290ms/step - loss: 0.0159 - accuracy: 0.9950 - val_loss: 0.5022 - val_accuracy: 0.9020\n",
            "Epoch 243/250\n",
            "48/48 [==============================] - 14s 291ms/step - loss: 0.0151 - accuracy: 0.9951 - val_loss: 0.5033 - val_accuracy: 0.8947\n",
            "Epoch 244/250\n",
            "48/48 [==============================] - 14s 290ms/step - loss: 0.0129 - accuracy: 0.9962 - val_loss: 0.5743 - val_accuracy: 0.8875\n",
            "Epoch 245/250\n",
            "48/48 [==============================] - 14s 290ms/step - loss: 0.0094 - accuracy: 0.9972 - val_loss: 0.5336 - val_accuracy: 0.9093\n",
            "Epoch 246/250\n",
            "48/48 [==============================] - 14s 290ms/step - loss: 0.0096 - accuracy: 0.9976 - val_loss: 0.5342 - val_accuracy: 0.8984\n",
            "Epoch 247/250\n",
            "48/48 [==============================] - 14s 291ms/step - loss: 0.0052 - accuracy: 0.9982 - val_loss: 0.4841 - val_accuracy: 0.9038\n",
            "Epoch 248/250\n",
            "48/48 [==============================] - 14s 290ms/step - loss: 0.0076 - accuracy: 0.9969 - val_loss: 0.6242 - val_accuracy: 0.9020\n",
            "Epoch 249/250\n",
            "48/48 [==============================] - 14s 290ms/step - loss: 0.0096 - accuracy: 0.9970 - val_loss: 0.6113 - val_accuracy: 0.9093\n",
            "Epoch 250/250\n",
            "48/48 [==============================] - 14s 291ms/step - loss: 0.0101 - accuracy: 0.9960 - val_loss: 0.9066 - val_accuracy: 0.8984\n"
          ],
          "name": "stdout"
        }
      ]
    },
    {
      "cell_type": "markdown",
      "metadata": {
        "id": "slaBzmiYkJK6"
      },
      "source": [
        "## **Evaluating model through different performance metrics**"
      ]
    },
    {
      "cell_type": "code",
      "metadata": {
        "id": "bQc_UKd1kJK-"
      },
      "source": [
        "labels = ['Air Conditioner', 'Car Horn', 'Children Playing', 'Dog bark', 'Drilling', 'Engine Idling', 'Gun Shot', 'Jackhammer', 'Siren', 'Street Music']"
      ],
      "execution_count": null,
      "outputs": []
    },
    {
      "cell_type": "markdown",
      "metadata": {
        "id": "aBD_m7wXkJK_"
      },
      "source": [
        "### **Accuracy**"
      ]
    },
    {
      "cell_type": "code",
      "metadata": {
        "colab": {
          "base_uri": "https://localhost:8080/"
        },
        "id": "bFaimUbSkJLA",
        "outputId": "8a89edee-46b2-4eaa-9275-349201a7a781"
      },
      "source": [
        "model_evaluation_report(model, X_train, y_train_encoded, X_test, y_test_encoded)"
      ],
      "execution_count": null,
      "outputs": [
        {
          "output_type": "stream",
          "text": [
            "                    LOSS      ACCURACY\n",
            "--------------------------------------\n",
            "Training:         0.0956       98.3812\n",
            "Test:             0.7636       91.2833\n"
          ],
          "name": "stdout"
        }
      ]
    },
    {
      "cell_type": "markdown",
      "metadata": {
        "id": "mCLPx20vkJLD"
      },
      "source": [
        "### **Visualizing Accuracy in Each Epoch**"
      ]
    },
    {
      "cell_type": "code",
      "metadata": {
        "colab": {
          "base_uri": "https://localhost:8080/",
          "height": 352
        },
        "id": "vqpbyyVwkJLG",
        "outputId": "f4b62e72-b1e7-4509-d6e9-4b1567326c30"
      },
      "source": [
        "acc_plot(history)"
      ],
      "execution_count": null,
      "outputs": [
        {
          "output_type": "display_data",
          "data": {
            "image/png": "[encoded data removed]",
            "text/plain": [
              "<Figure size 576x360 with 1 Axes>"
            ]
          },
          "metadata": {
            "tags": [],
            "needs_background": "light"
          }
        }
      ]
    },
    {
      "cell_type": "markdown",
      "metadata": {
        "id": "IJEWusSukJLI"
      },
      "source": [
        "### **Visualizing Loss in Each Epoch**"
      ]
    },
    {
      "cell_type": "code",
      "metadata": {
        "colab": {
          "base_uri": "https://localhost:8080/",
          "height": 352
        },
        "id": "X_6W-mPCkJLJ",
        "outputId": "274ac253-c540-4515-b90b-f397c54625d1"
      },
      "source": [
        "loss_plot(history)"
      ],
      "execution_count": null,
      "outputs": [
        {
          "output_type": "display_data",
          "data": {
            "image/png": "[encoded data removed]",
            "text/plain": [
              "<Figure size 576x360 with 1 Axes>"
            ]
          },
          "metadata": {
            "tags": []
          }
        }
      ]
    },
    {
      "cell_type": "markdown",
      "metadata": {
        "id": "3hWeBfPqkJLK"
      },
      "source": [
        "### **Confusion Matrix**"
      ]
    },
    {
      "cell_type": "code",
      "metadata": {
        "id": "jbizkz1XkJLL"
      },
      "source": [
        "y_probs = model.predict(X_test, verbose=0)\n",
        "yhat_probs = np.argmax(y_probs, axis=1) #Getting predicted labels\n",
        "y_trues = np.argmax(y_test_encoded, axis=1)"
      ],
      "execution_count": null,
      "outputs": []
    },
    {
      "cell_type": "code",
      "metadata": {
        "colab": {
          "base_uri": "https://localhost:8080/"
        },
        "id": "LJscL3xHkJLM",
        "outputId": "8d6a8780-4110-4470-a5ba-24fdc8de9de4"
      },
      "source": [
        "cm = confusion_matrix(y_trues, yhat_probs)\n",
        "cm"
      ],
      "execution_count": null,
      "outputs": [
        {
          "output_type": "execute_result",
          "data": {
            "text/plain": [
              "array([[170,   0,   4,   0,   0,   5,   0,   0,   3,   7],\n",
              "       [  0,  76,   2,   5,   0,   1,   1,   0,   0,   1],\n",
              "       [  0,   0, 171,   5,   0,   3,   0,   0,   3,   6],\n",
              "       [  0,   0,  12, 183,   4,   0,   0,   0,   7,   0],\n",
              "       [  0,   1,   3,   7, 164,   0,   5,   8,   0,   0],\n",
              "       [  1,   0,   5,   0,   0, 177,   0,   0,   3,   0],\n",
              "       [  0,   0,   6,   0,   1,   0,  77,   0,   0,   0],\n",
              "       [  1,   0,   0,   0,   8,   0,   0, 173,   1,   0],\n",
              "       [  0,   1,   2,   1,   0,  22,   0,   0, 131,   0],\n",
              "       [  0,   1,  19,   1,   0,   0,   0,   1,   3, 160]])"
            ]
          },
          "metadata": {
            "tags": []
          },
          "execution_count": 39
        }
      ]
    },
    {
      "cell_type": "code",
      "metadata": {
        "colab": {
          "base_uri": "https://localhost:8080/",
          "height": 497
        },
        "id": "Q6qiWwbpkJLN",
        "outputId": "741807a5-e005-4ed1-8fc6-359afa4ddca6"
      },
      "source": [
        "def display_cm():\n",
        "  CM = confusion_matrix(y_trues, yhat_probs)\n",
        "  f, ax = plt.subplots(figsize=(8,8))\n",
        "  sb.heatmap(CM,annot = True, linewidths=0.5,linecolor=\"white\",fmt=\".0f\",ax=ax, cmap=plt.cm.copper)\n",
        "  plt.xlabel(\"Prediction(Ypred)\")\n",
        "  plt.ylabel(\"Ytrue\")\n",
        "  plt.show()\n",
        "display_cm()"
      ],
      "execution_count": null,
      "outputs": [
        {
          "output_type": "display_data",
          "data": {
            "image/png": "[encoded data removed]",
            "text/plain": [
              "<Figure size 576x576 with 2 Axes>"
            ]
          },
          "metadata": {
            "tags": []
          }
        }
      ]
    },
    {
      "cell_type": "markdown",
      "metadata": {
        "id": "fDa1zRK2kJLO"
      },
      "source": [
        "### **Classification Report**"
      ]
    },
    {
      "cell_type": "code",
      "metadata": {
        "colab": {
          "base_uri": "https://localhost:8080/"
        },
        "id": "XYm2wWSZkJLP",
        "outputId": "4934fc64-18ad-445f-e246-48b1826b15f4"
      },
      "source": [
        "re = classification_report(y_trues, yhat_probs, labels=[0,1,2,3,4,5,6,7,8,9], target_names=labels)\n",
        "print(re)"
      ],
      "execution_count": null,
      "outputs": [
        {
          "output_type": "stream",
          "text": [
            "                  precision    recall  f1-score   support\n",
            "\n",
            " Air Conditioner       0.99      0.90      0.94       189\n",
            "        Car Horn       0.96      0.88      0.92        86\n",
            "Children Playing       0.76      0.91      0.83       188\n",
            "        Dog bark       0.91      0.89      0.90       206\n",
            "        Drilling       0.93      0.87      0.90       188\n",
            "   Engine Idling       0.85      0.95      0.90       186\n",
            "        Gun Shot       0.93      0.92      0.92        84\n",
            "      Jackhammer       0.95      0.95      0.95       183\n",
            "           Siren       0.87      0.83      0.85       157\n",
            "    Street Music       0.92      0.86      0.89       185\n",
            "\n",
            "        accuracy                           0.90      1652\n",
            "       macro avg       0.91      0.90      0.90      1652\n",
            "    weighted avg       0.90      0.90      0.90      1652\n",
            "\n"
          ],
          "name": "stdout"
        }
      ]
    },
    {
      "cell_type": "markdown",
      "metadata": {
        "id": "2JvpAU3KkJLP"
      },
      "source": [
        "### **Accuracy per Class**"
      ]
    },
    {
      "cell_type": "code",
      "metadata": {
        "colab": {
          "base_uri": "https://localhost:8080/",
          "height": 343
        },
        "id": "T9nICmfDkJLQ",
        "outputId": "9af61522-40a1-48f4-97c4-46814e179f41"
      },
      "source": [
        "accuracies = acc_per_class(cm)\n",
        "pd.DataFrame({\n",
        "    'CLASS': labels,\n",
        "    'ACCURACY': accuracies}).sort_values(by=\"ACCURACY\", ascending=False)"
      ],
      "execution_count": null,
      "outputs": [
        {
          "output_type": "execute_result",
          "data": {
            "text/html": [
              "<div>\n",
              "<style scoped>\n",
              "    .dataframe tbody tr th:only-of-type {\n",
              "        vertical-align: middle;\n",
              "    }\n",
              "\n",
              "    .dataframe tbody tr th {\n",
              "        vertical-align: top;\n",
              "    }\n",
              "\n",
              "    .dataframe thead th {\n",
              "        text-align: right;\n",
              "    }\n",
              "</style>\n",
              "<table border=\"1\" class=\"dataframe\">\n",
              "  <thead>\n",
              "    <tr style=\"text-align: right;\">\n",
              "      <th></th>\n",
              "      <th>CLASS</th>\n",
              "      <th>ACCURACY</th>\n",
              "    </tr>\n",
              "  </thead>\n",
              "  <tbody>\n",
              "    <tr>\n",
              "      <th>5</th>\n",
              "      <td>Engine Idling</td>\n",
              "      <td>95.161290</td>\n",
              "    </tr>\n",
              "    <tr>\n",
              "      <th>7</th>\n",
              "      <td>Jackhammer</td>\n",
              "      <td>94.535519</td>\n",
              "    </tr>\n",
              "    <tr>\n",
              "      <th>6</th>\n",
              "      <td>Gun Shot</td>\n",
              "      <td>91.666667</td>\n",
              "    </tr>\n",
              "    <tr>\n",
              "      <th>2</th>\n",
              "      <td>Children Playing</td>\n",
              "      <td>90.957447</td>\n",
              "    </tr>\n",
              "    <tr>\n",
              "      <th>0</th>\n",
              "      <td>Air Conditioner</td>\n",
              "      <td>89.947090</td>\n",
              "    </tr>\n",
              "    <tr>\n",
              "      <th>3</th>\n",
              "      <td>Dog bark</td>\n",
              "      <td>88.834951</td>\n",
              "    </tr>\n",
              "    <tr>\n",
              "      <th>1</th>\n",
              "      <td>Car Horn</td>\n",
              "      <td>88.372093</td>\n",
              "    </tr>\n",
              "    <tr>\n",
              "      <th>4</th>\n",
              "      <td>Drilling</td>\n",
              "      <td>87.234043</td>\n",
              "    </tr>\n",
              "    <tr>\n",
              "      <th>9</th>\n",
              "      <td>Street Music</td>\n",
              "      <td>86.486486</td>\n",
              "    </tr>\n",
              "    <tr>\n",
              "      <th>8</th>\n",
              "      <td>Siren</td>\n",
              "      <td>83.439490</td>\n",
              "    </tr>\n",
              "  </tbody>\n",
              "</table>\n",
              "</div>"
            ],
            "text/plain": [
              "              CLASS   ACCURACY\n",
              "5     Engine Idling  95.161290\n",
              "7        Jackhammer  94.535519\n",
              "6          Gun Shot  91.666667\n",
              "2  Children Playing  90.957447\n",
              "0   Air Conditioner  89.947090\n",
              "3          Dog bark  88.834951\n",
              "1          Car Horn  88.372093\n",
              "4          Drilling  87.234043\n",
              "9      Street Music  86.486486\n",
              "8             Siren  83.439490"
            ]
          },
          "metadata": {
            "tags": []
          },
          "execution_count": 44
        }
      ]
    },
    {
      "cell_type": "markdown",
      "metadata": {
        "id": "B5sCSKuYPeHy"
      },
      "source": [
        "**Done :]**"
      ]
    }
  ]
}