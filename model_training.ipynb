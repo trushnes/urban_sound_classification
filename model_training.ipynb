{
  "nbformat": 4,
  "nbformat_minor": 0,
  "metadata": {
    "colab": {
      "name": "model_training.ipynb",
      "provenance": [],
      "collapsed_sections": [],
      "authorship_tag": "ABX9TyMubmXNAyrp2ySZv3zFSH4u"
    },
    "kernelspec": {
      "name": "python3",
      "display_name": "Python 3"
    },
    "accelerator": "GPU"
  },
  "cells": [
    {
      "cell_type": "markdown",
      "metadata": {
        "id": "Dbw9pYSAwPcn"
      },
      "source": [
        "# **IT-890 Practical/Professional Seminar Course Project :** **\"Urban Sound Classification\"**\n",
        "### ***Contributed By:-***\n",
        "Tarushi Jat (202IT029)\n",
        "\n",
        "### **Notebook III: Training the Model**\n",
        "\n",
        "****"
      ]
    },
    {
      "cell_type": "markdown",
      "metadata": {
        "id": "FDIdZwT4E2xX"
      },
      "source": [
        "## **1. Libraries**"
      ]
    },
    {
      "cell_type": "code",
      "metadata": {
        "id": "edTjHSupDvgt"
      },
      "source": [
        "import sys\n",
        "import os\n",
        "import IPython\n",
        "import math\n",
        "import numpy as np\n",
        "import pandas as pd\n",
        "import pickle\n",
        "import matplotlib.pyplot as plt\n",
        "%matplotlib inline\n",
        "import seaborn as sb\n",
        "\n",
        "import random\n",
        "from datetime import datetime\n",
        "from keras.models import Sequential, load_model\n",
        "from keras.layers import Dense, SpatialDropout2D, Activation, Conv2D, MaxPooling2D, BatchNormalization, GlobalAveragePooling2D, LeakyReLU\n",
        "from keras.optimizers import Adam\n",
        "from keras.utils import to_categorical\n",
        "from keras.regularizers import l2\n",
        "from sklearn.preprocessing import LabelEncoder\n",
        "from sklearn.metrics import classification_report, confusion_matrix"
      ],
      "execution_count": null,
      "outputs": []
    },
    {
      "cell_type": "markdown",
      "metadata": {
        "id": "vrGBsTD1E9HA"
      },
      "source": [
        "## **2. Urban Sound Dataset**"
      ]
    },
    {
      "cell_type": "code",
      "metadata": {
        "colab": {
          "base_uri": "https://localhost:8080/"
        },
        "id": "xG6rNjHfFa4Y",
        "outputId": "da1a8325-ecb6-41c4-eecb-a7142f123331"
      },
      "source": [
        "from google.colab import drive\n",
        "drive.mount('/content/drive')"
      ],
      "execution_count": null,
      "outputs": [
        {
          "output_type": "stream",
          "text": [
            "Mounted at /content/drive\n"
          ],
          "name": "stdout"
        }
      ]
    },
    {
      "cell_type": "code",
      "metadata": {
        "id": "0YsSfKORb6JZ"
      },
      "source": [
        "audio_path = '/content/drive/MyDrive/Projects/UrbanSound'\n",
        "metadata_path = '/content/drive/MyDrive/Projects/UrbanSound8K.csv'"
      ],
      "execution_count": null,
      "outputs": []
    },
    {
      "cell_type": "code",
      "metadata": {
        "colab": {
          "base_uri": "https://localhost:8080/",
          "height": 343
        },
        "id": "i20Vdy4BcTS0",
        "outputId": "841daecd-67a3-4957-ded2-6b6188243db7"
      },
      "source": [
        "metadata = pd.read_csv(metadata_path)\n",
        "metadata.head(10)"
      ],
      "execution_count": null,
      "outputs": [
        {
          "output_type": "execute_result",
          "data": {
            "text/html": [
              "<div>\n",
              "<style scoped>\n",
              "    .dataframe tbody tr th:only-of-type {\n",
              "        vertical-align: middle;\n",
              "    }\n",
              "\n",
              "    .dataframe tbody tr th {\n",
              "        vertical-align: top;\n",
              "    }\n",
              "\n",
              "    .dataframe thead th {\n",
              "        text-align: right;\n",
              "    }\n",
              "</style>\n",
              "<table border=\"1\" class=\"dataframe\">\n",
              "  <thead>\n",
              "    <tr style=\"text-align: right;\">\n",
              "      <th></th>\n",
              "      <th>slice_file_name</th>\n",
              "      <th>fsID</th>\n",
              "      <th>start</th>\n",
              "      <th>end</th>\n",
              "      <th>salience</th>\n",
              "      <th>fold</th>\n",
              "      <th>classID</th>\n",
              "      <th>class</th>\n",
              "    </tr>\n",
              "  </thead>\n",
              "  <tbody>\n",
              "    <tr>\n",
              "      <th>0</th>\n",
              "      <td>100032-3-0-0.wav</td>\n",
              "      <td>100032</td>\n",
              "      <td>0.000000</td>\n",
              "      <td>0.317551</td>\n",
              "      <td>1</td>\n",
              "      <td>5</td>\n",
              "      <td>3</td>\n",
              "      <td>dog_bark</td>\n",
              "    </tr>\n",
              "    <tr>\n",
              "      <th>1</th>\n",
              "      <td>100263-2-0-117.wav</td>\n",
              "      <td>100263</td>\n",
              "      <td>58.500000</td>\n",
              "      <td>62.500000</td>\n",
              "      <td>1</td>\n",
              "      <td>5</td>\n",
              "      <td>2</td>\n",
              "      <td>children_playing</td>\n",
              "    </tr>\n",
              "    <tr>\n",
              "      <th>2</th>\n",
              "      <td>100263-2-0-121.wav</td>\n",
              "      <td>100263</td>\n",
              "      <td>60.500000</td>\n",
              "      <td>64.500000</td>\n",
              "      <td>1</td>\n",
              "      <td>5</td>\n",
              "      <td>2</td>\n",
              "      <td>children_playing</td>\n",
              "    </tr>\n",
              "    <tr>\n",
              "      <th>3</th>\n",
              "      <td>100263-2-0-126.wav</td>\n",
              "      <td>100263</td>\n",
              "      <td>63.000000</td>\n",
              "      <td>67.000000</td>\n",
              "      <td>1</td>\n",
              "      <td>5</td>\n",
              "      <td>2</td>\n",
              "      <td>children_playing</td>\n",
              "    </tr>\n",
              "    <tr>\n",
              "      <th>4</th>\n",
              "      <td>100263-2-0-137.wav</td>\n",
              "      <td>100263</td>\n",
              "      <td>68.500000</td>\n",
              "      <td>72.500000</td>\n",
              "      <td>1</td>\n",
              "      <td>5</td>\n",
              "      <td>2</td>\n",
              "      <td>children_playing</td>\n",
              "    </tr>\n",
              "    <tr>\n",
              "      <th>5</th>\n",
              "      <td>100263-2-0-143.wav</td>\n",
              "      <td>100263</td>\n",
              "      <td>71.500000</td>\n",
              "      <td>75.500000</td>\n",
              "      <td>1</td>\n",
              "      <td>5</td>\n",
              "      <td>2</td>\n",
              "      <td>children_playing</td>\n",
              "    </tr>\n",
              "    <tr>\n",
              "      <th>6</th>\n",
              "      <td>100263-2-0-161.wav</td>\n",
              "      <td>100263</td>\n",
              "      <td>80.500000</td>\n",
              "      <td>84.500000</td>\n",
              "      <td>1</td>\n",
              "      <td>5</td>\n",
              "      <td>2</td>\n",
              "      <td>children_playing</td>\n",
              "    </tr>\n",
              "    <tr>\n",
              "      <th>7</th>\n",
              "      <td>100263-2-0-3.wav</td>\n",
              "      <td>100263</td>\n",
              "      <td>1.500000</td>\n",
              "      <td>5.500000</td>\n",
              "      <td>1</td>\n",
              "      <td>5</td>\n",
              "      <td>2</td>\n",
              "      <td>children_playing</td>\n",
              "    </tr>\n",
              "    <tr>\n",
              "      <th>8</th>\n",
              "      <td>100263-2-0-36.wav</td>\n",
              "      <td>100263</td>\n",
              "      <td>18.000000</td>\n",
              "      <td>22.000000</td>\n",
              "      <td>1</td>\n",
              "      <td>5</td>\n",
              "      <td>2</td>\n",
              "      <td>children_playing</td>\n",
              "    </tr>\n",
              "    <tr>\n",
              "      <th>9</th>\n",
              "      <td>100648-1-0-0.wav</td>\n",
              "      <td>100648</td>\n",
              "      <td>4.823402</td>\n",
              "      <td>5.471927</td>\n",
              "      <td>2</td>\n",
              "      <td>10</td>\n",
              "      <td>1</td>\n",
              "      <td>car_horn</td>\n",
              "    </tr>\n",
              "  </tbody>\n",
              "</table>\n",
              "</div>"
            ],
            "text/plain": [
              "      slice_file_name    fsID      start  ...  fold  classID             class\n",
              "0    100032-3-0-0.wav  100032   0.000000  ...     5        3          dog_bark\n",
              "1  100263-2-0-117.wav  100263  58.500000  ...     5        2  children_playing\n",
              "2  100263-2-0-121.wav  100263  60.500000  ...     5        2  children_playing\n",
              "3  100263-2-0-126.wav  100263  63.000000  ...     5        2  children_playing\n",
              "4  100263-2-0-137.wav  100263  68.500000  ...     5        2  children_playing\n",
              "5  100263-2-0-143.wav  100263  71.500000  ...     5        2  children_playing\n",
              "6  100263-2-0-161.wav  100263  80.500000  ...     5        2  children_playing\n",
              "7    100263-2-0-3.wav  100263   1.500000  ...     5        2  children_playing\n",
              "8   100263-2-0-36.wav  100263  18.000000  ...     5        2  children_playing\n",
              "9    100648-1-0-0.wav  100648   4.823402  ...    10        1          car_horn\n",
              "\n",
              "[10 rows x 8 columns]"
            ]
          },
          "metadata": {
            "tags": []
          },
          "execution_count": 8
        }
      ]
    },
    {
      "cell_type": "markdown",
      "metadata": {
        "id": "ZkVkihNfLdTp"
      },
      "source": [
        "## **3. Methods for Performance Metrics Measures & Graph Plotting**"
      ]
    },
    {
      "cell_type": "code",
      "metadata": {
        "id": "zG29hNasLeT-"
      },
      "source": [
        "def evaluate_model(model, X_train, y_train, X_test, y_test):\n",
        "    train_score = model.evaluate(X_train, y_train, verbose=0)\n",
        "    test_score = model.evaluate(X_test, y_test, verbose=0)\n",
        "    return train_score, test_score"
      ],
      "execution_count": null,
      "outputs": []
    },
    {
      "cell_type": "code",
      "metadata": {
        "id": "JPy2EIaDLnMx"
      },
      "source": [
        "def model_evaluation_report(model, X_train, y_train, X_test, y_test, calc_normal=True):\n",
        "    dash = '-' * 38\n",
        "    train_score, test_score = evaluate_model(model, X_train, y_train, X_test, y_test)\n",
        "    \n",
        "    print('{:<10s}{:>14s}{:>14s}'.format(\"\", \"LOSS\", \"ACCURACY\"))\n",
        "    print(dash)\n",
        "    print('{:<10s}{:>14.4f}{:>14.4f}'.format( \"Training:\", train_score[0], 100 * train_score[1]))\n",
        "    print('{:<10s}{:>14.4f}{:>14.4f}'.format( \"Test:\", test_score[0], 100 * test_score[1]))\n",
        "    if (calc_normal):\n",
        "        max_err = max(train_score[0], test_score[0])\n",
        "        error_diff = max_err - min(train_score[0], test_score[0])\n",
        "        normal_diff = error_diff * 100 / max_err\n",
        "        print('{:<10s}{:>13.2f}{:>1s}'.format(\"Normal diff \", normal_diff, \"\"))"
      ],
      "execution_count": null,
      "outputs": []
    },
    {
      "cell_type": "code",
      "metadata": {
        "id": "TrZVp2KeL7HH"
      },
      "source": [
        "def acc_plot(m):\n",
        "  plt.figure(figsize=(8,5))\n",
        "  sb.set_style(\"whitegrid\")\n",
        "  plt.plot(m.history['accuracy'],color=\"#E74C3C\",marker='o')\n",
        "  plt.plot(m.history['val_accuracy'],color='#641E16',marker='h')\n",
        "  plt.title('Accuracy comparison between Validation and Train Data set',fontsize=15)\n",
        "  plt.ylabel('Accuracy')\n",
        "  plt.xlabel('Epoch')\n",
        "  plt.legend(['Train', 'Test'], loc='best')\n",
        "  plt.show()"
      ],
      "execution_count": null,
      "outputs": []
    },
    {
      "cell_type": "code",
      "metadata": {
        "id": "7ey2SByCL8Zj"
      },
      "source": [
        "def loss_plot(m):\n",
        "  plt.figure(figsize=(8,5))\n",
        "  sb.set_style(\"whitegrid\")\n",
        "  plt.plot(m.history['loss'],color=\"#E74C3C\",marker='o')\n",
        "  plt.plot(m.history['val_loss'],color='#641E16',marker='h')\n",
        "  plt.title('Loss comparison between Validation and Train Data set',fontsize=15)\n",
        "  plt.ylabel('Accuracy')\n",
        "  plt.xlabel('Epoch')\n",
        "  plt.legend(['Train', 'Test'], loc='best')\n",
        "  plt.show()"
      ],
      "execution_count": null,
      "outputs": []
    },
    {
      "cell_type": "code",
      "metadata": {
        "id": "klRtyqIJlvCz"
      },
      "source": [
        "def acc_per_class(np_probs_array):    \n",
        "    accs = []\n",
        "    for idx in range(0, np_probs_array.shape[0]):\n",
        "        correct = np_probs_array[idx][idx].astype(int)\n",
        "        total = np_probs_array[idx].sum().astype(int)\n",
        "        acc = (correct / total) * 100\n",
        "        accs.append(acc)\n",
        "    return accs"
      ],
      "execution_count": null,
      "outputs": []
    },
    {
      "cell_type": "markdown",
      "metadata": {
        "id": "yFkKGzZPFuZQ"
      },
      "source": [
        "## **4. Loading Extracted MFCCs**"
      ]
    },
    {
      "cell_type": "code",
      "metadata": {
        "id": "AB4sprlRbmuW"
      },
      "source": [
        "X = np.load(\"/content/drive/MyDrive/Projects/UrbanSound/X-mfcc.npy\")\n",
        "y = np.load(\"/content/drive/MyDrive/Projects/UrbanSound/y-mfcc.npy\")"
      ],
      "execution_count": null,
      "outputs": []
    },
    {
      "cell_type": "markdown",
      "metadata": {
        "id": "8JVnL-vQF8OG"
      },
      "source": [
        "## **5. Train and Test Splitting**"
      ]
    },
    {
      "cell_type": "code",
      "metadata": {
        "id": "tbrvoDS1GAnF"
      },
      "source": [
        "indexes = []\n",
        "total = 8262 #Some files was corrupted...so I just ignored them.\n",
        "indexes = list(range(0, total))\n",
        "random.shuffle(indexes) #Randomizing Indexes"
      ],
      "execution_count": null,
      "outputs": []
    },
    {
      "cell_type": "code",
      "metadata": {
        "id": "WCVGML2UGeqp"
      },
      "source": [
        "test_split_pct = 20\n",
        "split_offset = math.floor(test_split_pct * total / 100)"
      ],
      "execution_count": null,
      "outputs": []
    },
    {
      "cell_type": "code",
      "metadata": {
        "id": "Q59KkkFwG_2j"
      },
      "source": [
        "test_split_idx = indexes[0:split_offset]\n",
        "train_split_idx = indexes[split_offset:total]"
      ],
      "execution_count": null,
      "outputs": []
    },
    {
      "cell_type": "code",
      "metadata": {
        "id": "JiWiomRZHUnh"
      },
      "source": [
        "#Spliting the features with the same indexes\n",
        "X_test = np.take(X, test_split_idx, axis=0)\n",
        "y_test = np.take(y, test_split_idx, axis=0)\n",
        "X_train = np.take(X, train_split_idx, axis=0)\n",
        "y_train = np.take(y, train_split_idx, axis=0)"
      ],
      "execution_count": null,
      "outputs": []
    },
    {
      "cell_type": "code",
      "metadata": {
        "id": "eUvGgGC1HZ4S"
      },
      "source": [
        "#Also spliting metadata\n",
        "test_meta = metadata.iloc[test_split_idx]\n",
        "train_meta = metadata.iloc[train_split_idx]"
      ],
      "execution_count": null,
      "outputs": []
    },
    {
      "cell_type": "code",
      "metadata": {
        "colab": {
          "base_uri": "https://localhost:8080/"
        },
        "id": "LtcFaHR6GT6z",
        "outputId": "2af67609-8bea-4d86-edd0-de8045240cf1"
      },
      "source": [
        "print(\"--------------------Test Data Details--------------------\")\n",
        "print(\"Test split: {} \".format(len(test_meta)))\n",
        "print(\"X test shape: {} \".format(X_test.shape))\n",
        "print(\"y test shape: {} \".format(y_test.shape))\n",
        "print(\"--------------------Train Data Details--------------------\")\n",
        "print(\"Train split: {}\".format(len(train_meta)))\n",
        "print(\"X train shape: {}\".format(X_train.shape))\n",
        "print(\"y train shape: {}\".format(y_train.shape))"
      ],
      "execution_count": null,
      "outputs": [
        {
          "output_type": "stream",
          "text": [
            "--------------------Test Data Details--------------------\n",
            "Test split: 1652 \n",
            "X test shape: (1652, 40, 174) \n",
            "y test shape: (1652,) \n",
            "--------------------Train Data Details--------------------\n",
            "Train split: 6610\n",
            "X train shape: (6610, 40, 174)\n",
            "y train shape: (6610,)\n"
          ],
          "name": "stdout"
        }
      ]
    },
    {
      "cell_type": "markdown",
      "metadata": {
        "id": "rFwsof0zIdlF"
      },
      "source": [
        "## **6. Normalizing the Data**"
      ]
    },
    {
      "cell_type": "code",
      "metadata": {
        "id": "Se-b8OBWI_xH"
      },
      "source": [
        "num_rows = 40\n",
        "num_columns = 174\n",
        "num_channels = 1"
      ],
      "execution_count": null,
      "outputs": []
    },
    {
      "cell_type": "code",
      "metadata": {
        "id": "4O0zZudjIvPy"
      },
      "source": [
        "le = LabelEncoder()\n",
        "y_test_encoded = to_categorical(le.fit_transform(y_test))\n",
        "y_train_encoded = to_categorical(le.fit_transform(y_train))"
      ],
      "execution_count": null,
      "outputs": []
    },
    {
      "cell_type": "code",
      "metadata": {
        "id": "6mYvo0gzGeJ7"
      },
      "source": [
        "# Reshape to fit the network input (channel last)\n",
        "X_train = X_train.reshape(X_train.shape[0], num_rows, num_columns, num_channels)\n",
        "X_test = X_test.reshape(X_test.shape[0], num_rows, num_columns, num_channels)"
      ],
      "execution_count": null,
      "outputs": []
    },
    {
      "cell_type": "code",
      "metadata": {
        "id": "Ui4EAYWAIzUl"
      },
      "source": [
        "# Total number of labels to predict (equal to the network output nodes)\n",
        "num_labels = y_train_encoded.shape[1]"
      ],
      "execution_count": null,
      "outputs": []
    },
    {
      "cell_type": "markdown",
      "metadata": {
        "id": "BJFX5tPiJKK6"
      },
      "source": [
        "## **7. CNN Model Architecture**"
      ]
    },
    {
      "cell_type": "code",
      "metadata": {
        "id": "cV5f9fW3Gj9I"
      },
      "source": [
        "def create_model(spatial_dropout_rate_1=0, spatial_dropout_rate_2=0, l2_rate=0):\n",
        "\n",
        "    model = Sequential()\n",
        "    model.add(Conv2D(filters=32, kernel_size=(3, 3), kernel_regularizer=l2(l2_rate), input_shape=(num_rows, num_columns, num_channels)))\n",
        "    model.add(LeakyReLU(alpha=0.1))\n",
        "    model.add(BatchNormalization())\n",
        "\n",
        "    model.add(SpatialDropout2D(spatial_dropout_rate_1))\n",
        "    model.add(Conv2D(filters=32, kernel_size=(3, 3), kernel_regularizer=l2(l2_rate)))\n",
        "    model.add(LeakyReLU(alpha=0.1))\n",
        "    model.add(BatchNormalization())\n",
        "\n",
        "    model.add(MaxPooling2D(pool_size=(2, 2)))\n",
        "\n",
        "    model.add(SpatialDropout2D(spatial_dropout_rate_1))\n",
        "    model.add(Conv2D(filters=64, kernel_size=(3, 3), kernel_regularizer=l2(l2_rate)))\n",
        "    model.add(LeakyReLU(alpha=0.1))\n",
        "    model.add(BatchNormalization())\n",
        "\n",
        "    model.add(SpatialDropout2D(spatial_dropout_rate_2))\n",
        "    model.add(Conv2D(filters=64, kernel_size=(3,3), kernel_regularizer=l2(l2_rate)))\n",
        "    model.add(LeakyReLU(alpha=0.1))\n",
        "    model.add(BatchNormalization())\n",
        "    \n",
        "    model.add(GlobalAveragePooling2D())\n",
        "    model.add(Dense(num_labels, activation='softmax'))\n",
        "    return model"
      ],
      "execution_count": null,
      "outputs": []
    },
    {
      "cell_type": "code",
      "metadata": {
        "id": "IqKOQFA_J2DJ"
      },
      "source": [
        "#Regularization rates\n",
        "spatial_dropout_rate_1 = 0.07\n",
        "spatial_dropout_rate_2 = 0.14\n",
        "l2_rate = 0.0005\n",
        "#Calling Model\n",
        "model = create_model(spatial_dropout_rate_1, spatial_dropout_rate_2, l2_rate)"
      ],
      "execution_count": null,
      "outputs": []
    },
    {
      "cell_type": "code",
      "metadata": {
        "colab": {
          "base_uri": "https://localhost:8080/"
        },
        "id": "hLR_AVglJ2GE",
        "outputId": "d1f3a11e-3e53-4bf4-e6ac-0fb704634c72"
      },
      "source": [
        "model.summary()"
      ],
      "execution_count": null,
      "outputs": [
        {
          "output_type": "stream",
          "text": [
            "Model: \"sequential\"\n",
            "_________________________________________________________________\n",
            "Layer (type)                 Output Shape              Param #   \n",
            "=================================================================\n",
            "conv2d (Conv2D)              (None, 38, 172, 32)       320       \n",
            "_________________________________________________________________\n",
            "leaky_re_lu (LeakyReLU)      (None, 38, 172, 32)       0         \n",
            "_________________________________________________________________\n",
            "batch_normalization (BatchNo (None, 38, 172, 32)       128       \n",
            "_________________________________________________________________\n",
            "spatial_dropout2d (SpatialDr (None, 38, 172, 32)       0         \n",
            "_________________________________________________________________\n",
            "conv2d_1 (Conv2D)            (None, 36, 170, 32)       9248      \n",
            "_________________________________________________________________\n",
            "leaky_re_lu_1 (LeakyReLU)    (None, 36, 170, 32)       0         \n",
            "_________________________________________________________________\n",
            "batch_normalization_1 (Batch (None, 36, 170, 32)       128       \n",
            "_________________________________________________________________\n",
            "max_pooling2d (MaxPooling2D) (None, 18, 85, 32)        0         \n",
            "_________________________________________________________________\n",
            "spatial_dropout2d_1 (Spatial (None, 18, 85, 32)        0         \n",
            "_________________________________________________________________\n",
            "conv2d_2 (Conv2D)            (None, 16, 83, 64)        18496     \n",
            "_________________________________________________________________\n",
            "leaky_re_lu_2 (LeakyReLU)    (None, 16, 83, 64)        0         \n",
            "_________________________________________________________________\n",
            "batch_normalization_2 (Batch (None, 16, 83, 64)        256       \n",
            "_________________________________________________________________\n",
            "spatial_dropout2d_2 (Spatial (None, 16, 83, 64)        0         \n",
            "_________________________________________________________________\n",
            "conv2d_3 (Conv2D)            (None, 14, 81, 64)        36928     \n",
            "_________________________________________________________________\n",
            "leaky_re_lu_3 (LeakyReLU)    (None, 14, 81, 64)        0         \n",
            "_________________________________________________________________\n",
            "batch_normalization_3 (Batch (None, 14, 81, 64)        256       \n",
            "_________________________________________________________________\n",
            "global_average_pooling2d (Gl (None, 64)                0         \n",
            "_________________________________________________________________\n",
            "dense (Dense)                (None, 10)                650       \n",
            "=================================================================\n",
            "Total params: 66,410\n",
            "Trainable params: 66,026\n",
            "Non-trainable params: 384\n",
            "_________________________________________________________________\n"
          ],
          "name": "stdout"
        }
      ]
    },
    {
      "cell_type": "code",
      "metadata": {
        "id": "FkMNFZpZKKZM"
      },
      "source": [
        "adam = Adam(lr=1e-4, beta_1=0.99, beta_2=0.999)\n",
        "model.compile(loss='categorical_crossentropy', metrics=['accuracy'], optimizer=adam)"
      ],
      "execution_count": null,
      "outputs": []
    },
    {
      "cell_type": "code",
      "metadata": {
        "colab": {
          "base_uri": "https://localhost:8080/"
        },
        "id": "XOjDLH8tG24Z",
        "outputId": "2381e093-037c-40d1-80a9-7ba800ff885e"
      },
      "source": [
        "history = model.fit(X_train, y_train_encoded, batch_size=128, epochs=250, validation_split=1/12., verbose=1)"
      ],
      "execution_count": null,
      "outputs": [
        {
          "output_type": "stream",
          "text": [
            "Epoch 1/250\n",
            "48/48 [==============================] - 39s 99ms/step - loss: 2.3008 - accuracy: 0.1846 - val_loss: 2.3756 - val_accuracy: 0.0962\n",
            "Epoch 2/250\n",
            "48/48 [==============================] - 4s 74ms/step - loss: 1.9467 - accuracy: 0.3462 - val_loss: 2.4772 - val_accuracy: 0.1053\n",
            "Epoch 3/250\n",
            "48/48 [==============================] - 4s 74ms/step - loss: 1.8532 - accuracy: 0.3889 - val_loss: 2.6365 - val_accuracy: 0.1034\n",
            "Epoch 4/250\n",
            "48/48 [==============================] - 4s 74ms/step - loss: 1.7517 - accuracy: 0.4170 - val_loss: 2.8727 - val_accuracy: 0.0962\n",
            "Epoch 5/250\n",
            "48/48 [==============================] - 4s 74ms/step - loss: 1.7010 - accuracy: 0.4311 - val_loss: 3.0680 - val_accuracy: 0.0962\n",
            "Epoch 6/250\n",
            "48/48 [==============================] - 4s 74ms/step - loss: 1.6544 - accuracy: 0.4539 - val_loss: 3.2577 - val_accuracy: 0.0962\n",
            "Epoch 7/250\n",
            "48/48 [==============================] - 4s 74ms/step - loss: 1.6002 - accuracy: 0.4637 - val_loss: 3.3428 - val_accuracy: 0.0980\n",
            "Epoch 8/250\n",
            "48/48 [==============================] - 4s 74ms/step - loss: 1.5681 - accuracy: 0.4827 - val_loss: 3.0945 - val_accuracy: 0.0998\n",
            "Epoch 9/250\n",
            "48/48 [==============================] - 4s 74ms/step - loss: 1.5296 - accuracy: 0.4983 - val_loss: 2.7839 - val_accuracy: 0.1506\n",
            "Epoch 10/250\n",
            "48/48 [==============================] - 4s 75ms/step - loss: 1.5082 - accuracy: 0.5224 - val_loss: 2.4159 - val_accuracy: 0.2196\n",
            "Epoch 11/250\n",
            "48/48 [==============================] - 4s 74ms/step - loss: 1.4945 - accuracy: 0.5163 - val_loss: 2.0163 - val_accuracy: 0.3702\n",
            "Epoch 12/250\n",
            "48/48 [==============================] - 4s 74ms/step - loss: 1.4473 - accuracy: 0.5317 - val_loss: 1.7463 - val_accuracy: 0.4791\n",
            "Epoch 13/250\n",
            "48/48 [==============================] - 4s 75ms/step - loss: 1.4402 - accuracy: 0.5400 - val_loss: 1.5652 - val_accuracy: 0.5336\n",
            "Epoch 14/250\n",
            "48/48 [==============================] - 4s 74ms/step - loss: 1.4200 - accuracy: 0.5464 - val_loss: 1.4372 - val_accuracy: 0.5517\n",
            "Epoch 15/250\n",
            "48/48 [==============================] - 4s 75ms/step - loss: 1.3912 - accuracy: 0.5459 - val_loss: 1.3740 - val_accuracy: 0.5826\n",
            "Epoch 16/250\n",
            "48/48 [==============================] - 4s 75ms/step - loss: 1.3831 - accuracy: 0.5670 - val_loss: 1.3180 - val_accuracy: 0.6044\n",
            "Epoch 17/250\n",
            "48/48 [==============================] - 4s 75ms/step - loss: 1.3683 - accuracy: 0.5716 - val_loss: 1.2724 - val_accuracy: 0.6316\n",
            "Epoch 18/250\n",
            "48/48 [==============================] - 4s 75ms/step - loss: 1.3585 - accuracy: 0.5695 - val_loss: 1.2434 - val_accuracy: 0.6515\n",
            "Epoch 19/250\n",
            "48/48 [==============================] - 4s 76ms/step - loss: 1.3232 - accuracy: 0.5861 - val_loss: 1.2136 - val_accuracy: 0.6461\n",
            "Epoch 20/250\n",
            "48/48 [==============================] - 4s 76ms/step - loss: 1.3182 - accuracy: 0.5832 - val_loss: 1.1955 - val_accuracy: 0.6642\n",
            "Epoch 21/250\n",
            "48/48 [==============================] - 4s 76ms/step - loss: 1.2850 - accuracy: 0.5988 - val_loss: 1.1767 - val_accuracy: 0.6642\n",
            "Epoch 22/250\n",
            "48/48 [==============================] - 4s 76ms/step - loss: 1.2763 - accuracy: 0.6036 - val_loss: 1.1693 - val_accuracy: 0.6751\n",
            "Epoch 23/250\n",
            "48/48 [==============================] - 4s 76ms/step - loss: 1.2873 - accuracy: 0.5975 - val_loss: 1.1539 - val_accuracy: 0.6897\n",
            "Epoch 24/250\n",
            "48/48 [==============================] - 4s 76ms/step - loss: 1.2337 - accuracy: 0.6303 - val_loss: 1.1313 - val_accuracy: 0.7060\n",
            "Epoch 25/250\n",
            "48/48 [==============================] - 4s 76ms/step - loss: 1.2262 - accuracy: 0.6233 - val_loss: 1.1224 - val_accuracy: 0.6860\n",
            "Epoch 26/250\n",
            "48/48 [==============================] - 4s 76ms/step - loss: 1.2374 - accuracy: 0.6253 - val_loss: 1.1013 - val_accuracy: 0.7096\n",
            "Epoch 27/250\n",
            "48/48 [==============================] - 4s 76ms/step - loss: 1.2165 - accuracy: 0.6330 - val_loss: 1.0887 - val_accuracy: 0.7151\n",
            "Epoch 28/250\n",
            "48/48 [==============================] - 4s 76ms/step - loss: 1.1895 - accuracy: 0.6321 - val_loss: 1.0883 - val_accuracy: 0.7114\n",
            "Epoch 29/250\n",
            "48/48 [==============================] - 4s 76ms/step - loss: 1.1723 - accuracy: 0.6415 - val_loss: 1.0758 - val_accuracy: 0.7024\n",
            "Epoch 30/250\n",
            "48/48 [==============================] - 4s 76ms/step - loss: 1.1738 - accuracy: 0.6433 - val_loss: 1.0577 - val_accuracy: 0.7132\n",
            "Epoch 31/250\n",
            "48/48 [==============================] - 4s 76ms/step - loss: 1.1551 - accuracy: 0.6496 - val_loss: 1.0410 - val_accuracy: 0.7114\n",
            "Epoch 32/250\n",
            "48/48 [==============================] - 4s 76ms/step - loss: 1.1349 - accuracy: 0.6606 - val_loss: 1.0283 - val_accuracy: 0.7187\n",
            "Epoch 33/250\n",
            "48/48 [==============================] - 4s 76ms/step - loss: 1.1443 - accuracy: 0.6538 - val_loss: 1.0271 - val_accuracy: 0.7151\n",
            "Epoch 34/250\n",
            "48/48 [==============================] - 4s 76ms/step - loss: 1.1316 - accuracy: 0.6607 - val_loss: 1.0131 - val_accuracy: 0.7223\n",
            "Epoch 35/250\n",
            "48/48 [==============================] - 4s 76ms/step - loss: 1.1439 - accuracy: 0.6511 - val_loss: 1.0143 - val_accuracy: 0.7169\n",
            "Epoch 36/250\n",
            "48/48 [==============================] - 4s 75ms/step - loss: 1.1244 - accuracy: 0.6604 - val_loss: 0.9964 - val_accuracy: 0.7278\n",
            "Epoch 37/250\n",
            "48/48 [==============================] - 4s 75ms/step - loss: 1.0951 - accuracy: 0.6657 - val_loss: 0.9778 - val_accuracy: 0.7387\n",
            "Epoch 38/250\n",
            "48/48 [==============================] - 4s 75ms/step - loss: 1.0833 - accuracy: 0.6719 - val_loss: 0.9637 - val_accuracy: 0.7441\n",
            "Epoch 39/250\n",
            "48/48 [==============================] - 4s 75ms/step - loss: 1.0773 - accuracy: 0.6796 - val_loss: 0.9562 - val_accuracy: 0.7495\n",
            "Epoch 40/250\n",
            "48/48 [==============================] - 4s 75ms/step - loss: 1.0508 - accuracy: 0.6932 - val_loss: 0.9573 - val_accuracy: 0.7332\n",
            "Epoch 41/250\n",
            "48/48 [==============================] - 4s 75ms/step - loss: 1.0537 - accuracy: 0.6809 - val_loss: 0.9484 - val_accuracy: 0.7405\n",
            "Epoch 42/250\n",
            "48/48 [==============================] - 4s 75ms/step - loss: 1.0338 - accuracy: 0.6931 - val_loss: 0.9428 - val_accuracy: 0.7387\n",
            "Epoch 43/250\n",
            "48/48 [==============================] - 4s 75ms/step - loss: 1.0516 - accuracy: 0.6795 - val_loss: 0.9323 - val_accuracy: 0.7459\n",
            "Epoch 44/250\n",
            "48/48 [==============================] - 4s 76ms/step - loss: 1.0230 - accuracy: 0.6939 - val_loss: 0.9328 - val_accuracy: 0.7568\n",
            "Epoch 45/250\n",
            "48/48 [==============================] - 4s 75ms/step - loss: 1.0290 - accuracy: 0.6837 - val_loss: 0.9116 - val_accuracy: 0.7568\n",
            "Epoch 46/250\n",
            "48/48 [==============================] - 4s 75ms/step - loss: 1.0313 - accuracy: 0.6881 - val_loss: 0.9223 - val_accuracy: 0.7586\n",
            "Epoch 47/250\n",
            "48/48 [==============================] - 4s 75ms/step - loss: 1.0158 - accuracy: 0.6907 - val_loss: 0.9005 - val_accuracy: 0.7495\n",
            "Epoch 48/250\n",
            "48/48 [==============================] - 4s 76ms/step - loss: 1.0015 - accuracy: 0.6947 - val_loss: 0.8972 - val_accuracy: 0.7550\n",
            "Epoch 49/250\n",
            "48/48 [==============================] - 4s 76ms/step - loss: 1.0175 - accuracy: 0.6945 - val_loss: 0.8867 - val_accuracy: 0.7677\n",
            "Epoch 50/250\n",
            "48/48 [==============================] - 4s 76ms/step - loss: 0.9947 - accuracy: 0.7039 - val_loss: 0.8815 - val_accuracy: 0.7604\n",
            "Epoch 51/250\n",
            "48/48 [==============================] - 4s 76ms/step - loss: 0.9788 - accuracy: 0.7034 - val_loss: 0.8679 - val_accuracy: 0.7677\n",
            "Epoch 52/250\n",
            "48/48 [==============================] - 4s 75ms/step - loss: 0.9663 - accuracy: 0.7137 - val_loss: 0.8611 - val_accuracy: 0.7731\n",
            "Epoch 53/250\n",
            "48/48 [==============================] - 4s 76ms/step - loss: 0.9782 - accuracy: 0.7050 - val_loss: 0.8491 - val_accuracy: 0.7750\n",
            "Epoch 54/250\n",
            "48/48 [==============================] - 4s 76ms/step - loss: 0.9685 - accuracy: 0.7056 - val_loss: 0.8434 - val_accuracy: 0.7731\n",
            "Epoch 55/250\n",
            "48/48 [==============================] - 4s 76ms/step - loss: 0.9525 - accuracy: 0.7146 - val_loss: 0.8401 - val_accuracy: 0.7750\n",
            "Epoch 56/250\n",
            "48/48 [==============================] - 4s 76ms/step - loss: 0.9422 - accuracy: 0.7312 - val_loss: 0.8304 - val_accuracy: 0.7731\n",
            "Epoch 57/250\n",
            "48/48 [==============================] - 4s 76ms/step - loss: 0.9439 - accuracy: 0.7211 - val_loss: 0.8280 - val_accuracy: 0.7677\n",
            "Epoch 58/250\n",
            "48/48 [==============================] - 4s 76ms/step - loss: 0.9178 - accuracy: 0.7337 - val_loss: 0.8362 - val_accuracy: 0.7858\n",
            "Epoch 59/250\n",
            "48/48 [==============================] - 4s 76ms/step - loss: 0.9332 - accuracy: 0.7225 - val_loss: 0.8131 - val_accuracy: 0.7840\n",
            "Epoch 60/250\n",
            "48/48 [==============================] - 4s 76ms/step - loss: 0.9378 - accuracy: 0.7206 - val_loss: 0.8111 - val_accuracy: 0.7768\n",
            "Epoch 61/250\n",
            "48/48 [==============================] - 4s 76ms/step - loss: 0.8970 - accuracy: 0.7439 - val_loss: 0.8007 - val_accuracy: 0.7750\n",
            "Epoch 62/250\n",
            "48/48 [==============================] - 4s 75ms/step - loss: 0.9129 - accuracy: 0.7195 - val_loss: 0.7950 - val_accuracy: 0.7858\n",
            "Epoch 63/250\n",
            "48/48 [==============================] - 4s 75ms/step - loss: 0.9036 - accuracy: 0.7384 - val_loss: 0.7888 - val_accuracy: 0.7967\n",
            "Epoch 64/250\n",
            "48/48 [==============================] - 4s 76ms/step - loss: 0.9126 - accuracy: 0.7278 - val_loss: 0.8007 - val_accuracy: 0.7895\n",
            "Epoch 65/250\n",
            "48/48 [==============================] - 4s 76ms/step - loss: 0.8950 - accuracy: 0.7310 - val_loss: 0.7985 - val_accuracy: 0.7822\n",
            "Epoch 66/250\n",
            "48/48 [==============================] - 4s 76ms/step - loss: 0.8892 - accuracy: 0.7396 - val_loss: 0.7854 - val_accuracy: 0.7877\n",
            "Epoch 67/250\n",
            "48/48 [==============================] - 4s 76ms/step - loss: 0.8706 - accuracy: 0.7421 - val_loss: 0.7768 - val_accuracy: 0.7931\n",
            "Epoch 68/250\n",
            "48/48 [==============================] - 4s 75ms/step - loss: 0.8938 - accuracy: 0.7247 - val_loss: 0.7789 - val_accuracy: 0.7877\n",
            "Epoch 69/250\n",
            "48/48 [==============================] - 4s 75ms/step - loss: 0.8831 - accuracy: 0.7331 - val_loss: 0.7562 - val_accuracy: 0.8004\n",
            "Epoch 70/250\n",
            "48/48 [==============================] - 4s 75ms/step - loss: 0.8762 - accuracy: 0.7359 - val_loss: 0.7562 - val_accuracy: 0.7949\n",
            "Epoch 71/250\n",
            "48/48 [==============================] - 4s 76ms/step - loss: 0.8870 - accuracy: 0.7384 - val_loss: 0.7522 - val_accuracy: 0.8004\n",
            "Epoch 72/250\n",
            "48/48 [==============================] - 4s 76ms/step - loss: 0.8653 - accuracy: 0.7506 - val_loss: 0.7437 - val_accuracy: 0.8040\n",
            "Epoch 73/250\n",
            "48/48 [==============================] - 4s 76ms/step - loss: 0.8449 - accuracy: 0.7551 - val_loss: 0.7475 - val_accuracy: 0.7858\n",
            "Epoch 74/250\n",
            "48/48 [==============================] - 4s 75ms/step - loss: 0.8359 - accuracy: 0.7540 - val_loss: 0.7312 - val_accuracy: 0.8040\n",
            "Epoch 75/250\n",
            "48/48 [==============================] - 4s 76ms/step - loss: 0.8504 - accuracy: 0.7491 - val_loss: 0.7291 - val_accuracy: 0.8040\n",
            "Epoch 76/250\n",
            "48/48 [==============================] - 4s 75ms/step - loss: 0.8482 - accuracy: 0.7616 - val_loss: 0.7220 - val_accuracy: 0.8022\n",
            "Epoch 77/250\n",
            "48/48 [==============================] - 4s 76ms/step - loss: 0.8401 - accuracy: 0.7461 - val_loss: 0.7224 - val_accuracy: 0.8058\n",
            "Epoch 78/250\n",
            "48/48 [==============================] - 4s 76ms/step - loss: 0.8348 - accuracy: 0.7530 - val_loss: 0.7151 - val_accuracy: 0.8022\n",
            "Epoch 79/250\n",
            "48/48 [==============================] - 4s 76ms/step - loss: 0.8357 - accuracy: 0.7601 - val_loss: 0.7080 - val_accuracy: 0.8094\n",
            "Epoch 80/250\n",
            "48/48 [==============================] - 4s 75ms/step - loss: 0.8115 - accuracy: 0.7691 - val_loss: 0.7013 - val_accuracy: 0.8149\n",
            "Epoch 81/250\n",
            "48/48 [==============================] - 4s 76ms/step - loss: 0.8199 - accuracy: 0.7601 - val_loss: 0.7044 - val_accuracy: 0.8167\n",
            "Epoch 82/250\n",
            "48/48 [==============================] - 4s 76ms/step - loss: 0.7972 - accuracy: 0.7724 - val_loss: 0.7058 - val_accuracy: 0.8131\n",
            "Epoch 83/250\n",
            "48/48 [==============================] - 4s 76ms/step - loss: 0.7940 - accuracy: 0.7751 - val_loss: 0.6969 - val_accuracy: 0.8131\n",
            "Epoch 84/250\n",
            "48/48 [==============================] - 4s 76ms/step - loss: 0.8252 - accuracy: 0.7594 - val_loss: 0.6870 - val_accuracy: 0.8221\n",
            "Epoch 85/250\n",
            "48/48 [==============================] - 4s 76ms/step - loss: 0.8249 - accuracy: 0.7609 - val_loss: 0.6843 - val_accuracy: 0.8113\n",
            "Epoch 86/250\n",
            "48/48 [==============================] - 4s 76ms/step - loss: 0.7954 - accuracy: 0.7716 - val_loss: 0.6755 - val_accuracy: 0.8276\n",
            "Epoch 87/250\n",
            "48/48 [==============================] - 4s 75ms/step - loss: 0.7841 - accuracy: 0.7738 - val_loss: 0.6697 - val_accuracy: 0.8276\n",
            "Epoch 88/250\n",
            "48/48 [==============================] - 4s 76ms/step - loss: 0.7970 - accuracy: 0.7740 - val_loss: 0.6717 - val_accuracy: 0.8203\n",
            "Epoch 89/250\n",
            "48/48 [==============================] - 4s 76ms/step - loss: 0.7835 - accuracy: 0.7707 - val_loss: 0.6669 - val_accuracy: 0.8258\n",
            "Epoch 90/250\n",
            "48/48 [==============================] - 4s 76ms/step - loss: 0.7806 - accuracy: 0.7770 - val_loss: 0.6588 - val_accuracy: 0.8221\n",
            "Epoch 91/250\n",
            "48/48 [==============================] - 4s 76ms/step - loss: 0.7922 - accuracy: 0.7607 - val_loss: 0.6784 - val_accuracy: 0.8149\n",
            "Epoch 92/250\n",
            "48/48 [==============================] - 4s 75ms/step - loss: 0.7704 - accuracy: 0.7772 - val_loss: 0.6514 - val_accuracy: 0.8276\n",
            "Epoch 93/250\n",
            "48/48 [==============================] - 4s 76ms/step - loss: 0.7770 - accuracy: 0.7729 - val_loss: 0.6530 - val_accuracy: 0.8312\n",
            "Epoch 94/250\n",
            "48/48 [==============================] - 4s 76ms/step - loss: 0.7563 - accuracy: 0.7852 - val_loss: 0.6524 - val_accuracy: 0.8258\n",
            "Epoch 95/250\n",
            "48/48 [==============================] - 4s 75ms/step - loss: 0.7477 - accuracy: 0.7850 - val_loss: 0.6568 - val_accuracy: 0.8421\n",
            "Epoch 96/250\n",
            "48/48 [==============================] - 4s 75ms/step - loss: 0.7448 - accuracy: 0.7824 - val_loss: 0.6477 - val_accuracy: 0.8385\n",
            "Epoch 97/250\n",
            "48/48 [==============================] - 4s 75ms/step - loss: 0.7402 - accuracy: 0.7916 - val_loss: 0.6314 - val_accuracy: 0.8512\n",
            "Epoch 98/250\n",
            "48/48 [==============================] - 4s 76ms/step - loss: 0.7492 - accuracy: 0.7847 - val_loss: 0.6253 - val_accuracy: 0.8385\n",
            "Epoch 99/250\n",
            "48/48 [==============================] - 4s 76ms/step - loss: 0.7543 - accuracy: 0.7860 - val_loss: 0.6213 - val_accuracy: 0.8421\n",
            "Epoch 100/250\n",
            "48/48 [==============================] - 4s 76ms/step - loss: 0.7426 - accuracy: 0.7854 - val_loss: 0.6222 - val_accuracy: 0.8348\n",
            "Epoch 101/250\n",
            "48/48 [==============================] - 4s 76ms/step - loss: 0.7433 - accuracy: 0.7807 - val_loss: 0.6154 - val_accuracy: 0.8475\n",
            "Epoch 102/250\n",
            "48/48 [==============================] - 4s 76ms/step - loss: 0.7290 - accuracy: 0.7893 - val_loss: 0.6116 - val_accuracy: 0.8421\n",
            "Epoch 103/250\n",
            "48/48 [==============================] - 4s 76ms/step - loss: 0.7253 - accuracy: 0.7905 - val_loss: 0.6176 - val_accuracy: 0.8421\n",
            "Epoch 104/250\n",
            "48/48 [==============================] - 4s 76ms/step - loss: 0.7264 - accuracy: 0.7899 - val_loss: 0.6093 - val_accuracy: 0.8530\n",
            "Epoch 105/250\n",
            "48/48 [==============================] - 4s 76ms/step - loss: 0.7347 - accuracy: 0.7834 - val_loss: 0.6115 - val_accuracy: 0.8439\n",
            "Epoch 106/250\n",
            "48/48 [==============================] - 4s 76ms/step - loss: 0.7267 - accuracy: 0.7904 - val_loss: 0.6066 - val_accuracy: 0.8475\n",
            "Epoch 107/250\n",
            "48/48 [==============================] - 4s 75ms/step - loss: 0.7041 - accuracy: 0.7980 - val_loss: 0.5999 - val_accuracy: 0.8403\n",
            "Epoch 108/250\n",
            "48/48 [==============================] - 4s 75ms/step - loss: 0.7196 - accuracy: 0.7914 - val_loss: 0.5954 - val_accuracy: 0.8512\n",
            "Epoch 109/250\n",
            "48/48 [==============================] - 4s 75ms/step - loss: 0.7195 - accuracy: 0.8029 - val_loss: 0.5864 - val_accuracy: 0.8621\n",
            "Epoch 110/250\n",
            "48/48 [==============================] - 4s 76ms/step - loss: 0.7083 - accuracy: 0.7980 - val_loss: 0.5925 - val_accuracy: 0.8548\n",
            "Epoch 111/250\n",
            "48/48 [==============================] - 4s 76ms/step - loss: 0.7293 - accuracy: 0.7889 - val_loss: 0.5926 - val_accuracy: 0.8584\n",
            "Epoch 112/250\n",
            "48/48 [==============================] - 4s 76ms/step - loss: 0.7106 - accuracy: 0.8037 - val_loss: 0.5957 - val_accuracy: 0.8548\n",
            "Epoch 113/250\n",
            "48/48 [==============================] - 4s 75ms/step - loss: 0.6940 - accuracy: 0.8043 - val_loss: 0.5921 - val_accuracy: 0.8512\n",
            "Epoch 114/250\n",
            "48/48 [==============================] - 4s 75ms/step - loss: 0.6960 - accuracy: 0.8021 - val_loss: 0.5741 - val_accuracy: 0.8675\n",
            "Epoch 115/250\n",
            "48/48 [==============================] - 4s 76ms/step - loss: 0.6832 - accuracy: 0.8122 - val_loss: 0.5682 - val_accuracy: 0.8693\n",
            "Epoch 116/250\n",
            "48/48 [==============================] - 4s 76ms/step - loss: 0.7060 - accuracy: 0.7929 - val_loss: 0.5646 - val_accuracy: 0.8621\n",
            "Epoch 117/250\n",
            "48/48 [==============================] - 4s 75ms/step - loss: 0.7042 - accuracy: 0.7962 - val_loss: 0.5660 - val_accuracy: 0.8603\n",
            "Epoch 118/250\n",
            "48/48 [==============================] - 4s 76ms/step - loss: 0.6906 - accuracy: 0.8069 - val_loss: 0.5726 - val_accuracy: 0.8675\n",
            "Epoch 119/250\n",
            "48/48 [==============================] - 4s 76ms/step - loss: 0.6787 - accuracy: 0.8052 - val_loss: 0.5745 - val_accuracy: 0.8639\n",
            "Epoch 120/250\n",
            "48/48 [==============================] - 4s 77ms/step - loss: 0.6978 - accuracy: 0.8090 - val_loss: 0.5820 - val_accuracy: 0.8603\n",
            "Epoch 121/250\n",
            "48/48 [==============================] - 4s 76ms/step - loss: 0.6834 - accuracy: 0.8077 - val_loss: 0.5659 - val_accuracy: 0.8621\n",
            "Epoch 122/250\n",
            "48/48 [==============================] - 4s 76ms/step - loss: 0.6665 - accuracy: 0.8120 - val_loss: 0.5609 - val_accuracy: 0.8657\n",
            "Epoch 123/250\n",
            "48/48 [==============================] - 4s 76ms/step - loss: 0.6762 - accuracy: 0.8064 - val_loss: 0.5519 - val_accuracy: 0.8730\n",
            "Epoch 124/250\n",
            "48/48 [==============================] - 4s 76ms/step - loss: 0.6825 - accuracy: 0.8122 - val_loss: 0.5576 - val_accuracy: 0.8530\n",
            "Epoch 125/250\n",
            "48/48 [==============================] - 4s 76ms/step - loss: 0.6554 - accuracy: 0.8202 - val_loss: 0.5499 - val_accuracy: 0.8639\n",
            "Epoch 126/250\n",
            "48/48 [==============================] - 4s 77ms/step - loss: 0.6540 - accuracy: 0.8177 - val_loss: 0.5371 - val_accuracy: 0.8711\n",
            "Epoch 127/250\n",
            "48/48 [==============================] - 4s 76ms/step - loss: 0.6618 - accuracy: 0.8079 - val_loss: 0.5432 - val_accuracy: 0.8603\n",
            "Epoch 128/250\n",
            "48/48 [==============================] - 4s 76ms/step - loss: 0.6574 - accuracy: 0.8204 - val_loss: 0.5311 - val_accuracy: 0.8802\n",
            "Epoch 129/250\n",
            "48/48 [==============================] - 4s 76ms/step - loss: 0.6627 - accuracy: 0.8160 - val_loss: 0.5273 - val_accuracy: 0.8730\n",
            "Epoch 130/250\n",
            "48/48 [==============================] - 4s 76ms/step - loss: 0.6677 - accuracy: 0.8140 - val_loss: 0.5360 - val_accuracy: 0.8766\n",
            "Epoch 131/250\n",
            "48/48 [==============================] - 4s 76ms/step - loss: 0.6540 - accuracy: 0.8138 - val_loss: 0.5299 - val_accuracy: 0.8820\n",
            "Epoch 132/250\n",
            "48/48 [==============================] - 4s 76ms/step - loss: 0.6328 - accuracy: 0.8251 - val_loss: 0.5277 - val_accuracy: 0.8802\n",
            "Epoch 133/250\n",
            "48/48 [==============================] - 4s 76ms/step - loss: 0.6315 - accuracy: 0.8209 - val_loss: 0.5237 - val_accuracy: 0.8730\n",
            "Epoch 134/250\n",
            "48/48 [==============================] - 4s 76ms/step - loss: 0.6402 - accuracy: 0.8161 - val_loss: 0.5214 - val_accuracy: 0.8711\n",
            "Epoch 135/250\n",
            "48/48 [==============================] - 4s 76ms/step - loss: 0.6389 - accuracy: 0.8209 - val_loss: 0.5222 - val_accuracy: 0.8766\n",
            "Epoch 136/250\n",
            "48/48 [==============================] - 4s 76ms/step - loss: 0.6311 - accuracy: 0.8232 - val_loss: 0.5160 - val_accuracy: 0.8838\n",
            "Epoch 137/250\n",
            "48/48 [==============================] - 4s 76ms/step - loss: 0.6425 - accuracy: 0.8148 - val_loss: 0.5177 - val_accuracy: 0.8711\n",
            "Epoch 138/250\n",
            "48/48 [==============================] - 4s 76ms/step - loss: 0.6203 - accuracy: 0.8288 - val_loss: 0.5139 - val_accuracy: 0.8802\n",
            "Epoch 139/250\n",
            "48/48 [==============================] - 4s 76ms/step - loss: 0.6307 - accuracy: 0.8295 - val_loss: 0.5170 - val_accuracy: 0.8838\n",
            "Epoch 140/250\n",
            "48/48 [==============================] - 4s 76ms/step - loss: 0.6343 - accuracy: 0.8231 - val_loss: 0.5075 - val_accuracy: 0.8857\n",
            "Epoch 141/250\n",
            "48/48 [==============================] - 4s 76ms/step - loss: 0.6363 - accuracy: 0.8188 - val_loss: 0.5037 - val_accuracy: 0.8802\n",
            "Epoch 142/250\n",
            "48/48 [==============================] - 4s 76ms/step - loss: 0.6246 - accuracy: 0.8296 - val_loss: 0.4984 - val_accuracy: 0.8893\n",
            "Epoch 143/250\n",
            "48/48 [==============================] - 4s 75ms/step - loss: 0.6043 - accuracy: 0.8300 - val_loss: 0.4947 - val_accuracy: 0.8820\n",
            "Epoch 144/250\n",
            "48/48 [==============================] - 4s 76ms/step - loss: 0.6025 - accuracy: 0.8344 - val_loss: 0.4946 - val_accuracy: 0.8857\n",
            "Epoch 145/250\n",
            "48/48 [==============================] - 4s 76ms/step - loss: 0.6110 - accuracy: 0.8308 - val_loss: 0.4918 - val_accuracy: 0.8893\n",
            "Epoch 146/250\n",
            "48/48 [==============================] - 4s 76ms/step - loss: 0.6196 - accuracy: 0.8272 - val_loss: 0.4955 - val_accuracy: 0.8802\n",
            "Epoch 147/250\n",
            "48/48 [==============================] - 4s 76ms/step - loss: 0.6048 - accuracy: 0.8310 - val_loss: 0.4898 - val_accuracy: 0.8766\n",
            "Epoch 148/250\n",
            "48/48 [==============================] - 4s 76ms/step - loss: 0.5984 - accuracy: 0.8358 - val_loss: 0.4891 - val_accuracy: 0.8820\n",
            "Epoch 149/250\n",
            "48/48 [==============================] - 4s 76ms/step - loss: 0.6031 - accuracy: 0.8375 - val_loss: 0.4953 - val_accuracy: 0.8947\n",
            "Epoch 150/250\n",
            "48/48 [==============================] - 4s 76ms/step - loss: 0.5978 - accuracy: 0.8317 - val_loss: 0.4943 - val_accuracy: 0.8911\n",
            "Epoch 151/250\n",
            "48/48 [==============================] - 4s 75ms/step - loss: 0.6129 - accuracy: 0.8314 - val_loss: 0.4927 - val_accuracy: 0.8875\n",
            "Epoch 152/250\n",
            "48/48 [==============================] - 4s 76ms/step - loss: 0.6065 - accuracy: 0.8273 - val_loss: 0.4856 - val_accuracy: 0.8947\n",
            "Epoch 153/250\n",
            "48/48 [==============================] - 4s 76ms/step - loss: 0.5945 - accuracy: 0.8302 - val_loss: 0.4786 - val_accuracy: 0.8911\n",
            "Epoch 154/250\n",
            "48/48 [==============================] - 4s 77ms/step - loss: 0.5992 - accuracy: 0.8307 - val_loss: 0.4728 - val_accuracy: 0.8947\n",
            "Epoch 155/250\n",
            "48/48 [==============================] - 4s 77ms/step - loss: 0.6051 - accuracy: 0.8334 - val_loss: 0.4757 - val_accuracy: 0.9002\n",
            "Epoch 156/250\n",
            "48/48 [==============================] - 4s 77ms/step - loss: 0.5908 - accuracy: 0.8303 - val_loss: 0.4689 - val_accuracy: 0.8984\n",
            "Epoch 157/250\n",
            "48/48 [==============================] - 4s 76ms/step - loss: 0.5966 - accuracy: 0.8298 - val_loss: 0.4721 - val_accuracy: 0.8929\n",
            "Epoch 158/250\n",
            "48/48 [==============================] - 4s 75ms/step - loss: 0.5849 - accuracy: 0.8346 - val_loss: 0.4701 - val_accuracy: 0.8947\n",
            "Epoch 159/250\n",
            "48/48 [==============================] - 4s 76ms/step - loss: 0.5844 - accuracy: 0.8393 - val_loss: 0.4639 - val_accuracy: 0.8929\n",
            "Epoch 160/250\n",
            "48/48 [==============================] - 4s 76ms/step - loss: 0.5700 - accuracy: 0.8413 - val_loss: 0.4591 - val_accuracy: 0.8947\n",
            "Epoch 161/250\n",
            "48/48 [==============================] - 4s 76ms/step - loss: 0.5942 - accuracy: 0.8300 - val_loss: 0.4558 - val_accuracy: 0.9002\n",
            "Epoch 162/250\n",
            "48/48 [==============================] - 4s 76ms/step - loss: 0.5871 - accuracy: 0.8354 - val_loss: 0.4620 - val_accuracy: 0.8966\n",
            "Epoch 163/250\n",
            "48/48 [==============================] - 4s 76ms/step - loss: 0.5503 - accuracy: 0.8510 - val_loss: 0.4641 - val_accuracy: 0.8893\n",
            "Epoch 164/250\n",
            "48/48 [==============================] - 4s 75ms/step - loss: 0.5674 - accuracy: 0.8455 - val_loss: 0.4625 - val_accuracy: 0.8893\n",
            "Epoch 165/250\n",
            "48/48 [==============================] - 4s 76ms/step - loss: 0.5488 - accuracy: 0.8444 - val_loss: 0.4591 - val_accuracy: 0.9002\n",
            "Epoch 166/250\n",
            "48/48 [==============================] - 4s 76ms/step - loss: 0.5688 - accuracy: 0.8430 - val_loss: 0.4535 - val_accuracy: 0.9020\n",
            "Epoch 167/250\n",
            "48/48 [==============================] - 4s 76ms/step - loss: 0.5432 - accuracy: 0.8570 - val_loss: 0.4528 - val_accuracy: 0.9002\n",
            "Epoch 168/250\n",
            "48/48 [==============================] - 4s 76ms/step - loss: 0.5532 - accuracy: 0.8400 - val_loss: 0.4478 - val_accuracy: 0.8947\n",
            "Epoch 169/250\n",
            "48/48 [==============================] - 4s 76ms/step - loss: 0.5634 - accuracy: 0.8434 - val_loss: 0.4467 - val_accuracy: 0.8966\n",
            "Epoch 170/250\n",
            "48/48 [==============================] - 4s 76ms/step - loss: 0.5657 - accuracy: 0.8393 - val_loss: 0.4440 - val_accuracy: 0.9038\n",
            "Epoch 171/250\n",
            "48/48 [==============================] - 4s 76ms/step - loss: 0.5649 - accuracy: 0.8359 - val_loss: 0.4399 - val_accuracy: 0.9056\n",
            "Epoch 172/250\n",
            "48/48 [==============================] - 4s 76ms/step - loss: 0.5475 - accuracy: 0.8432 - val_loss: 0.4304 - val_accuracy: 0.9074\n",
            "Epoch 173/250\n",
            "48/48 [==============================] - 4s 76ms/step - loss: 0.5480 - accuracy: 0.8530 - val_loss: 0.4361 - val_accuracy: 0.9020\n",
            "Epoch 174/250\n",
            "48/48 [==============================] - 4s 76ms/step - loss: 0.5462 - accuracy: 0.8450 - val_loss: 0.4376 - val_accuracy: 0.8929\n",
            "Epoch 175/250\n",
            "48/48 [==============================] - 4s 76ms/step - loss: 0.5628 - accuracy: 0.8374 - val_loss: 0.4431 - val_accuracy: 0.8966\n",
            "Epoch 176/250\n",
            "48/48 [==============================] - 4s 76ms/step - loss: 0.5468 - accuracy: 0.8489 - val_loss: 0.4455 - val_accuracy: 0.8893\n",
            "Epoch 177/250\n",
            "48/48 [==============================] - 4s 76ms/step - loss: 0.5444 - accuracy: 0.8493 - val_loss: 0.4287 - val_accuracy: 0.8947\n",
            "Epoch 178/250\n",
            "48/48 [==============================] - 4s 76ms/step - loss: 0.5361 - accuracy: 0.8536 - val_loss: 0.4242 - val_accuracy: 0.9093\n",
            "Epoch 179/250\n",
            "48/48 [==============================] - 4s 75ms/step - loss: 0.5396 - accuracy: 0.8585 - val_loss: 0.4365 - val_accuracy: 0.8911\n",
            "Epoch 180/250\n",
            "48/48 [==============================] - 4s 76ms/step - loss: 0.5560 - accuracy: 0.8417 - val_loss: 0.4291 - val_accuracy: 0.9002\n",
            "Epoch 181/250\n",
            "48/48 [==============================] - 4s 76ms/step - loss: 0.5369 - accuracy: 0.8534 - val_loss: 0.4244 - val_accuracy: 0.9038\n",
            "Epoch 182/250\n",
            "48/48 [==============================] - 4s 75ms/step - loss: 0.5260 - accuracy: 0.8583 - val_loss: 0.4289 - val_accuracy: 0.9074\n",
            "Epoch 183/250\n",
            "48/48 [==============================] - 4s 77ms/step - loss: 0.5448 - accuracy: 0.8456 - val_loss: 0.4246 - val_accuracy: 0.9002\n",
            "Epoch 184/250\n",
            "48/48 [==============================] - 4s 76ms/step - loss: 0.5157 - accuracy: 0.8677 - val_loss: 0.4399 - val_accuracy: 0.8984\n",
            "Epoch 185/250\n",
            "48/48 [==============================] - 4s 76ms/step - loss: 0.5261 - accuracy: 0.8568 - val_loss: 0.4203 - val_accuracy: 0.9020\n",
            "Epoch 186/250\n",
            "48/48 [==============================] - 4s 76ms/step - loss: 0.5428 - accuracy: 0.8443 - val_loss: 0.4222 - val_accuracy: 0.9002\n",
            "Epoch 187/250\n",
            "48/48 [==============================] - 4s 76ms/step - loss: 0.5214 - accuracy: 0.8616 - val_loss: 0.4088 - val_accuracy: 0.9093\n",
            "Epoch 188/250\n",
            "48/48 [==============================] - 4s 76ms/step - loss: 0.5072 - accuracy: 0.8628 - val_loss: 0.4111 - val_accuracy: 0.9038\n",
            "Epoch 189/250\n",
            "48/48 [==============================] - 4s 75ms/step - loss: 0.5300 - accuracy: 0.8546 - val_loss: 0.4095 - val_accuracy: 0.8984\n",
            "Epoch 190/250\n",
            "48/48 [==============================] - 4s 76ms/step - loss: 0.5274 - accuracy: 0.8560 - val_loss: 0.4099 - val_accuracy: 0.9056\n",
            "Epoch 191/250\n",
            "48/48 [==============================] - 4s 76ms/step - loss: 0.5186 - accuracy: 0.8586 - val_loss: 0.4087 - val_accuracy: 0.9093\n",
            "Epoch 192/250\n",
            "48/48 [==============================] - 4s 76ms/step - loss: 0.5389 - accuracy: 0.8486 - val_loss: 0.4245 - val_accuracy: 0.9111\n",
            "Epoch 193/250\n",
            "48/48 [==============================] - 4s 76ms/step - loss: 0.5212 - accuracy: 0.8525 - val_loss: 0.4165 - val_accuracy: 0.9111\n",
            "Epoch 194/250\n",
            "48/48 [==============================] - 4s 76ms/step - loss: 0.5104 - accuracy: 0.8544 - val_loss: 0.4046 - val_accuracy: 0.9056\n",
            "Epoch 195/250\n",
            "48/48 [==============================] - 4s 77ms/step - loss: 0.5078 - accuracy: 0.8544 - val_loss: 0.4026 - val_accuracy: 0.9056\n",
            "Epoch 196/250\n",
            "48/48 [==============================] - 4s 75ms/step - loss: 0.5126 - accuracy: 0.8645 - val_loss: 0.3985 - val_accuracy: 0.9129\n",
            "Epoch 197/250\n",
            "48/48 [==============================] - 4s 76ms/step - loss: 0.5087 - accuracy: 0.8568 - val_loss: 0.4063 - val_accuracy: 0.9147\n",
            "Epoch 198/250\n",
            "48/48 [==============================] - 4s 76ms/step - loss: 0.5118 - accuracy: 0.8618 - val_loss: 0.4038 - val_accuracy: 0.9147\n",
            "Epoch 199/250\n",
            "48/48 [==============================] - 4s 76ms/step - loss: 0.4974 - accuracy: 0.8661 - val_loss: 0.4045 - val_accuracy: 0.8984\n",
            "Epoch 200/250\n",
            "48/48 [==============================] - 4s 76ms/step - loss: 0.5160 - accuracy: 0.8563 - val_loss: 0.3945 - val_accuracy: 0.9020\n",
            "Epoch 201/250\n",
            "48/48 [==============================] - 4s 77ms/step - loss: 0.4982 - accuracy: 0.8563 - val_loss: 0.3971 - val_accuracy: 0.9074\n",
            "Epoch 202/250\n",
            "48/48 [==============================] - 4s 76ms/step - loss: 0.4914 - accuracy: 0.8662 - val_loss: 0.3942 - val_accuracy: 0.9165\n",
            "Epoch 203/250\n",
            "48/48 [==============================] - 4s 76ms/step - loss: 0.5080 - accuracy: 0.8644 - val_loss: 0.3856 - val_accuracy: 0.9111\n",
            "Epoch 204/250\n",
            "48/48 [==============================] - 4s 75ms/step - loss: 0.4948 - accuracy: 0.8679 - val_loss: 0.3915 - val_accuracy: 0.9147\n",
            "Epoch 205/250\n",
            "48/48 [==============================] - 4s 76ms/step - loss: 0.4997 - accuracy: 0.8626 - val_loss: 0.3926 - val_accuracy: 0.9147\n",
            "Epoch 206/250\n",
            "48/48 [==============================] - 4s 76ms/step - loss: 0.4978 - accuracy: 0.8663 - val_loss: 0.3974 - val_accuracy: 0.9038\n",
            "Epoch 207/250\n",
            "48/48 [==============================] - 4s 76ms/step - loss: 0.4767 - accuracy: 0.8734 - val_loss: 0.3986 - val_accuracy: 0.9093\n",
            "Epoch 208/250\n",
            "48/48 [==============================] - 4s 76ms/step - loss: 0.4951 - accuracy: 0.8682 - val_loss: 0.3925 - val_accuracy: 0.9038\n",
            "Epoch 209/250\n",
            "48/48 [==============================] - 4s 76ms/step - loss: 0.4953 - accuracy: 0.8627 - val_loss: 0.3903 - val_accuracy: 0.9183\n",
            "Epoch 210/250\n",
            "48/48 [==============================] - 4s 76ms/step - loss: 0.4982 - accuracy: 0.8631 - val_loss: 0.3836 - val_accuracy: 0.9147\n",
            "Epoch 211/250\n",
            "48/48 [==============================] - 4s 77ms/step - loss: 0.4813 - accuracy: 0.8691 - val_loss: 0.3847 - val_accuracy: 0.9074\n",
            "Epoch 212/250\n",
            "48/48 [==============================] - 4s 76ms/step - loss: 0.4868 - accuracy: 0.8676 - val_loss: 0.3854 - val_accuracy: 0.9129\n",
            "Epoch 213/250\n",
            "48/48 [==============================] - 4s 76ms/step - loss: 0.4824 - accuracy: 0.8694 - val_loss: 0.3811 - val_accuracy: 0.9147\n",
            "Epoch 214/250\n",
            "48/48 [==============================] - 4s 76ms/step - loss: 0.4804 - accuracy: 0.8717 - val_loss: 0.3823 - val_accuracy: 0.9183\n",
            "Epoch 215/250\n",
            "48/48 [==============================] - 4s 76ms/step - loss: 0.4842 - accuracy: 0.8667 - val_loss: 0.3877 - val_accuracy: 0.9129\n",
            "Epoch 216/250\n",
            "48/48 [==============================] - 4s 76ms/step - loss: 0.4755 - accuracy: 0.8737 - val_loss: 0.3895 - val_accuracy: 0.9093\n",
            "Epoch 217/250\n",
            "48/48 [==============================] - 4s 77ms/step - loss: 0.4667 - accuracy: 0.8673 - val_loss: 0.3763 - val_accuracy: 0.9147\n",
            "Epoch 218/250\n",
            "48/48 [==============================] - 4s 76ms/step - loss: 0.4792 - accuracy: 0.8638 - val_loss: 0.3744 - val_accuracy: 0.9165\n",
            "Epoch 219/250\n",
            "48/48 [==============================] - 4s 76ms/step - loss: 0.4963 - accuracy: 0.8670 - val_loss: 0.3776 - val_accuracy: 0.9147\n",
            "Epoch 220/250\n",
            "48/48 [==============================] - 4s 76ms/step - loss: 0.4609 - accuracy: 0.8802 - val_loss: 0.3718 - val_accuracy: 0.9147\n",
            "Epoch 221/250\n",
            "48/48 [==============================] - 4s 76ms/step - loss: 0.4957 - accuracy: 0.8645 - val_loss: 0.3763 - val_accuracy: 0.9238\n",
            "Epoch 222/250\n",
            "48/48 [==============================] - 4s 76ms/step - loss: 0.4694 - accuracy: 0.8730 - val_loss: 0.3757 - val_accuracy: 0.9183\n",
            "Epoch 223/250\n",
            "48/48 [==============================] - 4s 76ms/step - loss: 0.4652 - accuracy: 0.8776 - val_loss: 0.3745 - val_accuracy: 0.9147\n",
            "Epoch 224/250\n",
            "48/48 [==============================] - 4s 76ms/step - loss: 0.4666 - accuracy: 0.8776 - val_loss: 0.3703 - val_accuracy: 0.9183\n",
            "Epoch 225/250\n",
            "48/48 [==============================] - 4s 76ms/step - loss: 0.4629 - accuracy: 0.8732 - val_loss: 0.3669 - val_accuracy: 0.9238\n",
            "Epoch 226/250\n",
            "48/48 [==============================] - 4s 76ms/step - loss: 0.4612 - accuracy: 0.8758 - val_loss: 0.3760 - val_accuracy: 0.9093\n",
            "Epoch 227/250\n",
            "48/48 [==============================] - 4s 76ms/step - loss: 0.4603 - accuracy: 0.8778 - val_loss: 0.3640 - val_accuracy: 0.9201\n",
            "Epoch 228/250\n",
            "48/48 [==============================] - 4s 76ms/step - loss: 0.4581 - accuracy: 0.8791 - val_loss: 0.3582 - val_accuracy: 0.9147\n",
            "Epoch 229/250\n",
            "48/48 [==============================] - 4s 77ms/step - loss: 0.4556 - accuracy: 0.8764 - val_loss: 0.3577 - val_accuracy: 0.9220\n",
            "Epoch 230/250\n",
            "48/48 [==============================] - 4s 75ms/step - loss: 0.4572 - accuracy: 0.8856 - val_loss: 0.3563 - val_accuracy: 0.9183\n",
            "Epoch 231/250\n",
            "48/48 [==============================] - 4s 77ms/step - loss: 0.4495 - accuracy: 0.8777 - val_loss: 0.3548 - val_accuracy: 0.9165\n",
            "Epoch 232/250\n",
            "48/48 [==============================] - 4s 76ms/step - loss: 0.4457 - accuracy: 0.8813 - val_loss: 0.3534 - val_accuracy: 0.9201\n",
            "Epoch 233/250\n",
            "48/48 [==============================] - 4s 76ms/step - loss: 0.4598 - accuracy: 0.8775 - val_loss: 0.3617 - val_accuracy: 0.9220\n",
            "Epoch 234/250\n",
            "48/48 [==============================] - 4s 76ms/step - loss: 0.4448 - accuracy: 0.8825 - val_loss: 0.3647 - val_accuracy: 0.9183\n",
            "Epoch 235/250\n",
            "48/48 [==============================] - 4s 76ms/step - loss: 0.4460 - accuracy: 0.8875 - val_loss: 0.3567 - val_accuracy: 0.9147\n",
            "Epoch 236/250\n",
            "48/48 [==============================] - 4s 77ms/step - loss: 0.4493 - accuracy: 0.8845 - val_loss: 0.3652 - val_accuracy: 0.9165\n",
            "Epoch 237/250\n",
            "48/48 [==============================] - 4s 76ms/step - loss: 0.4412 - accuracy: 0.8765 - val_loss: 0.3610 - val_accuracy: 0.9256\n",
            "Epoch 238/250\n",
            "48/48 [==============================] - 4s 77ms/step - loss: 0.4421 - accuracy: 0.8843 - val_loss: 0.3531 - val_accuracy: 0.9238\n",
            "Epoch 239/250\n",
            "48/48 [==============================] - 4s 76ms/step - loss: 0.4307 - accuracy: 0.8851 - val_loss: 0.3516 - val_accuracy: 0.9165\n",
            "Epoch 240/250\n",
            "48/48 [==============================] - 4s 77ms/step - loss: 0.4620 - accuracy: 0.8771 - val_loss: 0.3466 - val_accuracy: 0.9274\n",
            "Epoch 241/250\n",
            "48/48 [==============================] - 4s 76ms/step - loss: 0.4400 - accuracy: 0.8806 - val_loss: 0.3507 - val_accuracy: 0.9220\n",
            "Epoch 242/250\n",
            "48/48 [==============================] - 4s 76ms/step - loss: 0.4382 - accuracy: 0.8829 - val_loss: 0.3516 - val_accuracy: 0.9201\n",
            "Epoch 243/250\n",
            "48/48 [==============================] - 4s 76ms/step - loss: 0.4398 - accuracy: 0.8756 - val_loss: 0.3494 - val_accuracy: 0.9129\n",
            "Epoch 244/250\n",
            "48/48 [==============================] - 4s 76ms/step - loss: 0.4469 - accuracy: 0.8774 - val_loss: 0.3467 - val_accuracy: 0.9165\n",
            "Epoch 245/250\n",
            "48/48 [==============================] - 4s 76ms/step - loss: 0.4363 - accuracy: 0.8860 - val_loss: 0.3392 - val_accuracy: 0.9238\n",
            "Epoch 246/250\n",
            "48/48 [==============================] - 4s 77ms/step - loss: 0.4267 - accuracy: 0.8808 - val_loss: 0.3421 - val_accuracy: 0.9183\n",
            "Epoch 247/250\n",
            "48/48 [==============================] - 4s 77ms/step - loss: 0.4459 - accuracy: 0.8824 - val_loss: 0.3419 - val_accuracy: 0.9183\n",
            "Epoch 248/250\n",
            "48/48 [==============================] - 4s 77ms/step - loss: 0.4248 - accuracy: 0.8861 - val_loss: 0.3525 - val_accuracy: 0.9220\n",
            "Epoch 249/250\n",
            "48/48 [==============================] - 4s 77ms/step - loss: 0.4455 - accuracy: 0.8738 - val_loss: 0.3436 - val_accuracy: 0.9256\n",
            "Epoch 250/250\n",
            "48/48 [==============================] - 4s 77ms/step - loss: 0.4402 - accuracy: 0.8756 - val_loss: 0.3439 - val_accuracy: 0.9274\n"
          ],
          "name": "stdout"
        }
      ]
    },
    {
      "cell_type": "markdown",
      "metadata": {
        "id": "ri4t_docLKfp"
      },
      "source": [
        "## **8. Evaluating model through different performance metrics**"
      ]
    },
    {
      "cell_type": "code",
      "metadata": {
        "id": "93hoIsyCLU_t"
      },
      "source": [
        "labels = ['Air Conditioner', 'Car Horn', 'Children Playing', 'Dog bark', 'Drilling', 'Engine Idling', 'Gun Shot', 'Jackhammer', 'Siren', 'Street Music']"
      ],
      "execution_count": null,
      "outputs": []
    },
    {
      "cell_type": "markdown",
      "metadata": {
        "id": "dPQerLjHM6Mn"
      },
      "source": [
        "### **8.1 Accuracy**"
      ]
    },
    {
      "cell_type": "code",
      "metadata": {
        "colab": {
          "base_uri": "https://localhost:8080/"
        },
        "id": "t15jY77_jG7S",
        "outputId": "93bb3f42-9972-4421-9bed-b679a10808ac"
      },
      "source": [
        "model_evaluation_report(model, X_train, y_train_encoded, X_test, y_test_encoded)"
      ],
      "execution_count": null,
      "outputs": [
        {
          "output_type": "stream",
          "text": [
            "                    LOSS      ACCURACY\n",
            "--------------------------------------\n",
            "Training:         0.3209       93.1467\n",
            "Test:             0.3827       90.3148\n",
            "Normal diff         16.14 \n"
          ],
          "name": "stdout"
        }
      ]
    },
    {
      "cell_type": "markdown",
      "metadata": {
        "id": "FiVYhcSzM_j3"
      },
      "source": [
        "### **8.2 Visualizing Accuracy in Each Epoch**"
      ]
    },
    {
      "cell_type": "code",
      "metadata": {
        "id": "VYxvBPDUDZO2",
        "colab": {
          "base_uri": "https://localhost:8080/",
          "height": 352
        },
        "outputId": "b09bc169-5379-435c-c934-c37dbf6844e2"
      },
      "source": [
        "acc_plot(history)"
      ],
      "execution_count": null,
      "outputs": [
        {
          "output_type": "display_data",
          "data": {
            "image/png": "[encoded data removed]",
            "text/plain": [
              "<Figure size 576x360 with 1 Axes>"
            ]
          },
          "metadata": {
            "tags": [],
            "needs_background": "light"
          }
        }
      ]
    },
    {
      "cell_type": "markdown",
      "metadata": {
        "id": "lVr_UF0oNccl"
      },
      "source": [
        "### **8.3 Visualizing Loss in Each Epoch**"
      ]
    },
    {
      "cell_type": "code",
      "metadata": {
        "id": "lttalft7D-r0",
        "colab": {
          "base_uri": "https://localhost:8080/",
          "height": 352
        },
        "outputId": "efc833fb-b3a3-4ef8-be48-4ea707c18ac0"
      },
      "source": [
        "loss_plot(history)"
      ],
      "execution_count": null,
      "outputs": [
        {
          "output_type": "display_data",
          "data": {
            "image/png": "[encoded data removed]",
            "text/plain": [
              "<Figure size 576x360 with 1 Axes>"
            ]
          },
          "metadata": {
            "tags": []
          }
        }
      ]
    },
    {
      "cell_type": "markdown",
      "metadata": {
        "id": "lvGhHvkFN372"
      },
      "source": [
        "### **8.4 Confusion Matrix**"
      ]
    },
    {
      "cell_type": "code",
      "metadata": {
        "colab": {
          "base_uri": "https://localhost:8080/"
        },
        "id": "328UZzVgj9G4",
        "outputId": "138b016e-0cf5-4464-ab97-3004747f3952"
      },
      "source": [
        "y_probs = model.predict(X_test, verbose=0)\n",
        "yhat_probs = np.argmax(y_probs, axis=1) #Getting predicted labels\n",
        "y_trues = np.argmax(y_test_encoded, axis=1)"
      ],
      "execution_count": null,
      "outputs": [
        {
          "output_type": "stream",
          "text": [
            "/usr/local/lib/python3.7/dist-packages/ipykernel_launcher.py:9: SettingWithCopyWarning: \n",
            "A value is trying to be set on a copy of a slice from a DataFrame.\n",
            "Try using .loc[row_indexer,col_indexer] = value instead\n",
            "\n",
            "See the caveats in the documentation: https://pandas.pydata.org/pandas-docs/stable/user_guide/indexing.html#returning-a-view-versus-a-copy\n",
            "  if __name__ == '__main__':\n"
          ],
          "name": "stderr"
        }
      ]
    },
    {
      "cell_type": "code",
      "metadata": {
        "colab": {
          "base_uri": "https://localhost:8080/"
        },
        "id": "pqx8vsogkHZf",
        "outputId": "b9a6e9d7-fded-4b13-95fb-e5b3d56e2bb1"
      },
      "source": [
        "cm = confusion_matrix(y_trues, yhat_probs)\n",
        "cm"
      ],
      "execution_count": null,
      "outputs": [
        {
          "output_type": "execute_result",
          "data": {
            "text/plain": [
              "array([[178,   0,   5,   0,   0,   0,   0,   1,   1,   3],\n",
              "       [  1,  70,   0,   2,   0,   1,   0,   0,   0,   3],\n",
              "       [  7,   0, 178,   3,   0,   2,   1,   0,   3,  13],\n",
              "       [  4,   1,  13, 147,   3,   2,   2,   0,   4,   2],\n",
              "       [  2,   3,   1,   6, 146,   0,   2,   6,   4,   0],\n",
              "       [  4,   0,   2,   1,   0, 185,   1,   1,   0,   1],\n",
              "       [  0,   0,   0,   2,   1,   0,  80,   0,   0,   0],\n",
              "       [  3,   1,   0,   1,   2,   0,   0, 183,   0,   0],\n",
              "       [  0,   1,   0,   4,   0,   1,   0,   0, 164,   1],\n",
              "       [ 10,   0,  13,   3,   0,   1,   0,   1,   4, 161]])"
            ]
          },
          "metadata": {
            "tags": []
          },
          "execution_count": 44
        }
      ]
    },
    {
      "cell_type": "code",
      "metadata": {
        "colab": {
          "base_uri": "https://localhost:8080/",
          "height": 497
        },
        "id": "qmcQRkKwkLRY",
        "outputId": "9cd6d676-45df-4288-8e96-3c006f832f79"
      },
      "source": [
        "def display_cm():\n",
        "  CM = confusion_matrix(y_trues, yhat_probs)\n",
        "  f, ax = plt.subplots(figsize=(8,8))\n",
        "  sb.heatmap(CM,annot = True, linewidths=0.5,linecolor=\"white\",fmt=\".0f\",ax=ax, cmap=plt.cm.Pastel1_r)\n",
        "  plt.xlabel(\"Prediction(Ypred)\")\n",
        "  plt.ylabel(\"Ytrue\")\n",
        "  plt.show()\n",
        "display_cm()"
      ],
      "execution_count": null,
      "outputs": [
        {
          "output_type": "display_data",
          "data": {
            "image/png": "[encoded data removed]",
            "text/plain": [
              "<Figure size 576x576 with 2 Axes>"
            ]
          },
          "metadata": {
            "tags": []
          }
        }
      ]
    },
    {
      "cell_type": "markdown",
      "metadata": {
        "id": "VlpS_n7POn2v"
      },
      "source": [
        "### **8.5 Classification Report**"
      ]
    },
    {
      "cell_type": "code",
      "metadata": {
        "colab": {
          "base_uri": "https://localhost:8080/"
        },
        "id": "vB5rOVjqmi3K",
        "outputId": "4abc3e7e-3676-456e-a0bd-32fc8cdfd8ac"
      },
      "source": [
        "re = classification_report(y_trues, yhat_probs, labels=[0,1,2,3,4,5,6,7,8,9], target_names=labels)\n",
        "print(re)"
      ],
      "execution_count": null,
      "outputs": [
        {
          "output_type": "stream",
          "text": [
            "                  precision    recall  f1-score   support\n",
            "\n",
            " Air Conditioner       0.85      0.95      0.90       188\n",
            "        Car Horn       0.92      0.91      0.92        77\n",
            "Children Playing       0.84      0.86      0.85       207\n",
            "        Dog bark       0.87      0.83      0.85       178\n",
            "        Drilling       0.96      0.86      0.91       170\n",
            "   Engine Idling       0.96      0.95      0.96       195\n",
            "        Gun Shot       0.93      0.96      0.95        83\n",
            "      Jackhammer       0.95      0.96      0.96       190\n",
            "           Siren       0.91      0.96      0.93       171\n",
            "    Street Music       0.88      0.83      0.85       193\n",
            "\n",
            "        accuracy                           0.90      1652\n",
            "       macro avg       0.91      0.91      0.91      1652\n",
            "    weighted avg       0.90      0.90      0.90      1652\n",
            "\n"
          ],
          "name": "stdout"
        }
      ]
    },
    {
      "cell_type": "markdown",
      "metadata": {
        "id": "mtzt8vzwO6os"
      },
      "source": [
        "### **8.6 Accuracy per Class**"
      ]
    },
    {
      "cell_type": "code",
      "metadata": {
        "colab": {
          "base_uri": "https://localhost:8080/",
          "height": 343
        },
        "id": "Gg4_4oDglOVg",
        "outputId": "af5c3ef7-35b2-48ad-d4f9-d66ed4d3e0d1"
      },
      "source": [
        "accuracies = acc_per_class(cm)\n",
        "pd.DataFrame({\n",
        "    'CLASS': labels,\n",
        "    'ACCURACY': accuracies}).sort_values(by=\"ACCURACY\", ascending=False)"
      ],
      "execution_count": null,
      "outputs": [
        {
          "output_type": "execute_result",
          "data": {
            "text/html": [
              "<div>\n",
              "<style scoped>\n",
              "    .dataframe tbody tr th:only-of-type {\n",
              "        vertical-align: middle;\n",
              "    }\n",
              "\n",
              "    .dataframe tbody tr th {\n",
              "        vertical-align: top;\n",
              "    }\n",
              "\n",
              "    .dataframe thead th {\n",
              "        text-align: right;\n",
              "    }\n",
              "</style>\n",
              "<table border=\"1\" class=\"dataframe\">\n",
              "  <thead>\n",
              "    <tr style=\"text-align: right;\">\n",
              "      <th></th>\n",
              "      <th>CLASS</th>\n",
              "      <th>ACCURACY</th>\n",
              "    </tr>\n",
              "  </thead>\n",
              "  <tbody>\n",
              "    <tr>\n",
              "      <th>6</th>\n",
              "      <td>Gun Shot</td>\n",
              "      <td>96.385542</td>\n",
              "    </tr>\n",
              "    <tr>\n",
              "      <th>7</th>\n",
              "      <td>Jackhammer</td>\n",
              "      <td>96.315789</td>\n",
              "    </tr>\n",
              "    <tr>\n",
              "      <th>8</th>\n",
              "      <td>Siren</td>\n",
              "      <td>95.906433</td>\n",
              "    </tr>\n",
              "    <tr>\n",
              "      <th>5</th>\n",
              "      <td>Engine Idling</td>\n",
              "      <td>94.871795</td>\n",
              "    </tr>\n",
              "    <tr>\n",
              "      <th>0</th>\n",
              "      <td>Air Conditioner</td>\n",
              "      <td>94.680851</td>\n",
              "    </tr>\n",
              "    <tr>\n",
              "      <th>1</th>\n",
              "      <td>Car Horn</td>\n",
              "      <td>90.909091</td>\n",
              "    </tr>\n",
              "    <tr>\n",
              "      <th>2</th>\n",
              "      <td>Children Playing</td>\n",
              "      <td>85.990338</td>\n",
              "    </tr>\n",
              "    <tr>\n",
              "      <th>4</th>\n",
              "      <td>Drilling</td>\n",
              "      <td>85.882353</td>\n",
              "    </tr>\n",
              "    <tr>\n",
              "      <th>9</th>\n",
              "      <td>Street Music</td>\n",
              "      <td>83.419689</td>\n",
              "    </tr>\n",
              "    <tr>\n",
              "      <th>3</th>\n",
              "      <td>Dog bark</td>\n",
              "      <td>82.584270</td>\n",
              "    </tr>\n",
              "  </tbody>\n",
              "</table>\n",
              "</div>"
            ],
            "text/plain": [
              "              CLASS   ACCURACY\n",
              "6          Gun Shot  96.385542\n",
              "7        Jackhammer  96.315789\n",
              "8             Siren  95.906433\n",
              "5     Engine Idling  94.871795\n",
              "0   Air Conditioner  94.680851\n",
              "1          Car Horn  90.909091\n",
              "2  Children Playing  85.990338\n",
              "4          Drilling  85.882353\n",
              "9      Street Music  83.419689\n",
              "3          Dog bark  82.584270"
            ]
          },
          "metadata": {
            "tags": []
          },
          "execution_count": 57
        }
      ]
    },
    {
      "cell_type": "markdown",
      "metadata": {
        "id": "B5sCSKuYPeHy"
      },
      "source": [
        "**Done :]**"
      ]
    }
  ]
}